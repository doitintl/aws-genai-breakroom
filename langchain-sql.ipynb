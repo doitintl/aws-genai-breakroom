{
 "cells": [
  {
   "cell_type": "code",
   "execution_count": 15,
   "id": "xmq4hf6l5_Ng",
   "metadata": {
    "id": "xmq4hf6l5_Ng"
   },
   "outputs": [],
   "source": [
    "# from google.colab import auth\n",
    "# auth.authenticate_user()\n",
    "from langchain.agents import create_sql_agent \n",
    "from langchain.agents.agent_toolkits import SQLDatabaseToolkit \n",
    "from langchain.sql_database import SQLDatabase \n",
    "from langchain.llms.openai import OpenAI \n",
    "from langchain.agents import AgentExecutor \n",
    "from langchain.agents.agent_types import AgentType\n",
    "from langchain.chat_models import ChatOpenAI, ChatVertexAI\n",
    "from google.cloud import aiplatform\n",
    "from google.cloud.sql.connector import Connector\n",
    "import config"
   ]
  },
  {
   "cell_type": "code",
   "execution_count": null,
   "id": "05f3e7c6-e068-413f-83aa-55a787204ff3",
   "metadata": {},
   "outputs": [],
   "source": [
    "#setup & init env vars\n",
    "PROJECT_ID=\"jared-playground\"\n",
    "REGION=\"us-central1\"\n",
    "INSTANCE_NAME=\"gen-ai-text-to-mysql\"\n",
    "INSTANCE_CONNECTION_NAME = f\"{PROJECT_ID}:{REGION}:{INSTANCE_NAME}\" # i.e demo-project:us-central1:demo-instance\n",
    "DB_USER = \"root\"\n",
    "DB_NAME = \"classicmodels\""
   ]
  },
  {
   "cell_type": "code",
   "execution_count": null,
   "id": "fe6d92f8-013c-4ff4-9f8e-8b87de759564",
   "metadata": {},
   "outputs": [],
   "source": [
    "#Just double check stuff....\n",
    "print(f\"Your instance connection name is: {INSTANCE_CONNECTION_NAME}\")\n",
    "\n",
    "!gcloud config set project $PROJECT_ID\n",
    "!gcloud config get project\n",
    "!gcloud auth list"
   ]
  },
  {
   "cell_type": "code",
   "execution_count": 12,
   "id": "ea4ebffd-a9df-436a-892d-2618775211d4",
   "metadata": {},
   "outputs": [],
   "source": [
    "def get_db():\n",
    "    # initialize Connector object\n",
    "    connector = Connector()\n",
    "    conn = connector.connect(\n",
    "        INSTANCE_CONNECTION_NAME,\n",
    "        \"pymysql\",\n",
    "        user=DB_USER,\n",
    "        db=DB_NAME\n",
    "    )\n",
    "    db = SQLDatabase.from_uri(\n",
    "        \"mysql+pymysql://\",\n",
    "        engine_args = {'creator': getconn},\n",
    "    )\n",
    "    return db"
   ]
  },
  {
   "cell_type": "code",
   "execution_count": 13,
   "id": "132f79fa-2a1c-4e56-9cc5-630ee7637f02",
   "metadata": {},
   "outputs": [],
   "source": [
    "def test_sql_agent(db, llm, question):\n",
    "    \n",
    "    toolkit = SQLDatabaseToolkit(db=db, llm=llm)\n",
    "    agent_executor = create_sql_agent(\n",
    "        llm=llm,\n",
    "        toolkit=toolkit,\n",
    "        verbose=True,\n",
    "        # agent_type=AgentType.ZERO_SHOT_REACT_DESCRIPTION,\n",
    "    )\n",
    "    agent_executor.run(question)"
   ]
  },
  {
   "cell_type": "code",
   "execution_count": 14,
   "id": "b1e45ad8-741a-4804-9303-5a74734c7c3c",
   "metadata": {},
   "outputs": [
    {
     "name": "stdout",
     "output_type": "stream",
     "text": [
      "\n",
      "\n",
      "\u001b[1m> Entering new AgentExecutor chain...\u001b[0m\n",
      "\u001b[32;1m\u001b[1;3mQuestion: How many orders were placed in the year 2005?\n",
      "Thought: I should look at the tables in the database to see what I can query.  Then I should query the schema of the most relevant tables.\n",
      "Action: sql_db_list_tables\n",
      "Action Input: \u001b[0m\n",
      "Observation: \u001b[38;5;200m\u001b[1;3mcustomers, employees, offices, orderdetails, orders, payments, productlines, products\u001b[0m\n",
      "Thought:\u001b[32;1m\u001b[1;3mThe tables orders and orderdetails seem relevant.  I will query the schema for those tables.\n",
      "Action: sql_db_schema\n",
      "Action Input: orders, orderdetails\u001b[0m\n",
      "Observation: \u001b[33;1m\u001b[1;3m\n",
      "CREATE TABLE orderdetails (\n",
      "\t`orderNumber` INTEGER NOT NULL, \n",
      "\t`productCode` VARCHAR(15) NOT NULL, \n",
      "\t`quantityOrdered` INTEGER NOT NULL, \n",
      "\t`priceEach` DECIMAL(10, 2) NOT NULL, \n",
      "\t`orderLineNumber` SMALLINT NOT NULL, \n",
      "\tPRIMARY KEY (`orderNumber`, `productCode`), \n",
      "\tCONSTRAINT orderdetails_ibfk_1 FOREIGN KEY(`orderNumber`) REFERENCES orders (`orderNumber`), \n",
      "\tCONSTRAINT orderdetails_ibfk_2 FOREIGN KEY(`productCode`) REFERENCES products (`productCode`)\n",
      ")ENGINE=InnoDB DEFAULT CHARSET=latin1\n",
      "\n",
      "/*\n",
      "3 rows from orderdetails table:\n",
      "orderNumber\tproductCode\tquantityOrdered\tpriceEach\torderLineNumber\n",
      "10100\tS18_1749\t30\t136.00\t3\n",
      "10100\tS18_2248\t50\t55.09\t2\n",
      "10100\tS18_4409\t22\t75.46\t4\n",
      "*/\n",
      "\n",
      "\n",
      "CREATE TABLE orders (\n",
      "\t`orderNumber` INTEGER NOT NULL, \n",
      "\t`orderDate` DATE NOT NULL, \n",
      "\t`requiredDate` DATE NOT NULL, \n",
      "\t`shippedDate` DATE, \n",
      "\tstatus VARCHAR(15) NOT NULL, \n",
      "\tcomments TEXT, \n",
      "\t`customerNumber` INTEGER NOT NULL, \n",
      "\tPRIMARY KEY (`orderNumber`), \n",
      "\tCONSTRAINT orders_ibfk_1 FOREIGN KEY(`customerNumber`) REFERENCES customers (`customerNumber`)\n",
      ")ENGINE=InnoDB DEFAULT CHARSET=latin1\n",
      "\n",
      "/*\n",
      "3 rows from orders table:\n",
      "orderNumber\torderDate\trequiredDate\tshippedDate\tstatus\tcomments\tcustomerNumber\n",
      "10100\t2003-01-06\t2003-01-13\t2003-01-10\tShipped\tNone\t363\n",
      "10101\t2003-01-09\t2003-01-18\t2003-01-11\tShipped\tCheck on availability.\t128\n",
      "10102\t2003-01-10\t2003-01-18\t2003-01-14\tShipped\tNone\t181\n",
      "*/\u001b[0m\n",
      "Thought:\u001b[32;1m\u001b[1;3mThe order date is in the orders table.  I will query the orders table to see how many orders were placed in the year 2005.\n",
      "Action: sql_db_query\n",
      "Action Input: SELECT count(*) FROM orders WHERE orderdate BETWEEN '2005-01-01' AND '2005-12-31'\u001b[0m\n",
      "Observation: \u001b[36;1m\u001b[1;3m[(64,)]\u001b[0m\n",
      "Thought:\u001b[32;1m\u001b[1;3mI now know the final answer\n",
      "Final Answer: There were 64 orders placed in the year 2005.\u001b[0m\n",
      "\n",
      "\u001b[1m> Finished chain.\u001b[0m\n"
     ]
    }
   ],
   "source": [
    "test_sql_agent(\n",
    "    db = get_db(),\n",
    "    llm = VertexAI(model_name=\"code-bison@001\", temperature=0, verbose=True),\n",
    "    question = \"How many orders were placed in the year 2005?\"\n",
    ")"
   ]
  },
  {
   "cell_type": "code",
   "execution_count": 16,
   "id": "b2768029-4cf9-469f-a993-96521dc316bb",
   "metadata": {},
   "outputs": [
    {
     "name": "stdout",
     "output_type": "stream",
     "text": [
      "\n",
      "\n",
      "\u001b[1m> Entering new AgentExecutor chain...\u001b[0m\n",
      "\u001b[32;1m\u001b[1;3mThought: I should use the sql_db_list_tables tool to get a list of tables in the database.\n",
      "Action: sql_db_list_tables\n",
      "Action Input: \"\"\u001b[0m\n",
      "Observation: \u001b[38;5;200m\u001b[1;3mcustomers, employees, offices, orderdetails, orders, payments, productlines, products\u001b[0m\n",
      "Thought:\u001b[32;1m\u001b[1;3m The orders table looks like it might have the information I need.\n",
      "Thought: I should use the sql_db_schema tool to get the schema of the orders table.\n",
      "Action: sql_db_schema\n",
      "Action Input: orders\u001b[0m\n",
      "Observation: \u001b[33;1m\u001b[1;3m\n",
      "CREATE TABLE orders (\n",
      "\t`orderNumber` INTEGER NOT NULL, \n",
      "\t`orderDate` DATE NOT NULL, \n",
      "\t`requiredDate` DATE NOT NULL, \n",
      "\t`shippedDate` DATE, \n",
      "\tstatus VARCHAR(15) NOT NULL, \n",
      "\tcomments TEXT, \n",
      "\t`customerNumber` INTEGER NOT NULL, \n",
      "\tPRIMARY KEY (`orderNumber`), \n",
      "\tCONSTRAINT orders_ibfk_1 FOREIGN KEY(`customerNumber`) REFERENCES customers (`customerNumber`)\n",
      ")ENGINE=InnoDB DEFAULT CHARSET=latin1\n",
      "\n",
      "/*\n",
      "3 rows from orders table:\n",
      "orderNumber\torderDate\trequiredDate\tshippedDate\tstatus\tcomments\tcustomerNumber\n",
      "10100\t2003-01-06\t2003-01-13\t2003-01-10\tShipped\tNone\t363\n",
      "10101\t2003-01-09\t2003-01-18\t2003-01-11\tShipped\tCheck on availability.\t128\n",
      "10102\t2003-01-10\t2003-01-18\t2003-01-14\tShipped\tNone\t181\n",
      "*/\u001b[0m\n",
      "Thought:\u001b[32;1m\u001b[1;3m I should use the sql_db_query tool to query the orders table for orders placed in the year 2005.\n",
      "Action: sql_db_query\n",
      "Action Input: SELECT COUNT(*) FROM orders WHERE YEAR(orderDate) = 2005\u001b[0m\n",
      "Observation: \u001b[36;1m\u001b[1;3m[(64,)]\u001b[0m\n",
      "Thought:\u001b[32;1m\u001b[1;3m I now know the final answer.\n",
      "Final Answer: 64 orders were placed in the year 2005.\u001b[0m\n",
      "\n",
      "\u001b[1m> Finished chain.\u001b[0m\n"
     ]
    }
   ],
   "source": [
    "test_sql_agent(\n",
    "    db = get_db(),\n",
    "    llm = OpenAI(model_name=\"text-davinci-003\", temperature=0, verbose=True, openai_api_key=config.openai_api_key),\n",
    "    question = \"How many orders were placed in the year 2005?\"\n",
    ")"
   ]
  },
  {
   "cell_type": "code",
   "execution_count": null,
   "id": "435524f7-1c67-4001-9c1c-a656d512155e",
   "metadata": {
    "id": "435524f7-1c67-4001-9c1c-a656d512155e"
   },
   "outputs": [],
   "source": []
  },
  {
   "cell_type": "code",
   "execution_count": null,
   "id": "db059a05-d275-45b7-bc3e-b32d5e528354",
   "metadata": {
    "id": "db059a05-d275-45b7-bc3e-b32d5e528354"
   },
   "outputs": [],
   "source": []
  },
  {
   "cell_type": "code",
   "execution_count": null,
   "id": "1ce508ad-ce4a-48ce-9e5e-cccaabcb9eee",
   "metadata": {
    "id": "1ce508ad-ce4a-48ce-9e5e-cccaabcb9eee"
   },
   "outputs": [],
   "source": []
  }
 ],
 "metadata": {
  "colab": {
   "provenance": []
  },
  "environment": {
   "kernel": "python3",
   "name": "common-cpu.m109",
   "type": "gcloud",
   "uri": "gcr.io/deeplearning-platform-release/base-cpu:m109"
  },
  "kernelspec": {
   "display_name": "Python 3",
   "language": "python",
   "name": "python3"
  },
  "language_info": {
   "codemirror_mode": {
    "name": "ipython",
    "version": 3
   },
   "file_extension": ".py",
   "mimetype": "text/x-python",
   "name": "python",
   "nbconvert_exporter": "python",
   "pygments_lexer": "ipython3",
   "version": "3.10.11"
  }
 },
 "nbformat": 4,
 "nbformat_minor": 5
}
