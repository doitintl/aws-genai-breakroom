{
 "cells": [
  {
   "cell_type": "code",
   "execution_count": null,
   "id": "85f7df0e-6bbe-4c9e-ae86-0d4fae0c25a0",
   "metadata": {},
   "outputs": [],
   "source": [
    "# !pip install SQLAlchemy==2.0.16\n",
    "# !pip install pymysql==1.0.3\n",
    "# !pip install cloud-sql-python-connector[\"pymysql\"]==1.2.4\n",
    "# !pip install google-cloud-aiplatform==1.26.0"
   ]
  },
  {
   "cell_type": "markdown",
   "id": "8d9c7e33-5e1e-49cb-abd5-aaf31443a0bd",
   "metadata": {},
   "source": [
    "## Section 1: Loading example dataset into database\n",
    "1. Download MySQL dump file from [MySQL Public Tutorial](https://www.mysqltutorial.org/mysql-sample-database.aspx)\n",
    "2. Create Cloud Storage bucket and Cloud SQL MySQL instance\n",
    "3. Import MySQL dump file into Cloud SQL instance"
   ]
  },
  {
   "cell_type": "markdown",
   "id": "9249920e-01d1-4849-89e8-edae6c068bc2",
   "metadata": {},
   "source": [
    "### Database Schema\n",
    "This is a very common example relational structure for a retail company\n",
    "![alt text](MySQL-Sample-Database-Schema.png \"Title\")"
   ]
  },
  {
   "cell_type": "markdown",
   "id": "1c0dcb95-d682-420e-b123-15accbc0b417",
   "metadata": {},
   "source": [
    "### Set environment variables"
   ]
  },
  {
   "cell_type": "code",
   "execution_count": 75,
   "id": "44d4826f-34c6-43ab-93d5-d4ad0dfaae13",
   "metadata": {},
   "outputs": [],
   "source": [
    "PROJECT_ID=\"jared-playground\"\n",
    "REGION=\"us-central1\"\n",
    "INSTANCE_NAME=\"gen-ai-text-to-mysql\"\n",
    "DATABASE_VERSION=\"MYSQL_8_0\"\n",
    "CPU=2\n",
    "MEMORY=\"8GB\"\n",
    "STORAGE_SIZE=\"10GB\"\n",
    "\n",
    "SQL_DATABASE_URL='https://www.mysqltutorial.org/wp-content/uploads/2018/03/mysqlsampledatabase.zip'\n",
    "BUCKET = 'gs://gen-ai-storage-bucket'\n",
    "SQL_FILE = 'mysqlsampledatabase.sql'\n",
    "\n",
    "SERVICE_ACCOUNT = \"p555626409143-m42vov@gcp-sa-cloud-sql.iam.gserviceaccount.com\" "
   ]
  },
  {
   "cell_type": "markdown",
   "id": "8a68d43b-d1d7-4001-b006-e518761faed7",
   "metadata": {},
   "source": [
    "Make the Cloud Storage bucket"
   ]
  },
  {
   "cell_type": "code",
   "execution_count": 76,
   "id": "ee4a8ce7-67d0-444a-9dc5-d9d315de0ca9",
   "metadata": {},
   "outputs": [],
   "source": [
    "# !gsutil mb -l $REGION $BUCKET"
   ]
  },
  {
   "cell_type": "markdown",
   "id": "62a6bf4d-db41-4837-bd50-74bfd1b95610",
   "metadata": {},
   "source": [
    "Make the Cloud SQL instance"
   ]
  },
  {
   "cell_type": "code",
   "execution_count": 77,
   "id": "e7ecfaa0-f8fb-44ed-b6f5-491b1f293f91",
   "metadata": {},
   "outputs": [],
   "source": [
    "# !gcloud sql instances create $INSTANCE_NAME \\\n",
    "#   --database-version=$DATABASE_VERSION \\\n",
    "#   --region=$REGION \\\n",
    "#   --cpu=$CPU \\\n",
    "#   --memory=$MEMORY \\\n",
    "#   --storage-size=$STORAGE_SIZE"
   ]
  },
  {
   "cell_type": "markdown",
   "id": "e39e6b87-330a-470a-8115-2886c7bedfd0",
   "metadata": {},
   "source": [
    "Generic function to download the SQL dump file"
   ]
  },
  {
   "cell_type": "code",
   "execution_count": 78,
   "id": "20a1e2e1-fafa-45e6-8efa-795cdfbca255",
   "metadata": {},
   "outputs": [],
   "source": [
    "# def get_sql_data(sql_database_url):\n",
    "#     from io import BytesIO\n",
    "#     from urllib.request import urlopen\n",
    "#     from zipfile import ZipFile\n",
    "    \n",
    "#     with urlopen(SQL_DATABASE_URL) as zipresp:\n",
    "#         with ZipFile(BytesIO(zipresp.read())) as zfile:\n",
    "#             zfile.extractall()"
   ]
  },
  {
   "cell_type": "code",
   "execution_count": 79,
   "id": "aad3f48a-fdad-4f60-9cc2-08ff5c91a0fe",
   "metadata": {},
   "outputs": [],
   "source": [
    "# get_sql_data(SQL_DATABASE_URL)"
   ]
  },
  {
   "cell_type": "markdown",
   "id": "8d51b517-d9a9-4103-9f34-786fdf305f7e",
   "metadata": {},
   "source": [
    "Copy the file to the Cloud Storage bucket"
   ]
  },
  {
   "cell_type": "code",
   "execution_count": 80,
   "id": "52441d60-c528-4db1-995d-dfc1d7a75653",
   "metadata": {},
   "outputs": [],
   "source": [
    "# !gsutil cp $SQL_FILE $BUCKET"
   ]
  },
  {
   "cell_type": "markdown",
   "id": "db82e214-d65a-44b4-958a-2aa0b456318a",
   "metadata": {},
   "source": [
    "### Important: Allow the Cloud SQL service account to read from the bucket"
   ]
  },
  {
   "cell_type": "code",
   "execution_count": 81,
   "id": "c3868175-47ba-4848-a09c-4d054583c43a",
   "metadata": {},
   "outputs": [],
   "source": [
    "# !gsutil iam ch serviceAccount:$SERVICE_ACCOUNT:objectAdmin \\\n",
    "# $BUCKET"
   ]
  },
  {
   "cell_type": "markdown",
   "id": "58e0a4a3-829d-49b1-8c92-5653ba4b1717",
   "metadata": {},
   "source": [
    "Import the SQL dump file into the Cloud SQL instance."
   ]
  },
  {
   "cell_type": "code",
   "execution_count": 82,
   "id": "de98504b-4a74-4ce3-9712-6932aa4567fc",
   "metadata": {},
   "outputs": [],
   "source": [
    "# !gcloud sql import sql $INSTANCE_NAME $BUCKET/$SQL_FILE --quiet"
   ]
  },
  {
   "cell_type": "markdown",
   "id": "3384b05d-0eef-4e17-93de-bc7e01c7ffbb",
   "metadata": {},
   "source": [
    "## Section 2: Use Text-to-SQL Generative AI to get questions/answers from our database.\n",
    "Vertex AI includes a suite of models that work with code. Together these code models are referred to as the Vertex AI Codey APIs. The Vertex AI Codey APIs include the following:\n",
    "\n",
    "* The **code generation** API - Generates code based on a natural language description of the desired code. For example, it can generate a unit test for a function. The code generation API supports the ```code-bison``` model. For more information about the ```code-bison``` model, see [Code generation model parameters](https://cloud.google.com/vertex-ai/docs/generative-ai/learn/models#code-generation-prompt-parameters).\n",
    "\n",
    "* The **code chat** API - Can power a chatbot that assists with code-related questions. For example, you can use it for help debugging code. The code chat API supports the ```codechat-bison``` model. For more information about the ```codechat-bison``` model, see [Code chat model parameters](https://cloud.google.com/vertex-ai/docs/generative-ai/learn/models#code-chat-prompt-parameters).\n",
    "\n",
    "* The **code completion** API - Provides code autocompletion suggestions as you write code. The API uses the context of the code you're writing to make its suggestions. The code completion API supports the ```code-gecko``` model. Use the ```code-gecko``` model to help improve the speed and accuracy of writing code. For more information about the ```code-gecko``` model, see [Code completion model parameters](https://cloud.google.com/vertex-ai/docs/generative-ai/learn/models#code-completion-prompt-parameters).\n",
    "\n",
    "\n",
    "![alt text](codey-table.png \"Title\")"
   ]
  },
  {
   "cell_type": "markdown",
   "id": "6b8f8bc4-c77d-44a4-a16b-926cc9371462",
   "metadata": {},
   "source": [
    "### Set environment variables\n",
    "* Temperature: The temperature is used for sampling during response generation. Temperature controls the degree of randomness in token selection. Lower temperatures are good for prompts that require a more deterministic and less open-ended or creative response, while higher temperatures can lead to more diverse or creative results. A temperature of 0 is deterministic, meaning that the highest probability response is always selected (Acceptable values: 0.0–1.0; Default: 0.2).\n",
    "* Max Output Tokens: Maximum number of tokens that can be generated in the response. A token is approximately four characters. 100 tokens correspond to roughly 60-80 words. Specify a lower value for shorter responses and a higher value for longer responses (Acceptable values: 1–2048; Default: 1024).\n",
    "* Model: ```code-bison``` is the name of the model that supports code generation. It's a foundation model that generates code based on a natural language description. The type of content that ```code-bison``` can create includes functions, web pages, and unit tests. ```code-bison``` is supported by the code generation Codey APIs. Codey APIs are in the PaLM API family. Release date: June 29, 2023"
   ]
  },
  {
   "cell_type": "code",
   "execution_count": 83,
   "id": "c5b17df0-8ce4-454a-8101-3fd1d73e1883",
   "metadata": {},
   "outputs": [],
   "source": [
    "TEMPERATURE = 0.2\n",
    "MAX_OUTPUT_TOKENS = 1024\n",
    "TEXT_TO_SQL_MODEL = \"code-bison@001\""
   ]
  },
  {
   "cell_type": "markdown",
   "id": "2a00f722-815a-49cc-9150-2801af5db780",
   "metadata": {},
   "source": [
    "Initialize model"
   ]
  },
  {
   "cell_type": "code",
   "execution_count": 84,
   "id": "bc8e5b3a-7cd0-4d34-94ff-f301fcaa777e",
   "metadata": {},
   "outputs": [],
   "source": [
    "import vertexai\n",
    "from vertexai.preview.language_models import CodeGenerationModel\n",
    "\n",
    "vertexai.init(project=PROJECT_ID, location=REGION)\n",
    "parameters = {\n",
    "    \"temperature\": TEMPERATURE,\n",
    "    \"max_output_tokens\": MAX_OUTPUT_TOKENS\n",
    "}\n",
    "model = CodeGenerationModel.from_pretrained(TEXT_TO_SQL_MODEL)"
   ]
  },
  {
   "cell_type": "markdown",
   "id": "2e4bfaf0-0eaa-484c-b438-2488f966485f",
   "metadata": {},
   "source": [
    "### Provide a schema prompt that describes the schema of the database. Google's [Text-to-SQL paper](https://arxiv.org/pdf/2306.00739.pdf) describes two methodologies for providing the schema in the prompt:\n",
    "1. **Concise prompt design**: Uses the syntax to describe the database schema, which has advantages of clearly presenting table structure. Example below:\n",
    "![alt text](concise.png \"Title\")\n",
    "2. **Verbose Pompt Design**: Prompts are based on using natural language to describe database schema, which is closer to the way LLMs were trained. Example below:\n",
    "![alt text](verbose.png \"Title\")"
   ]
  },
  {
   "cell_type": "markdown",
   "id": "f543ed5e-4ce8-4d1b-bd5b-fa37119ffaa9",
   "metadata": {},
   "source": [
    "Task prompt"
   ]
  },
  {
   "cell_type": "code",
   "execution_count": 85,
   "id": "8a003b8f-170a-487c-a384-ae45363b75bc",
   "metadata": {},
   "outputs": [],
   "source": [
    "sql_gen_task_prompt = \"\"\"Only use the tables and columns provided. We will first give the dataset schema and then ask a question in text. You are asked to generate SQL statement. \"\"\""
   ]
  },
  {
   "cell_type": "markdown",
   "id": "720096ed-a4b5-4515-acab-953e88f08f69",
   "metadata": {},
   "source": [
    "Schema prompt"
   ]
  },
  {
   "cell_type": "code",
   "execution_count": 86,
   "id": "3a243aea-6eff-46fb-9ab4-ebdfa90a0103",
   "metadata": {},
   "outputs": [],
   "source": [
    "schema_prompt = \"\"\"There are 8 tables in database classicmodels. The titles of the tables are: customers, employees, offices, orderdetails, orders, payments, productlines, products. \n",
    "Table 1 is customers, and it contains customer’s data. Its column names and types are customerNumber (Type is int), customerName (Type is varchar), contactLastName (Type is varchar), contactFirstName (Type is varchar), phone (Type is varchar), addressLine1 (Type is varchar), addressLine2 (Type is varchar), city (Type is varchar), state (Type is varchar), postalCode (Type is varchar), country (Type is varchar), salesRepEmployeeNumber (Type is int), creditLimit (Type is decimal).\n",
    "Table 2 is employees, and it contains all employee information as well as the organization structure such as who reports to whom. Its column names and types are employeeNumber (Type is int), lastName (Type is varchar), firstName (Type is varchar), extension (Type is varchar), email (Type is varchar), officeCode (Type is varchar), reportsTo (Type is int), jobTitle (Type is varchar).\n",
    "Table 3 is offices, and it contains sales office data. Its column names and types are officeCode (Type is varchar), city (Type is varchar), phone (Type is varchar), addressLine1 (Type is varchar), addressLine2 (Type is varchar), state (Type is varchar), country (Type is varchar), postalCode (Type is varchar), territory (Type is varchar).\n",
    "Table 4 is orderdetails, and it contains sales order line items for each sales order. Its column names and types are orderNumber (Type is int), productCode (Type is varchar), quantityOrdered (Type is int), priceEach (Type is decimal), orderLineNumber (Type is smallint).\n",
    "Table 5 is orders, and it contains sales orders placed by customers. Its column names and types are orderNumber (Type is int), orderDate (Type is date), requiredDate (Type is date), shippedDate (Type is date), status (Type is varchar), comments (Type is text), customerNumber (Type is int).\n",
    "Table 6 is payments, and it contains payments made by customers based on their accounts. Its column names and types are customerNumber (Type is int), checkNumber (Type is varchar), paymentDate (Type is date), amount (Type is decimal).\n",
    "Table 7 is productlines, and it contains a list of product line categories. Its column names and types are productLine (Type is varchar), textDescription (Type os varchar), htmlDescription (Type is mediumtext), image (Type is mediumblob).\n",
    "Table 8 is products, and it contains a list of scale model cars. Its column names and types are productCode (Type is varchar), productName (Type is varchar), productLine (Type is varchar), productScale (Type is varchar), productVendor (Type is varchar), productDescription (Type is text), quantityInStock (Type is smallint), buyPrice (Type is decimal), MSRP (Type is decimal).\n",
    "The primary keys are: customerNumber from Table customers, employeeNumber from Table employees,\n",
    "officeCode from Table offices, orderNumber and productCode from Table orderdetails, orderNumber from Table orders, customerNumber and checkNumber from Table payments, productLine from Table productlines, productCode from Table products.\n",
    "The foreign keys are: salesRepEmployeeNumber from Table customers is equivalent with employeeNumber from Table employees, officeCode from Table employees is equivalent with officeCode from table offices, reportsTo from Table employees is equivalent with employeeNumber from Table employees, customerNumber from Table orders is equivalent with customerNumber from Table customers, productLine from Table products is equivelent with productLine from Table productLines. Use foreign keys to join Tables. \"\"\""
   ]
  },
  {
   "cell_type": "markdown",
   "id": "2cea78c1-6d46-42f3-a487-2e818ab5d688",
   "metadata": {},
   "source": [
    "Example prompt"
   ]
  },
  {
   "cell_type": "code",
   "execution_count": 87,
   "id": "69545b19-0965-4fe2-ac4f-0d1c66148450",
   "metadata": {},
   "outputs": [],
   "source": [
    "sql_gen_examples = \"\"\"Here is an example: \n",
    "The question is: How many unique customers placed an order between 1/1/2004 and 1/31/2004? \n",
    "The corresponding SQL is: SELECT count(distinct t1.customerNumber) as distinct_customers FROM orders t5 INNER JOIN customers t1 ON t5.customerNumber = t1.customerNumber WHERE t5.orderDate BETWEEN '2004-01-01' AND '2004-01-31';\n",
    "Here is an example: \n",
    "The question is: What is the product name and price of the highest priced item that was ever purchased? \n",
    "The corresponding SQL is: SELECT t8.productName, t4.priceEach FROM orders t5 INNER JOIN orderdetails t4 ON t5.orderNumber = t4.orderNumber LEFT JOIN products t8 ON t4.productCode = t8.productCode ORDER BY priceEach DESC LIMIT 1;\n",
    "Here is an example: \n",
    "The question is: What is the name of the customer with the highest order amount on 12/1/2003? \n",
    "The corresponding SQL is: SELECT orders.customerName, orders.total_orderAmount FROM (SELECT t5.orderNumber, t1.customerNumber, t1.customerName, SUM(t4.quantityOrdered*t4.priceEach) as total_orderAmount FROM customers t1 INNER JOIN orders t5 ON t1.customerNumber = t5.customerNumber INNER JOIN orderdetails t4 ON t5.orderNumber = t4.orderNumber WHERE t5.orderDate = '2003-12-01' GROUP BY 1,2,3) orders ORDER BY total_orderAmount DESC LIMIT 1;\n",
    "Here is an example: \n",
    "The question is: How many unique orders were placed at the Paris office during the year 2004?\n",
    "The corresponding SQL is: SELECT count(distinct t5.orderNumber) as orders FROM orders t5 INNER JOIN customers t1 ON t5.customerNumber = t1.customerNumber LEFT JOIN employees t2 ON t1.salesRepEmployeeNumber = t2.employeeNumber LEFT JOIN offices t3 ON t2.officeCode = t3.officeCode WHERE YEAR(t5.orderDate) = 2004 AND t3.city = 'Paris';\"\"\""
   ]
  },
  {
   "cell_type": "markdown",
   "id": "c48a09be-7fd0-4a16-bac3-c3603b4034da",
   "metadata": {},
   "source": [
    "Text-to-SQL question"
   ]
  },
  {
   "cell_type": "code",
   "execution_count": 88,
   "id": "789ee275-8480-44c3-bb9a-bef291001942",
   "metadata": {},
   "outputs": [],
   "source": [
    "text_to_sql = \"\"\"How much sales did each state in the USA have in the year 2005?\"\"\""
   ]
  },
  {
   "cell_type": "markdown",
   "id": "81e32182-82cc-43ac-b89e-358fe492d9aa",
   "metadata": {},
   "source": [
    "Combined prompt"
   ]
  },
  {
   "cell_type": "code",
   "execution_count": 89,
   "id": "d09f92cd-cab5-4cce-b339-49da59446100",
   "metadata": {},
   "outputs": [
    {
     "name": "stdout",
     "output_type": "stream",
     "text": [
      "This is a task converting text into SQL statement. Only use the tables and columns provided. We will first give the dataset schema and then ask a question in text. You are asked to generate SQL statement. \n",
      "    There are 8 tables in database classicmodels. The titles of the tables are: customers, employees, offices, orderdetails, orders, payments, productlines, products. \n",
      "Table 1 is customers, and it contains customer’s data. Its column names and types are customerNumber (Type is int), customerName (Type is varchar), contactLastName (Type is varchar), contactFirstName (Type is varchar), phone (Type is varchar), addressLine1 (Type is varchar), addressLine2 (Type is varchar), city (Type is varchar), state (Type is varchar), postalCode (Type is varchar), country (Type is varchar), salesRepEmployeeNumber (Type is int), creditLimit (Type is decimal).\n",
      "Table 2 is employees, and it contains all employee information as well as the organization structure such as who reports to whom. Its column names and types are employeeNumber (Type is int), lastName (Type is varchar), firstName (Type is varchar), extension (Type is varchar), email (Type is varchar), officeCode (Type is varchar), reportsTo (Type is int), jobTitle (Type is varchar).\n",
      "Table 3 is offices, and it contains sales office data. Its column names and types are officeCode (Type is varchar), city (Type is varchar), phone (Type is varchar), addressLine1 (Type is varchar), addressLine2 (Type is varchar), state (Type is varchar), country (Type is varchar), postalCode (Type is varchar), territory (Type is varchar).\n",
      "Table 4 is orderdetails, and it contains sales order line items for each sales order. Its column names and types are orderNumber (Type is int), productCode (Type is varchar), quantityOrdered (Type is int), priceEach (Type is decimal), orderLineNumber (Type is smallint).\n",
      "Table 5 is orders, and it contains sales orders placed by customers. Its column names and types are orderNumber (Type is int), orderDate (Type is date), requiredDate (Type is date), shippedDate (Type is date), status (Type is varchar), comments (Type is text), customerNumber (Type is int).\n",
      "Table 6 is payments, and it contains payments made by customers based on their accounts. Its column names and types are customerNumber (Type is int), checkNumber (Type is varchar), paymentDate (Type is date), amount (Type is decimal).\n",
      "Table 7 is productlines, and it contains a list of product line categories. Its column names and types are productLine (Type is varchar), textDescription (Type os varchar), htmlDescription (Type is mediumtext), image (Type is mediumblob).\n",
      "Table 8 is products, and it contains a list of scale model cars. Its column names and types are productCode (Type is varchar), productName (Type is varchar), productLine (Type is varchar), productScale (Type is varchar), productVendor (Type is varchar), productDescription (Type is text), quantityInStock (Type is smallint), buyPrice (Type is decimal), MSRP (Type is decimal).\n",
      "The primary keys are: customerNumber from Table customers, employeeNumber from Table employees,\n",
      "officeCode from Table offices, orderNumber and productCode from Table orderdetails, orderNumber from Table orders, customerNumber and checkNumber from Table payments, productLine from Table productlines, productCode from Table products.\n",
      "The foreign keys are: salesRepEmployeeNumber from Table customers is equivalent with employeeNumber from Table employees, officeCode from Table employees is equivalent with officeCode from table offices, reportsTo from Table employees is equivalent with employeeNumber from Table employees, customerNumber from Table orders is equivalent with customerNumber from Table customers, productLine from Table products is equivelent with productLine from Table productLines. Use foreign keys to join Tables. \n",
      "    Let us take 4 example questions and turn them into a SQL statements about database classicmodels. Here is an example: \n",
      "The question is: How many unique customers placed an order between 1/1/2004 and 1/31/2004? \n",
      "The corresponding SQL is: SELECT count(distinct t1.customerNumber) as distinct_customers FROM orders t5 INNER JOIN customers t1 ON t5.customerNumber = t1.customerNumber WHERE t5.orderDate BETWEEN '2004-01-01' AND '2004-01-31';\n",
      "Here is an example: \n",
      "The question is: What is the product name and price of the highest priced item that was ever purchased? \n",
      "The corresponding SQL is: SELECT t8.productName, t4.priceEach FROM orders t5 INNER JOIN orderdetails t4 ON t5.orderNumber = t4.orderNumber LEFT JOIN products t8 ON t4.productCode = t8.productCode ORDER BY priceEach DESC LIMIT 1;\n",
      "Here is an example: \n",
      "The question is: What is the name of the customer with the highest order amount on 12/1/2003? \n",
      "The corresponding SQL is: SELECT orders.customerName, orders.total_orderAmount FROM (SELECT t5.orderNumber, t1.customerNumber, t1.customerName, SUM(t4.quantityOrdered*t4.priceEach) as total_orderAmount FROM customers t1 INNER JOIN orders t5 ON t1.customerNumber = t5.customerNumber INNER JOIN orderdetails t4 ON t5.orderNumber = t4.orderNumber WHERE t5.orderDate = '2003-12-01' GROUP BY 1,2,3) orders ORDER BY total_orderAmount DESC LIMIT 1;\n",
      "Here is an example: \n",
      "The question is: How many unique orders were placed at the Paris office during the year 2004?\n",
      "The corresponding SQL is: SELECT count(distinct t5.orderNumber) as orders FROM orders t5 INNER JOIN customers t1 ON t5.customerNumber = t1.customerNumber LEFT JOIN employees t2 ON t1.salesRepEmployeeNumber = t2.employeeNumber LEFT JOIN offices t3 ON t2.officeCode = t3.officeCode WHERE YEAR(t5.orderDate) = 2004 AND t3.city = 'Paris';\n",
      "    The test question to be answered is: How much sales did each state in the USA have in the year 2005?\n",
      "    The corresponding SQL is: \n"
     ]
    }
   ],
   "source": [
    "print(f\"\"\"This is a task converting text into SQL statement. {sql_gen_task_prompt}\n",
    "    {schema_prompt}\n",
    "    Let us take 4 example questions and turn them into a SQL statements about database classicmodels. {sql_gen_examples}\n",
    "    The test question to be answered is: {text_to_sql}\n",
    "    The corresponding SQL is: \"\"\")"
   ]
  },
  {
   "cell_type": "markdown",
   "id": "939230ce-03e5-45ee-b30d-179b797c8215",
   "metadata": {},
   "source": [
    "API call to get SQL query"
   ]
  },
  {
   "cell_type": "code",
   "execution_count": 90,
   "id": "89003a5c-ece9-4882-b547-e0111ebe34a0",
   "metadata": {},
   "outputs": [
    {
     "name": "stdout",
     "output_type": "stream",
     "text": [
      "Response from Model: SELECT t1.state, SUM(t4.quantityOrdered*t4.priceEach) as total_sales FROM orders t5 INNER JOIN customers t1 ON t5.customerNumber = t1.customerNumber INNER JOIN orderdetails t4 ON t5.orderNumber = t4.orderNumber WHERE YEAR(t5.orderDate) = 2005 AND t1.country = 'USA' GROUP BY 1;\n"
     ]
    }
   ],
   "source": [
    "response = model.predict(\n",
    "    prefix = f\"\"\"{sql_gen_task_prompt}\n",
    "    {schema_prompt}\n",
    "    {sql_gen_examples}\n",
    "    The question is: {text_to_sql}\n",
    "    The corresponding SQL is: \"\"\",\n",
    "    **parameters\n",
    ")\n",
    "\n",
    "response_text = response.text\n",
    "print(f\"Response from Model: {response_text}\")"
   ]
  },
  {
   "cell_type": "markdown",
   "id": "48f10f42-7892-401a-af51-250640fa5d4f",
   "metadata": {},
   "source": [
    "Use response from model and test SQL query "
   ]
  },
  {
   "cell_type": "code",
   "execution_count": 91,
   "id": "d7bba6f2-8639-459c-9d4e-046f97b23078",
   "metadata": {},
   "outputs": [
    {
     "name": "stdout",
     "output_type": "stream",
     "text": [
      "Your instance connection name is: jared-playground:us-central1:gen-ai-text-to-mysql\n"
     ]
    }
   ],
   "source": [
    "# initialize parameters\n",
    "INSTANCE_CONNECTION_NAME = f\"{PROJECT_ID}:{REGION}:{INSTANCE_NAME}\" # i.e demo-project:us-central1:demo-instance\n",
    "print(f\"Your instance connection name is: {INSTANCE_CONNECTION_NAME}\")\n",
    "DB_USER = \"root\"\n",
    "DB_NAME = \"classicmodels\""
   ]
  },
  {
   "cell_type": "code",
   "execution_count": 92,
   "id": "a19278c8-30ac-4df9-a0ca-6ba9d184b388",
   "metadata": {},
   "outputs": [
    {
     "name": "stdout",
     "output_type": "stream",
     "text": [
      "('CA', Decimal('378973.82'))\n",
      "('PA', Decimal('5849.44'))\n",
      "('CT', Decimal('28500.78'))\n",
      "('MA', Decimal('117730.73'))\n",
      "('NJ', Decimal('43525.04'))\n"
     ]
    }
   ],
   "source": [
    "from google.cloud.sql.connector import Connector\n",
    "import sqlalchemy\n",
    "import pandas as pd\n",
    "\n",
    "# initialize Connector object\n",
    "connector = Connector()\n",
    "\n",
    "# function to return the database connection object\n",
    "def getconn():\n",
    "    conn = connector.connect(\n",
    "        INSTANCE_CONNECTION_NAME,\n",
    "        \"pymysql\",\n",
    "        user=DB_USER,\n",
    "        db=DB_NAME\n",
    "    )\n",
    "    return conn\n",
    "\n",
    "# create connection pool with 'creator' argument to our connection object function\n",
    "pool = sqlalchemy.create_engine(\n",
    "    \"mysql+pymysql://\",\n",
    "    creator=getconn,\n",
    ")\n",
    "\n",
    "# connect to connection pool\n",
    "with pool.connect() as db_conn:\n",
    "    # query and fetch ratings table\n",
    "    results = db_conn.execute(sqlalchemy.text(f\"{response_text};\")).fetchall()\n",
    "    # show results\n",
    "    for row in results:\n",
    "        print(row)"
   ]
  },
  {
   "cell_type": "code",
   "execution_count": 93,
   "id": "3dbfcfc0-29ea-40fb-aa0d-be0783ad4254",
   "metadata": {},
   "outputs": [],
   "source": [
    "connector.close()"
   ]
  },
  {
   "cell_type": "markdown",
   "id": "26f0e738-b0ce-4fba-895b-4b038993b7bf",
   "metadata": {},
   "source": [
    "## Section 3 (**BONUS**): Let's interact with the Code Chat API to see if it can generate questions for us.\n",
    "* This could be useful for generating a lot of questions/answers about the database and creating embeddings of the questions. A vector database like Vertex Matching Engine could store the question embeddings for future similarity matching and query retrieval/execution.\n",
    "* Additionally, while fine-tuning code-bison is not possible today it is in the roadmap and this workflow could be used to generate lots of example question/answers."
   ]
  },
  {
   "cell_type": "markdown",
   "id": "2b013a1b-e9c2-4cb1-b0b4-34e54738c7e2",
   "metadata": {},
   "source": [
    "Environment variables"
   ]
  },
  {
   "cell_type": "code",
   "execution_count": null,
   "id": "1a6025f1-ce31-4a13-9d5e-c0b15297280c",
   "metadata": {},
   "outputs": [],
   "source": [
    "TEMPERATURE = 0.2\n",
    "MAX_OUTPUT_TOKENS = 1024\n",
    "CHAT_MODEL = \"codechat-bison@001\""
   ]
  },
  {
   "cell_type": "markdown",
   "id": "cba934bc-678e-489b-a8f4-640c36bb2542",
   "metadata": {},
   "source": [
    "Initialize model"
   ]
  },
  {
   "cell_type": "code",
   "execution_count": null,
   "id": "177cf845-61b7-4d1f-9a83-f33674b23758",
   "metadata": {},
   "outputs": [],
   "source": [
    "import vertexai\n",
    "from vertexai.preview.language_models import CodeChatModel\n",
    "\n",
    "vertexai.init(project=PROJECT_ID, location=REGION)\n",
    "parameters = {\n",
    "    \"temperature\": TEMPERATURE,\n",
    "    \"max_output_tokens\": MAX_OUTPUT_TOKENS\n",
    "}\n",
    "code_chat_model = CodeChatModel.from_pretrained(CHAT_MODEL)"
   ]
  },
  {
   "cell_type": "code",
   "execution_count": null,
   "id": "384277c5-8341-41a8-9e7c-ffd9210218f0",
   "metadata": {},
   "outputs": [],
   "source": [
    "prefix_schema_prompt = \"\"\"Generate a list of 10 questions about this schema that can be answered with SQL queries:\"\"\""
   ]
  },
  {
   "cell_type": "code",
   "execution_count": null,
   "id": "bf61f624-6688-400f-8972-f406f840f436",
   "metadata": {},
   "outputs": [],
   "source": [
    "print(f\"\"\"{prefix_schema_prompt}\n",
    "    {schema_prompt}\n",
    "    The questions are: \"\"\")"
   ]
  },
  {
   "cell_type": "code",
   "execution_count": null,
   "id": "37e30003-15b6-462f-950c-f2061bdd2aaf",
   "metadata": {},
   "outputs": [],
   "source": [
    "chat = code_chat_model.start_chat()\n",
    "\n",
    "response = chat.send_message(\n",
    "        f\"\"\"{prefix_schema_prompt}\n",
    "        {schema_prompt}\n",
    "        The questions are: \"\"\", **parameters\n",
    ")\n",
    "    \n",
    "response_text = response.text\n",
    "print(f\"Response from Model: {response_text}\")"
   ]
  },
  {
   "cell_type": "code",
   "execution_count": null,
   "id": "dde6d3d9-d5a0-4913-a0da-a2cfbd8bbe6c",
   "metadata": {},
   "outputs": [],
   "source": []
  }
 ],
 "metadata": {
  "environment": {
   "kernel": "python3",
   "name": "common-cpu.m109",
   "type": "gcloud",
   "uri": "gcr.io/deeplearning-platform-release/base-cpu:m109"
  },
  "kernelspec": {
   "display_name": "Python 3",
   "language": "python",
   "name": "python3"
  },
  "language_info": {
   "codemirror_mode": {
    "name": "ipython",
    "version": 3
   },
   "file_extension": ".py",
   "mimetype": "text/x-python",
   "name": "python",
   "nbconvert_exporter": "python",
   "pygments_lexer": "ipython3",
   "version": "3.10.11"
  }
 },
 "nbformat": 4,
 "nbformat_minor": 5
}
