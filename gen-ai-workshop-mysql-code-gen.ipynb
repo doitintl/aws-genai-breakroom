{
 "cells": [
  {
   "cell_type": "markdown",
   "id": "7c14c4c1-a6e3-48e1-8e77-61d1229d37cb",
   "metadata": {},
   "source": [
    "# Text-to-SQL demo using Vertex AI's Codey APIs. \n",
    "The Vertex AI PaLM API contains the publisher endpoints for Google's Pathways Language Model 2 (PaLM 2), which are large language models (LLMs) that generate text and code in response to natural language prompts. The Codey APIs include three models that generate code, suggest code for code completion, and let developers chat to get help with code-related questions."
   ]
  },
  {
   "cell_type": "code",
   "execution_count": null,
   "id": "a4a7aa37-6f04-4250-ad0f-fb5645768494",
   "metadata": {},
   "outputs": [],
   "source": [
    "# !pip install SQLAlchemy==2.0.16\n",
    "# !pip install pymysql==1.0.3\n",
    "# !pip install cloud-sql-python-connector[\"pymysql\"]==1.2.4\n",
    "# !pip install google-cloud-aiplatform==1.30.0"
   ]
  },
  {
   "cell_type": "code",
   "execution_count": 1,
   "id": "d8feec4a-e1eb-4f6a-9643-b7db07ce35ba",
   "metadata": {},
   "outputs": [],
   "source": [
    "from google.cloud import aiplatform\n",
    "import vertexai\n",
    "from vertexai.preview.language_models import CodeGenerationModel, CodeChatModel\n",
    "import google.cloud.sql.connector\n",
    "from google.cloud.sql.connector import Connector\n",
    "import sqlalchemy"
   ]
  },
  {
   "cell_type": "code",
   "execution_count": 9,
   "id": "8b3ded65-0c26-422b-96c1-50e563bc9f82",
   "metadata": {},
   "outputs": [
    {
     "name": "stdout",
     "output_type": "stream",
     "text": [
      "google-cloud-aiplatform (vertexai) version: 1.30.1\n",
      "google-cloud-sql-connector version: 1.2.4\n",
      "sqlalchemy version: 2.0.7\n",
      "pymysql version: 1.0.3\n"
     ]
    }
   ],
   "source": [
    "from importlib.metadata import version\n",
    "print(\"google-cloud-aiplatform (vertexai) version:\", version('google-cloud-aiplatform'))\n",
    "print(\"google-cloud-sql-connector version:\", version('cloud-sql-python-connector'))\n",
    "print(\"sqlalchemy version:\", version('sqlalchemy'))\n",
    "print(\"pymysql version:\", version('pymysql'))"
   ]
  },
  {
   "cell_type": "markdown",
   "id": "8d9c7e33-5e1e-49cb-abd5-aaf31443a0bd",
   "metadata": {},
   "source": [
    "## Section 1: Loading example dataset into database\n",
    "1. Download MySQL dump file from [MySQL Public Tutorial](https://www.mysqltutorial.org/mysql-sample-database.aspx)\n",
    "2. Create Cloud Storage bucket and Cloud SQL MySQL instance\n",
    "3. Import MySQL dump file into Cloud SQL instance"
   ]
  },
  {
   "cell_type": "markdown",
   "id": "9249920e-01d1-4849-89e8-edae6c068bc2",
   "metadata": {},
   "source": [
    "### Database Schema\n",
    "This is a very common example relational structure for a retail company\n",
    "![alt text](images/MySQL-Sample-Database-Schema.png \"Title\")"
   ]
  },
  {
   "cell_type": "markdown",
   "id": "1c0dcb95-d682-420e-b123-15accbc0b417",
   "metadata": {},
   "source": [
    "### Set environment variables"
   ]
  },
  {
   "cell_type": "code",
   "execution_count": null,
   "id": "b214497a-d364-4bed-befd-307fa2efb756",
   "metadata": {},
   "outputs": [],
   "source": []
  },
  {
   "cell_type": "code",
   "execution_count": 10,
   "id": "44d4826f-34c6-43ab-93d5-d4ad0dfaae13",
   "metadata": {},
   "outputs": [
    {
     "name": "stdout",
     "output_type": "stream",
     "text": [
      "Your instance connection name is: jared-playground:us-central1:gen-ai-text-to-mysql\n"
     ]
    }
   ],
   "source": [
    "from config import config\n",
    "PROJECT_ID=\"jared-playground\"\n",
    "REGION=\"us-central1\"\n",
    "INSTANCE_NAME=\"gen-ai-text-to-mysql\"\n",
    "\n",
    "\n",
    "SQL_DATABASE_URL='https://www.mysqltutorial.org/wp-content/uploads/2018/03/mysqlsampledatabase.zip'\n",
    "BUCKET = 'gs://gen-ai-storage-bucket'\n",
    "SQL_FILE = 'mysqlsampledatabase.sql'\n",
    "\n",
    "SERVICE_ACCOUNT = \"p555626409143-m42vov@gcp-sa-cloud-sql.iam.gserviceaccount.com\" \n",
    "\n",
    "# initialize parameters\n",
    "INSTANCE_CONNECTION_NAME = f\"{PROJECT_ID}:{REGION}:{INSTANCE_NAME}\" # i.e demo-project:us-central1:demo-instance\n",
    "print(f\"Your instance connection name is: {INSTANCE_CONNECTION_NAME}\")\n"
   ]
  },
  {
   "cell_type": "markdown",
   "id": "8a68d43b-d1d7-4001-b006-e518761faed7",
   "metadata": {},
   "source": [
    "\n",
    "\n",
    "\n",
    "\n"
   ]
  },
  {
   "cell_type": "code",
   "execution_count": 11,
   "id": "ee4a8ce7-67d0-444a-9dc5-d9d315de0ca9",
   "metadata": {
    "tags": []
   },
   "outputs": [],
   "source": [
    "DATABASE_VERSION=\"MYSQL_8_0\"\n",
    "CPU=2\n",
    "MEMORY=\"8GB\"\n",
    "STORAGE_SIZE=\"10GB\"\n",
    "DB_USER = \"root\"\n",
    "DB_NAME = \"classicmodels\"\n",
    "\n",
    "# # Make the Cloud Storage bucket\n",
    "# !gsutil mb -l $REGION $BUCKET\n",
    "\n",
    "# Make the Cloud SQL instance\n",
    "# !gcloud sql instances create $INSTANCE_NAME \\\n",
    "#   --database-version=$DATABASE_VERSION \\\n",
    "#   --region=$REGION \\\n",
    "#   --cpu=$CPU \\\n",
    "#   --memory=$MEMORY \\\n",
    "#   --storage-size=$STORAGE_SIZE\n",
    "\n",
    "# # Generic function to download the SQL dump file\n",
    "# def get_sql_data(sql_database_url):\n",
    "#     from io import BytesIO\n",
    "#     from urllib.request import urlopen\n",
    "#     from zipfile import ZipFile\n",
    "    \n",
    "#     with urlopen(SQL_DATABASE_URL) as zipresp:\n",
    "#         with ZipFile(BytesIO(zipresp.read())) as zfile:\n",
    "#             zfile.extractall()\n",
    "\n",
    "# get_sql_data(SQL_DATABASE_URL)\n",
    "\n",
    "# # Copy the file to the Cloud Storage bucket\n",
    "# !gsutil cp $SQL_FILE $BUCKET"
   ]
  },
  {
   "cell_type": "markdown",
   "id": "62a6bf4d-db41-4837-bd50-74bfd1b95610",
   "metadata": {},
   "source": []
  },
  {
   "cell_type": "code",
   "execution_count": 12,
   "id": "e7ecfaa0-f8fb-44ed-b6f5-491b1f293f91",
   "metadata": {
    "tags": []
   },
   "outputs": [],
   "source": []
  },
  {
   "cell_type": "markdown",
   "id": "e39e6b87-330a-470a-8115-2886c7bedfd0",
   "metadata": {},
   "source": []
  },
  {
   "cell_type": "code",
   "execution_count": 13,
   "id": "20a1e2e1-fafa-45e6-8efa-795cdfbca255",
   "metadata": {
    "tags": []
   },
   "outputs": [],
   "source": []
  },
  {
   "cell_type": "code",
   "execution_count": 14,
   "id": "aad3f48a-fdad-4f60-9cc2-08ff5c91a0fe",
   "metadata": {
    "tags": []
   },
   "outputs": [],
   "source": []
  },
  {
   "cell_type": "markdown",
   "id": "8d51b517-d9a9-4103-9f34-786fdf305f7e",
   "metadata": {},
   "source": []
  },
  {
   "cell_type": "code",
   "execution_count": 15,
   "id": "52441d60-c528-4db1-995d-dfc1d7a75653",
   "metadata": {
    "tags": []
   },
   "outputs": [],
   "source": []
  },
  {
   "cell_type": "markdown",
   "id": "db82e214-d65a-44b4-958a-2aa0b456318a",
   "metadata": {},
   "source": [
    "### Important: Allow the Cloud SQL service account to read from the bucket"
   ]
  },
  {
   "cell_type": "code",
   "execution_count": 16,
   "id": "c3868175-47ba-4848-a09c-4d054583c43a",
   "metadata": {},
   "outputs": [],
   "source": [
    "# !gsutil iam ch serviceAccount:$SERVICE_ACCOUNT:objectAdmin \\\n",
    "# $BUCKET"
   ]
  },
  {
   "cell_type": "markdown",
   "id": "58e0a4a3-829d-49b1-8c92-5653ba4b1717",
   "metadata": {},
   "source": [
    "Import the SQL dump file into the Cloud SQL instance."
   ]
  },
  {
   "cell_type": "code",
   "execution_count": 17,
   "id": "de98504b-4a74-4ce3-9712-6932aa4567fc",
   "metadata": {},
   "outputs": [],
   "source": [
    "# !gcloud sql import sql $INSTANCE_NAME $BUCKET/$SQL_FILE --quiet"
   ]
  },
  {
   "cell_type": "markdown",
   "id": "3384b05d-0eef-4e17-93de-bc7e01c7ffbb",
   "metadata": {},
   "source": [
    "## Section 2: Use Text-to-SQL Generative AI to get questions/answers from our database.\n",
    "Vertex AI includes a suite of models that work with code. Together these code models are referred to as the Vertex AI Codey APIs. The Vertex AI Codey APIs include the following:\n",
    "\n",
    "* The **code generation** API - Generates code based on a natural language description of the desired code. For example, it can generate a unit test for a function. The code generation API supports the ```code-bison``` model. For more information about the ```code-bison``` model, see [Code generation model parameters](https://cloud.google.com/vertex-ai/docs/generative-ai/learn/models#code-generation-prompt-parameters).\n",
    "\n",
    "* The **code chat** API - Can power a chatbot that assists with code-related questions. For example, you can use it for help debugging code. The code chat API supports the ```codechat-bison``` model. For more information about the ```codechat-bison``` model, see [Code chat model parameters](https://cloud.google.com/vertex-ai/docs/generative-ai/learn/models#code-chat-prompt-parameters).\n",
    "\n",
    "* The **code completion** API - Provides code autocompletion suggestions as you write code. The API uses the context of the code you're writing to make its suggestions. The code completion API supports the ```code-gecko``` model. Use the ```code-gecko``` model to help improve the speed and accuracy of writing code. For more information about the ```code-gecko``` model, see [Code completion model parameters](https://cloud.google.com/vertex-ai/docs/generative-ai/learn/models#code-completion-prompt-parameters).\n",
    "\n",
    "\n",
    "![alt text](images/codey-table.png \"Title\")"
   ]
  },
  {
   "cell_type": "markdown",
   "id": "2e4bfaf0-0eaa-484c-b438-2488f966485f",
   "metadata": {},
   "source": [
    "### Provide a schema prompt that describes the schema of the database. Google's [Text-to-SQL paper](https://arxiv.org/pdf/2306.00739.pdf) describes two methodologies for providing the schema in the prompt:\n",
    "1. ### **Concise prompt design**: Uses the syntax to describe the database schema, which has advantages of clearly presenting table structure. Example below:\n",
    "![alt text](images/concise.png \"Title\")\n",
    "2. ### **Verbose Pompt Design**: Prompts are based on using natural language to describe database schema, which is closer to the way LLMs were trained. Example below:\n",
    "![alt text](images/verbose.png \"Title\")"
   ]
  },
  {
   "cell_type": "markdown",
   "id": "f543ed5e-4ce8-4d1b-bd5b-fa37119ffaa9",
   "metadata": {},
   "source": [
    "## Verbose prompt design\n",
    "* ```sql_gen_task_prompt``` summarizes the task and provides instructions.\n",
    "* ```schema_prompt``` describes the schema of the database with the tables and column types.\n",
    "* ```sql_gen_examples``` provides examples of question/answer SQL pairs."
   ]
  },
  {
   "cell_type": "code",
   "execution_count": 18,
   "id": "8a003b8f-170a-487c-a384-ae45363b75bc",
   "metadata": {},
   "outputs": [],
   "source": [
    "sql_gen_task_prompt = \"\"\"This is a task converting text into SQL statement. Only use the tables and columns provided. We will first give the dataset schema and then ask a question in text. You are asked to generate SQL statement. \"\"\"\n",
    "\n",
    "schema_prompt = \"\"\"There are 8 tables in database classicmodels. The titles of the tables are: customers, employees, offices, orderdetails, orders, payments, productlines, products. \n",
    "Table 1 is customers, and it contains customer’s data. Its column names and types are customerNumber (Type is int), customerName (Type is varchar), contactLastName (Type is varchar), contactFirstName (Type is varchar), phone (Type is varchar), addressLine1 (Type is varchar), addressLine2 (Type is varchar), city (Type is varchar), state (Type is varchar), postalCode (Type is varchar), country (Type is varchar), salesRepEmployeeNumber (Type is int), creditLimit (Type is decimal).\n",
    "Table 2 is employees, and it contains all employee information as well as the organization structure such as who reports to whom. Its column names and types are employeeNumber (Type is int), lastName (Type is varchar), firstName (Type is varchar), extension (Type is varchar), email (Type is varchar), officeCode (Type is varchar), reportsTo (Type is int), jobTitle (Type is varchar).\n",
    "Table 3 is offices, and it contains sales office data. Its column names and types are officeCode (Type is varchar), city (Type is varchar), phone (Type is varchar), addressLine1 (Type is varchar), addressLine2 (Type is varchar), state (Type is varchar), country (Type is varchar), postalCode (Type is varchar), territory (Type is varchar).\n",
    "Table 4 is orderdetails, and it contains sales order line items for each sales order. Its column names and types are orderNumber (Type is int), productCode (Type is varchar), quantityOrdered (Type is int), priceEach (Type is decimal), orderLineNumber (Type is smallint).\n",
    "Table 5 is orders, and it contains sales orders placed by customers. Its column names and types are orderNumber (Type is int), orderDate (Type is date), requiredDate (Type is date), shippedDate (Type is date), status (Type is varchar), comments (Type is text), customerNumber (Type is int).\n",
    "Table 6 is payments, and it contains payments made by customers based on their accounts. Its column names and types are customerNumber (Type is int), checkNumber (Type is varchar), paymentDate (Type is date), amount (Type is decimal).\n",
    "Table 7 is productlines, and it contains a list of product line categories. Its column names and types are productLine (Type is varchar), textDescription (Type os varchar), htmlDescription (Type is mediumtext), image (Type is mediumblob).\n",
    "Table 8 is products, and it contains a list of scale model cars. Its column names and types are productCode (Type is varchar), productName (Type is varchar), productLine (Type is varchar), productScale (Type is varchar), productVendor (Type is varchar), productDescription (Type is text), quantityInStock (Type is smallint), buyPrice (Type is decimal), MSRP (Type is decimal).\n",
    "The primary keys are: customerNumber from Table customers, employeeNumber from Table employees,\n",
    "officeCode from Table offices, orderNumber and productCode from Table orderdetails, orderNumber from Table orders, customerNumber and checkNumber from Table payments, productLine from Table productlines, productCode from Table products.\n",
    "The foreign keys are: salesRepEmployeeNumber from Table customers is equivalent with employeeNumber from Table employees, officeCode from Table employees is equivalent with officeCode from table offices, reportsTo from Table employees is equivalent with employeeNumber from Table employees, customerNumber from Table orders is equivalent with customerNumber from Table customers, productLine from Table products is equivelent with productLine from Table productLines. Use foreign keys to join Tables. \"\"\"\n",
    "\n",
    "sql_gen_examples = \"\"\"Let us take 4 example questions and turn them into a SQL statements about database classicmodels.  \n",
    "Here is an example: \n",
    "The question is: How many unique customers placed an order between 1/1/2004 and 1/31/2004? \n",
    "The corresponding SQL is: SELECT count(distinct t1.customerNumber) as distinct_customers FROM orders t5 INNER JOIN customers t1 ON t5.customerNumber = t1.customerNumber WHERE t5.orderDate BETWEEN '2004-01-01' AND '2004-01-31';\n",
    "Here is an example: \n",
    "The question is: What is the product name and price of the highest priced item that was ever purchased? \n",
    "The corresponding SQL is: SELECT t8.productName, t4.priceEach FROM orders t5 INNER JOIN orderdetails t4 ON t5.orderNumber = t4.orderNumber LEFT JOIN products t8 ON t4.productCode = t8.productCode ORDER BY priceEach DESC LIMIT 1;\n",
    "Here is an example: \n",
    "The question is: What is the name of the customer with the highest order amount on 12/1/2003? \n",
    "The corresponding SQL is: SELECT orders.customerName, orders.total_orderAmount FROM (SELECT t5.orderNumber, t1.customerNumber, t1.customerName, SUM(t4.quantityOrdered*t4.priceEach) as total_orderAmount FROM customers t1 INNER JOIN orders t5 ON t1.customerNumber = t5.customerNumber INNER JOIN orderdetails t4 ON t5.orderNumber = t4.orderNumber WHERE t5.orderDate = '2003-12-01' GROUP BY 1,2,3) orders ORDER BY total_orderAmount DESC LIMIT 1;\n",
    "Here is an example: \n",
    "The question is: How many unique orders were placed at the Paris office during the year 2004?\n",
    "The corresponding SQL is: SELECT count(distinct t5.orderNumber) as orders FROM orders t5 INNER JOIN customers t1 ON t5.customerNumber = t1.customerNumber LEFT JOIN employees t2 ON t1.salesRepEmployeeNumber = t2.employeeNumber LEFT JOIN offices t3 ON t2.officeCode = t3.officeCode WHERE YEAR(t5.orderDate) = 2004 AND t3.city = 'Paris';\"\"\""
   ]
  },
  {
   "cell_type": "markdown",
   "id": "461ae59e-cc20-432c-8816-bf51e07a9c70",
   "metadata": {},
   "source": [
    "### Create functions for Generative AI code generation API and MySQL queries\n",
    "1. **get_sql_from_code_gen**: Takes the following input parameters:\n",
    "    * ```prompt```: The prompt with context about the MySQL database schema and column types.\n",
    "    * ```temperature```: The temperature is used for sampling during response generation. Temperature controls the degree of randomness in token selection. Lower temperatures are good for prompts that require a more deterministic and less open-ended or creative response, while higher temperatures can lead to more diverse or creative results. A temperature of 0 is deterministic, meaning that the highest probability response is always selected (Acceptable values: 0.0–1.0; Default: 0.2).\n",
    "    * ```max_output_tokens```: Maximum number of tokens that can be generated in the response. A token is approximately four characters. 100 tokens correspond to roughly 60-80 words. Specify a lower value for shorter responses and a higher value for longer responses (Acceptable values: 1–2048; Default: 1024).\n",
    "    * ```model```: ```code-bison@001``` is the name of the model that supports code generation. It's a foundation model that generates code based on a natural language description. The type of content that ```code-bison``` can create includes functions, web pages, and unit tests. ```code-bison``` is supported by the code generation Codey APIs. Codey APIs are in the PaLM API family. Release date: June 29, 2023.\n",
    "2. **test_sql**: Takes a SQL query as input and attempts to run a query against a Cloud SQL MySQL database.\n",
    "    * ```query```: The query to run. This can be fed directly from the previous code generation function."
   ]
  },
  {
   "cell_type": "code",
   "execution_count": 19,
   "id": "a19278c8-30ac-4df9-a0ca-6ba9d184b388",
   "metadata": {},
   "outputs": [],
   "source": [
    "def get_sql_from_code_gen(project: str, region: str, prompt: str, temperature: float = 0.2, max_output_tokens: int = 1024, model: str = 'code-bison@001'):\n",
    "    \n",
    "    vertexai.init(project=project, location=region)\n",
    "    parameters = {\n",
    "        \"temperature\": temperature,\n",
    "        \"max_output_tokens\": max_output_tokens\n",
    "    }\n",
    "    code_gen_model = CodeGenerationModel.from_pretrained(model)\n",
    "    \n",
    "    response = code_gen_model.predict(\n",
    "        prefix = prompt,\n",
    "        **parameters\n",
    "    )\n",
    "\n",
    "    return (response.text)\n",
    "    \n",
    "\n",
    "\n",
    "\n",
    "def test_sql(query: str):\n",
    "    \n",
    "    # initialize Connector object\n",
    "    connector = Connector()\n",
    "\n",
    "    # function to return the database connection object\n",
    "    def getconn():\n",
    "        conn = connector.connect(\n",
    "            INSTANCE_CONNECTION_NAME,\n",
    "            \"pymysql\",\n",
    "            user=DB_USER,\n",
    "            db=DB_NAME\n",
    "        )\n",
    "        return conn\n",
    "\n",
    "    # create connection pool with 'creator' argument to our connection object function\n",
    "    pool = sqlalchemy.create_engine(\n",
    "        \"mysql+pymysql://\",\n",
    "        creator=getconn,\n",
    "    )\n",
    "\n",
    "    # connect to connection pool\n",
    "    with pool.connect() as db_conn:\n",
    "        # query and fetch ratings table\n",
    "        results = db_conn.execute(sqlalchemy.text(f\"{query};\")).fetchall()\n",
    "        # show results\n",
    "        output_list = []\n",
    "        for row in results:\n",
    "            output_list.append(row)\n",
    "         \n",
    "    connector.close()\n",
    "    return output_list"
   ]
  },
  {
   "cell_type": "markdown",
   "id": "3187437c-78fd-41ef-98b5-4d9746ab9bca",
   "metadata": {},
   "source": [
    "### Create a combined prompt and request a SQL query\n",
    "* ```text_to_sql``` This is the question which we want to get a SQL query.\n",
    "* ```verbose_combined_prompt``` Combines all prompt subcomponents into one to make the API call."
   ]
  },
  {
   "cell_type": "code",
   "execution_count": 20,
   "id": "3dbfcfc0-29ea-40fb-aa0d-be0783ad4254",
   "metadata": {},
   "outputs": [
    {
     "name": "stdout",
     "output_type": "stream",
     "text": [
      "Prompt to send to code gen API: \n",
      "This is a task converting text into SQL statement. Only use the tables and columns provided. We will first give the dataset schema and then ask a question in text. You are asked to generate SQL statement. \n",
      "\n",
      "There are 8 tables in database classicmodels. The titles of the tables are: customers, employees, offices, orderdetails, orders, payments, productlines, products. \n",
      "Table 1 is customers, and it contains customer’s data. Its column names and types are customerNumber (Type is int), customerName (Type is varchar), contactLastName (Type is varchar), contactFirstName (Type is varchar), phone (Type is varchar), addressLine1 (Type is varchar), addressLine2 (Type is varchar), city (Type is varchar), state (Type is varchar), postalCode (Type is varchar), country (Type is varchar), salesRepEmployeeNumber (Type is int), creditLimit (Type is decimal).\n",
      "Table 2 is employees, and it contains all employee information as well as the organization structure such as who reports to whom. Its column names and types are employeeNumber (Type is int), lastName (Type is varchar), firstName (Type is varchar), extension (Type is varchar), email (Type is varchar), officeCode (Type is varchar), reportsTo (Type is int), jobTitle (Type is varchar).\n",
      "Table 3 is offices, and it contains sales office data. Its column names and types are officeCode (Type is varchar), city (Type is varchar), phone (Type is varchar), addressLine1 (Type is varchar), addressLine2 (Type is varchar), state (Type is varchar), country (Type is varchar), postalCode (Type is varchar), territory (Type is varchar).\n",
      "Table 4 is orderdetails, and it contains sales order line items for each sales order. Its column names and types are orderNumber (Type is int), productCode (Type is varchar), quantityOrdered (Type is int), priceEach (Type is decimal), orderLineNumber (Type is smallint).\n",
      "Table 5 is orders, and it contains sales orders placed by customers. Its column names and types are orderNumber (Type is int), orderDate (Type is date), requiredDate (Type is date), shippedDate (Type is date), status (Type is varchar), comments (Type is text), customerNumber (Type is int).\n",
      "Table 6 is payments, and it contains payments made by customers based on their accounts. Its column names and types are customerNumber (Type is int), checkNumber (Type is varchar), paymentDate (Type is date), amount (Type is decimal).\n",
      "Table 7 is productlines, and it contains a list of product line categories. Its column names and types are productLine (Type is varchar), textDescription (Type os varchar), htmlDescription (Type is mediumtext), image (Type is mediumblob).\n",
      "Table 8 is products, and it contains a list of scale model cars. Its column names and types are productCode (Type is varchar), productName (Type is varchar), productLine (Type is varchar), productScale (Type is varchar), productVendor (Type is varchar), productDescription (Type is text), quantityInStock (Type is smallint), buyPrice (Type is decimal), MSRP (Type is decimal).\n",
      "The primary keys are: customerNumber from Table customers, employeeNumber from Table employees,\n",
      "officeCode from Table offices, orderNumber and productCode from Table orderdetails, orderNumber from Table orders, customerNumber and checkNumber from Table payments, productLine from Table productlines, productCode from Table products.\n",
      "The foreign keys are: salesRepEmployeeNumber from Table customers is equivalent with employeeNumber from Table employees, officeCode from Table employees is equivalent with officeCode from table offices, reportsTo from Table employees is equivalent with employeeNumber from Table employees, customerNumber from Table orders is equivalent with customerNumber from Table customers, productLine from Table products is equivelent with productLine from Table productLines. Use foreign keys to join Tables. \n",
      "\n",
      "Let us take 4 example questions and turn them into a SQL statements about database classicmodels.  \n",
      "Here is an example: \n",
      "The question is: How many unique customers placed an order between 1/1/2004 and 1/31/2004? \n",
      "The corresponding SQL is: SELECT count(distinct t1.customerNumber) as distinct_customers FROM orders t5 INNER JOIN customers t1 ON t5.customerNumber = t1.customerNumber WHERE t5.orderDate BETWEEN '2004-01-01' AND '2004-01-31';\n",
      "Here is an example: \n",
      "The question is: What is the product name and price of the highest priced item that was ever purchased? \n",
      "The corresponding SQL is: SELECT t8.productName, t4.priceEach FROM orders t5 INNER JOIN orderdetails t4 ON t5.orderNumber = t4.orderNumber LEFT JOIN products t8 ON t4.productCode = t8.productCode ORDER BY priceEach DESC LIMIT 1;\n",
      "Here is an example: \n",
      "The question is: What is the name of the customer with the highest order amount on 12/1/2003? \n",
      "The corresponding SQL is: SELECT orders.customerName, orders.total_orderAmount FROM (SELECT t5.orderNumber, t1.customerNumber, t1.customerName, SUM(t4.quantityOrdered*t4.priceEach) as total_orderAmount FROM customers t1 INNER JOIN orders t5 ON t1.customerNumber = t5.customerNumber INNER JOIN orderdetails t4 ON t5.orderNumber = t4.orderNumber WHERE t5.orderDate = '2003-12-01' GROUP BY 1,2,3) orders ORDER BY total_orderAmount DESC LIMIT 1;\n",
      "Here is an example: \n",
      "The question is: How many unique orders were placed at the Paris office during the year 2004?\n",
      "The corresponding SQL is: SELECT count(distinct t5.orderNumber) as orders FROM orders t5 INNER JOIN customers t1 ON t5.customerNumber = t1.customerNumber LEFT JOIN employees t2 ON t1.salesRepEmployeeNumber = t2.employeeNumber LEFT JOIN offices t3 ON t2.officeCode = t3.officeCode WHERE YEAR(t5.orderDate) = 2004 AND t3.city = 'Paris';\n",
      "\n",
      "The test question to be answered is: What were sales for the year 2005 by state filtered by customers based in USA?\n",
      "\n",
      "The corresponding SQL is: \n",
      "SELECT SUM(t4.quantityOrdered * t4.priceEach) AS total_sales , t1.state FROM orders t5 INNER JOIN customers t1 ON t5.customerNumber = t1.customerNumber INNER JOIN orderdetails t4 ON t5.orderNumber = t4.orderNumber WHERE t1.country = 'USA' AND YEAR(t5.orderDate) = 2005 GROUP BY t1.state;\n"
     ]
    }
   ],
   "source": [
    "text_to_sql = \"\"\"What were sales for the year 2005 by state filtered by customers based in USA?\"\"\"\n",
    "verbose_combined_prompt = f\"\"\"{sql_gen_task_prompt}\n",
    "\n",
    "{schema_prompt}\n",
    "\n",
    "{sql_gen_examples}\n",
    "\n",
    "The test question to be answered is: {text_to_sql}\n",
    "\n",
    "The corresponding SQL is: \"\"\"\n",
    "print(f\"\"\"Prompt to send to code gen API: \\n{verbose_combined_prompt}\"\"\")\n",
    "\n",
    "verbose_sql_query = get_sql_from_code_gen(project = PROJECT_ID, \n",
    "                      region = REGION,\n",
    "                      prompt = verbose_combined_prompt,\n",
    "                      temperature = 0.2, \n",
    "                      max_output_tokens = 1024, \n",
    "                      model = \"code-bison@001\")\n",
    "print(verbose_sql_query)"
   ]
  },
  {
   "cell_type": "markdown",
   "id": "621a109a-af48-4a15-83c4-a27d506a5891",
   "metadata": {},
   "source": [
    "### Test the SQL query"
   ]
  },
  {
   "cell_type": "code",
   "execution_count": 21,
   "id": "f4967fad-cc91-4dcb-97c7-031f751ac566",
   "metadata": {},
   "outputs": [
    {
     "name": "stdout",
     "output_type": "stream",
     "text": [
      "[(Decimal('378973.82'), 'CA'), (Decimal('5849.44'), 'PA'), (Decimal('28500.78'), 'CT'), (Decimal('117730.73'), 'MA'), (Decimal('43525.04'), 'NJ')]\n"
     ]
    }
   ],
   "source": [
    "verbose_test_results = test_sql(verbose_sql_query)\n",
    "print(verbose_test_results)"
   ]
  },
  {
   "cell_type": "markdown",
   "id": "2ba7e341-4726-4fd2-8cfc-79d9d39806d8",
   "metadata": {},
   "source": [
    "### Make corrections"
   ]
  },
  {
   "cell_type": "code",
   "execution_count": 22,
   "id": "69695c4d-72ba-4221-b407-ccb77961a81c",
   "metadata": {},
   "outputs": [
    {
     "name": "stdout",
     "output_type": "stream",
     "text": [
      "[(10368, datetime.date(2005, 1, 19), datetime.date(2005, 1, 27), datetime.date(2005, 1, 24), 'Shipped', 'Can we renegotiate this one?', 124, 124, 'Mini Gifts Distributors Ltd.', 'Nelson', 'Susan', '4155551450', '5677 Strong St.', None, 'San Rafael', 'CA', '97562', 'USA', 1165, Decimal('210500.00'))]\n"
     ]
    }
   ],
   "source": [
    "corrected_sql_query = '''\n",
    "SELECT *\n",
    "FROM orders\n",
    "JOIN customers ON customers.customerNumber  = orders.customerNumber\n",
    "WHERE YEAR(orderdate) = \"2005\"\n",
    "AND country = \"USA\"\n",
    "LIMIT 1\n",
    "'''\n",
    "corrected_results = test_sql(corrected_sql_query)\n",
    "print(corrected_results)"
   ]
  },
  {
   "cell_type": "markdown",
   "id": "3622334c-9404-4f4e-abfa-e75d87b7d5f5",
   "metadata": {},
   "source": [
    "## Concise prompt design\n",
    "In order to get the concise schema design, we first need to query the INFORMATION_SCHEMA views to get the table and column details"
   ]
  },
  {
   "cell_type": "code",
   "execution_count": 23,
   "id": "85f932fe-70f9-41ad-b411-18e09893c1f0",
   "metadata": {},
   "outputs": [],
   "source": [
    "schema_value_generator = '''\n",
    "SELECT CONCAT('[Schema (values)]: ', '| ', table_schema, ' | ', GROUP_CONCAT(table_name, ' : ', table_column SEPARATOR ' | '), ';') as table_column\n",
    "FROM (\n",
    "SELECT table_schema, table_name, GROUP_CONCAT(column_name SEPARATOR ' , ') as table_column\n",
    "FROM  INFORMATION_SCHEMA.columns\n",
    "WHERE table_schema = @schema\n",
    "GROUP BY table_schema, table_name\n",
    "ORDER BY table_name) col\n",
    "GROUP BY table_schema;\n",
    "'''\n",
    "\n",
    "column_name_generator = '''\n",
    "SELECT CONCAT('[Column names (type)]: ', GROUP_CONCAT(CONCAT_WS('',table_name, ' : ',column_name,' (',data_type,')') SEPARATOR ' | '), ';') AS table_column\n",
    "FROM  INFORMATION_SCHEMA.columns\n",
    "WHERE table_schema = @schema\n",
    "ORDER BY table_column;\n",
    "'''\n",
    "\n",
    "primary_key_generator = '''\n",
    "SELECT CONCAT('[Primary Keys]: ', GROUP_CONCAT(CONCAT_WS(' : ', table_name , primary_key) SEPARATOR ' | '), ';') as table_column\n",
    "FROM (\n",
    "  SELECT table_name, GROUP_CONCAT(column_name) AS primary_key\n",
    "  FROM INFORMATION_SCHEMA.KEY_COLUMN_USAGE\n",
    "  WHERE TABLE_SCHEMA=@schema\n",
    "  AND CONSTRAINT_NAME='PRIMARY'\n",
    "  GROUP BY table_name, ordinal_position\n",
    "  ORDER BY table_name, primary_key) pk1;\n",
    "'''\n",
    "\n",
    "foreign_key_generator = '''\n",
    "SELECT CONCAT('[Foreign Keys]: ', GROUP_CONCAT(CONCAT(TABLE_NAME, ' : ',  COLUMN_NAME, ' equals ', REFERENCED_TABLE_NAME, ' : ', REFERENCED_COLUMN_NAME) SEPARATOR ' | ')) AS table_column\n",
    "FROM INFORMATION_SCHEMA.KEY_COLUMN_USAGE\n",
    "WHERE TABLE_SCHEMA=@schema \n",
    "AND CONSTRAINT_NAME LIKE '%ibfk%'\n",
    "ORDER BY table_column;\n",
    "'''"
   ]
  },
  {
   "cell_type": "markdown",
   "id": "6510b46d-e900-4e0a-84da-718a1e77c312",
   "metadata": {},
   "source": [
    "### Create a function to query the MySQL INFORMATION_SCHEMA views."
   ]
  },
  {
   "cell_type": "code",
   "execution_count": 24,
   "id": "771c36ff-c4cc-4b13-a14c-1c3cea281b2c",
   "metadata": {},
   "outputs": [],
   "source": [
    "def schema_generator(query: str, schema: str = 'classicmodels', group_concat_max_len: int = 102400):\n",
    "    \n",
    "\n",
    "    # initialize Connector object\n",
    "    connector = Connector()\n",
    "\n",
    "    # function to return the database connection object\n",
    "    def getconn():\n",
    "        conn = connector.connect(\n",
    "            INSTANCE_CONNECTION_NAME,\n",
    "            \"pymysql\",\n",
    "            user=DB_USER,\n",
    "            db=DB_NAME\n",
    "        )\n",
    "        return conn\n",
    "\n",
    "    # create connection pool with 'creator' argument to our connection object function\n",
    "    pool = sqlalchemy.create_engine(\n",
    "        \"mysql+pymysql://\",\n",
    "        creator=getconn,\n",
    "    )\n",
    "\n",
    "    # connect to connection pool\n",
    "    with pool.connect() as db_conn:\n",
    "        db_conn.execute(sqlalchemy.text(f\"SET @schema='{schema}';\"))\n",
    "        db_conn.execute(sqlalchemy.text(f\"SET SESSION group_concat_max_len = {group_concat_max_len};\"))\n",
    "        # query and fetch ratings table\n",
    "        results = db_conn.execute(sqlalchemy.text(query)).fetchall()\n",
    "        # show results\n",
    "        output_list = []\n",
    "        for row in results:\n",
    "            output_list.append(row.table_column)\n",
    "        \n",
    "    return output_list[0]\n",
    "\n",
    "schema_values = schema_generator(schema_value_generator)\n",
    "column_name_values = schema_generator(column_name_generator)\n",
    "primary_key_values = schema_generator(primary_key_generator)\n",
    "foreign_key_values = schema_generator(foreign_key_generator)"
   ]
  },
  {
   "cell_type": "markdown",
   "id": "0849613d-8c33-41f3-afcc-59b9a59347d0",
   "metadata": {},
   "source": [
    "### Create a combined prompt and request a SQL query"
   ]
  },
  {
   "cell_type": "code",
   "execution_count": 25,
   "id": "2fa56dda-9804-48a0-b5ff-c295f3ad887a",
   "metadata": {},
   "outputs": [
    {
     "name": "stdout",
     "output_type": "stream",
     "text": [
      "Prompt to send to code gen API: \n",
      "This is a task converting text into SQL statement. We will first given the dataset schema and then ask a question in text. You are asked to generate SQL statement.\n",
      "Here is the schema:\n",
      "[Schema (values)]: | classicmodels | customers : customerNumber , customerName , contactLastName , contactFirstName , phone , addressLine1 , addressLine2 , city , state , postalCode , country , salesRepEmployeeNumber , creditLimit | employees : employeeNumber , lastName , firstName , extension , email , officeCode , reportsTo , jobTitle | offices : officeCode , city , phone , addressLine1 , addressLine2 , state , country , postalCode , territory | orderdetails : orderNumber , productCode , quantityOrdered , priceEach , orderLineNumber | orders : orderNumber , orderDate , requiredDate , shippedDate , status , comments , customerNumber | payments : customerNumber , checkNumber , paymentDate , amount | productlines : productLine , textDescription , htmlDescription , image | products : productCode , productName , productLine , productScale , productVendor , productDescription , quantityInStock , buyPrice , MSRP;\n",
      "\n",
      "[Column names (type)]: customers : customerNumber (int) | customers : customerName (varchar) | customers : contactLastName (varchar) | customers : contactFirstName (varchar) | customers : phone (varchar) | customers : addressLine1 (varchar) | customers : addressLine2 (varchar) | customers : city (varchar) | customers : state (varchar) | customers : postalCode (varchar) | customers : country (varchar) | customers : salesRepEmployeeNumber (int) | customers : creditLimit (decimal) | employees : employeeNumber (int) | employees : lastName (varchar) | employees : firstName (varchar) | employees : extension (varchar) | employees : email (varchar) | employees : officeCode (varchar) | employees : reportsTo (int) | employees : jobTitle (varchar) | offices : officeCode (varchar) | offices : city (varchar) | offices : phone (varchar) | offices : addressLine1 (varchar) | offices : addressLine2 (varchar) | offices : state (varchar) | offices : country (varchar) | offices : postalCode (varchar) | offices : territory (varchar) | orderdetails : orderNumber (int) | orderdetails : productCode (varchar) | orderdetails : quantityOrdered (int) | orderdetails : priceEach (decimal) | orderdetails : orderLineNumber (smallint) | orders : orderNumber (int) | orders : orderDate (date) | orders : requiredDate (date) | orders : shippedDate (date) | orders : status (varchar) | orders : comments (text) | orders : customerNumber (int) | payments : customerNumber (int) | payments : checkNumber (varchar) | payments : paymentDate (date) | payments : amount (decimal) | productlines : productLine (varchar) | productlines : textDescription (varchar) | productlines : htmlDescription (mediumtext) | productlines : image (mediumblob) | products : productCode (varchar) | products : productName (varchar) | products : productLine (varchar) | products : productScale (varchar) | products : productVendor (varchar) | products : productDescription (text) | products : quantityInStock (smallint) | products : buyPrice (decimal) | products : MSRP (decimal);\n",
      "\n",
      "[Primary Keys]: customers : customerNumber | employees : employeeNumber | offices : officeCode | orderdetails : orderNumber | orderdetails : productCode | orders : orderNumber | payments : checkNumber | payments : customerNumber | productlines : productLine | products : productCode;\n",
      "\n",
      "[Foreign Keys]: customers : salesRepEmployeeNumber equals employees : employeeNumber | employees : reportsTo equals employees : employeeNumber | employees : officeCode equals offices : officeCode | orderdetails : orderNumber equals orders : orderNumber | orderdetails : productCode equals products : productCode | orders : customerNumber equals customers : customerNumber | payments : customerNumber equals customers : customerNumber | products : productLine equals productlines : productLine\n",
      "\n",
      "Let us take 4 example questions and turn them into a SQL statements about database classicmodels.  \n",
      "Here is an example: \n",
      "The question is: How many unique customers placed an order between 1/1/2004 and 1/31/2004? \n",
      "The corresponding SQL is: SELECT count(distinct t1.customerNumber) as distinct_customers FROM orders t5 INNER JOIN customers t1 ON t5.customerNumber = t1.customerNumber WHERE t5.orderDate BETWEEN '2004-01-01' AND '2004-01-31';\n",
      "Here is an example: \n",
      "The question is: What is the product name and price of the highest priced item that was ever purchased? \n",
      "The corresponding SQL is: SELECT t8.productName, t4.priceEach FROM orders t5 INNER JOIN orderdetails t4 ON t5.orderNumber = t4.orderNumber LEFT JOIN products t8 ON t4.productCode = t8.productCode ORDER BY priceEach DESC LIMIT 1;\n",
      "Here is an example: \n",
      "The question is: What is the name of the customer with the highest order amount on 12/1/2003? \n",
      "The corresponding SQL is: SELECT orders.customerName, orders.total_orderAmount FROM (SELECT t5.orderNumber, t1.customerNumber, t1.customerName, SUM(t4.quantityOrdered*t4.priceEach) as total_orderAmount FROM customers t1 INNER JOIN orders t5 ON t1.customerNumber = t5.customerNumber INNER JOIN orderdetails t4 ON t5.orderNumber = t4.orderNumber WHERE t5.orderDate = '2003-12-01' GROUP BY 1,2,3) orders ORDER BY total_orderAmount DESC LIMIT 1;\n",
      "Here is an example: \n",
      "The question is: How many unique orders were placed at the Paris office during the year 2004?\n",
      "The corresponding SQL is: SELECT count(distinct t5.orderNumber) as orders FROM orders t5 INNER JOIN customers t1 ON t5.customerNumber = t1.customerNumber LEFT JOIN employees t2 ON t1.salesRepEmployeeNumber = t2.employeeNumber LEFT JOIN offices t3 ON t2.officeCode = t3.officeCode WHERE YEAR(t5.orderDate) = 2004 AND t3.city = 'Paris';\n",
      "\n",
      "The question is: What were sales for the year 2005 by state filtered by customers based in USA?\n",
      "The corresponding SQL is: \n",
      "\n",
      "SELECT t1.state, SUM(t3.quantityOrdered * t3.priceEach) as sales FROM customers t1 INNER JOIN orders t2 ON t1.customerNumber = t2.customerNumber INNER JOIN orderdetails t3 ON t2.orderNumber = t3.orderNumber WHERE t1.country = 'USA' AND YEAR(t2.orderDate) = 2005 GROUP BY 1;\n"
     ]
    }
   ],
   "source": [
    "text_to_sql = \"\"\"What were sales for the year 2005 by state filtered by customers based in USA?\"\"\"\n",
    "concise_combined_prompt = f\"\"\"This is a task converting text into SQL statement. We will first given the dataset schema and then ask a question in text. You are asked to generate SQL statement.\n",
    "Here is the schema:\n",
    "{schema_values}\n",
    "\n",
    "{column_name_values}\n",
    "\n",
    "{primary_key_values}\n",
    "\n",
    "{foreign_key_values}\n",
    "\n",
    "{sql_gen_examples}\n",
    "\n",
    "The question is: {text_to_sql}\n",
    "The corresponding SQL is: \n",
    "\"\"\"\n",
    "print(f\"\"\"Prompt to send to code gen API: \\n{concise_combined_prompt}\"\"\")\n",
    "\n",
    "concise_sql_query = get_sql_from_code_gen(project = PROJECT_ID, \n",
    "                      region = REGION,\n",
    "                      prompt = concise_combined_prompt,\n",
    "                      temperature = 0.2, \n",
    "                      max_output_tokens = 1024, \n",
    "                      model = \"code-bison@001\")\n",
    "print(concise_sql_query)"
   ]
  },
  {
   "cell_type": "markdown",
   "id": "66fd3c8c-2d8b-4718-8d40-5c476adc6854",
   "metadata": {},
   "source": [
    "### Test the SQL query"
   ]
  },
  {
   "cell_type": "code",
   "execution_count": 26,
   "id": "777a8775-62df-4925-9240-6c8ad4108b8a",
   "metadata": {},
   "outputs": [
    {
     "name": "stdout",
     "output_type": "stream",
     "text": [
      "[('CA', Decimal('378973.82')), ('PA', Decimal('5849.44')), ('CT', Decimal('28500.78')), ('MA', Decimal('117730.73')), ('NJ', Decimal('43525.04'))]\n"
     ]
    }
   ],
   "source": [
    "concise_test_results = test_sql(concise_sql_query)\n",
    "print(concise_test_results)"
   ]
  },
  {
   "cell_type": "markdown",
   "id": "03065b5c-5061-4517-9b77-f4aaa99bb219",
   "metadata": {},
   "source": [
    "### Make corrections"
   ]
  },
  {
   "cell_type": "code",
   "execution_count": 27,
   "id": "a9d92e62-9dea-4da4-af2b-f74d1fd4c7b1",
   "metadata": {},
   "outputs": [
    {
     "name": "stdout",
     "output_type": "stream",
     "text": [
      "[(10368, datetime.date(2005, 1, 19), datetime.date(2005, 1, 27), datetime.date(2005, 1, 24), 'Shipped', 'Can we renegotiate this one?', 124, 124, 'Mini Gifts Distributors Ltd.', 'Nelson', 'Susan', '4155551450', '5677 Strong St.', None, 'San Rafael', 'CA', '97562', 'USA', 1165, Decimal('210500.00'))]\n"
     ]
    }
   ],
   "source": [
    "corrected_sql_query = '''\n",
    "SELECT *\n",
    "FROM orders\n",
    "JOIN customers ON customers.customerNumber  = orders.customerNumber\n",
    "WHERE YEAR(orderdate) = \"2005\"\n",
    "AND country = \"USA\"\n",
    "LIMIT 1\n",
    "'''\n",
    "corrected_results = test_sql(corrected_sql_query)\n",
    "print(corrected_results)"
   ]
  },
  {
   "cell_type": "markdown",
   "id": "b815a4d0-1698-46c2-803f-36c657b7acd3",
   "metadata": {},
   "source": [
    "## Section 3 (**BONUS**): Let's interact with the Code Chat API to see if it can generate questions for us.\n",
    "* This could be useful for generating a lot of questions/answers about the database and creating embeddings of the questions. A vector database like Vertex Matching Engine could store the question embeddings for future similarity matching and query retrieval/execution.\n",
    "* Additionally, while fine-tuning code-bison is not possible today it is in the roadmap and this workflow could be used to generate lots of example question/answers."
   ]
  },
  {
   "cell_type": "markdown",
   "id": "2b013a1b-e9c2-4cb1-b0b4-34e54738c7e2",
   "metadata": {},
   "source": [
    "Environment variables"
   ]
  },
  {
   "cell_type": "code",
   "execution_count": 28,
   "id": "1a6025f1-ce31-4a13-9d5e-c0b15297280c",
   "metadata": {},
   "outputs": [],
   "source": [
    "TEMPERATURE = 0.2\n",
    "MAX_OUTPUT_TOKENS = 1024\n",
    "CHAT_MODEL = \"codechat-bison@001\""
   ]
  },
  {
   "cell_type": "markdown",
   "id": "cba934bc-678e-489b-a8f4-640c36bb2542",
   "metadata": {},
   "source": [
    "Initialize model"
   ]
  },
  {
   "cell_type": "code",
   "execution_count": 29,
   "id": "177cf845-61b7-4d1f-9a83-f33674b23758",
   "metadata": {},
   "outputs": [],
   "source": [
    "vertexai.init(project=PROJECT_ID, location=REGION)\n",
    "parameters = {\n",
    "    \"temperature\": TEMPERATURE,\n",
    "    \"max_output_tokens\": MAX_OUTPUT_TOKENS\n",
    "}\n",
    "code_chat_model = CodeChatModel.from_pretrained(CHAT_MODEL)"
   ]
  },
  {
   "cell_type": "code",
   "execution_count": 30,
   "id": "384277c5-8341-41a8-9e7c-ffd9210218f0",
   "metadata": {},
   "outputs": [],
   "source": [
    "prefix_schema_prompt = \"\"\"Generate a list of 10 questions about this schema that can be answered with SQL queries:\"\"\""
   ]
  },
  {
   "cell_type": "code",
   "execution_count": 31,
   "id": "bf61f624-6688-400f-8972-f406f840f436",
   "metadata": {},
   "outputs": [
    {
     "name": "stdout",
     "output_type": "stream",
     "text": [
      "Generate a list of 10 questions about this schema that can be answered with SQL queries:\n",
      "    There are 8 tables in database classicmodels. The titles of the tables are: customers, employees, offices, orderdetails, orders, payments, productlines, products. \n",
      "Table 1 is customers, and it contains customer’s data. Its column names and types are customerNumber (Type is int), customerName (Type is varchar), contactLastName (Type is varchar), contactFirstName (Type is varchar), phone (Type is varchar), addressLine1 (Type is varchar), addressLine2 (Type is varchar), city (Type is varchar), state (Type is varchar), postalCode (Type is varchar), country (Type is varchar), salesRepEmployeeNumber (Type is int), creditLimit (Type is decimal).\n",
      "Table 2 is employees, and it contains all employee information as well as the organization structure such as who reports to whom. Its column names and types are employeeNumber (Type is int), lastName (Type is varchar), firstName (Type is varchar), extension (Type is varchar), email (Type is varchar), officeCode (Type is varchar), reportsTo (Type is int), jobTitle (Type is varchar).\n",
      "Table 3 is offices, and it contains sales office data. Its column names and types are officeCode (Type is varchar), city (Type is varchar), phone (Type is varchar), addressLine1 (Type is varchar), addressLine2 (Type is varchar), state (Type is varchar), country (Type is varchar), postalCode (Type is varchar), territory (Type is varchar).\n",
      "Table 4 is orderdetails, and it contains sales order line items for each sales order. Its column names and types are orderNumber (Type is int), productCode (Type is varchar), quantityOrdered (Type is int), priceEach (Type is decimal), orderLineNumber (Type is smallint).\n",
      "Table 5 is orders, and it contains sales orders placed by customers. Its column names and types are orderNumber (Type is int), orderDate (Type is date), requiredDate (Type is date), shippedDate (Type is date), status (Type is varchar), comments (Type is text), customerNumber (Type is int).\n",
      "Table 6 is payments, and it contains payments made by customers based on their accounts. Its column names and types are customerNumber (Type is int), checkNumber (Type is varchar), paymentDate (Type is date), amount (Type is decimal).\n",
      "Table 7 is productlines, and it contains a list of product line categories. Its column names and types are productLine (Type is varchar), textDescription (Type os varchar), htmlDescription (Type is mediumtext), image (Type is mediumblob).\n",
      "Table 8 is products, and it contains a list of scale model cars. Its column names and types are productCode (Type is varchar), productName (Type is varchar), productLine (Type is varchar), productScale (Type is varchar), productVendor (Type is varchar), productDescription (Type is text), quantityInStock (Type is smallint), buyPrice (Type is decimal), MSRP (Type is decimal).\n",
      "The primary keys are: customerNumber from Table customers, employeeNumber from Table employees,\n",
      "officeCode from Table offices, orderNumber and productCode from Table orderdetails, orderNumber from Table orders, customerNumber and checkNumber from Table payments, productLine from Table productlines, productCode from Table products.\n",
      "The foreign keys are: salesRepEmployeeNumber from Table customers is equivalent with employeeNumber from Table employees, officeCode from Table employees is equivalent with officeCode from table offices, reportsTo from Table employees is equivalent with employeeNumber from Table employees, customerNumber from Table orders is equivalent with customerNumber from Table customers, productLine from Table products is equivelent with productLine from Table productLines. Use foreign keys to join Tables. \n",
      "    The questions are: \n"
     ]
    }
   ],
   "source": [
    "print(f\"\"\"{prefix_schema_prompt}\n",
    "    {schema_prompt}\n",
    "    The questions are: \"\"\")"
   ]
  },
  {
   "cell_type": "code",
   "execution_count": 32,
   "id": "37e30003-15b6-462f-950c-f2061bdd2aaf",
   "metadata": {},
   "outputs": [
    {
     "name": "stdout",
     "output_type": "stream",
     "text": [
      "Response from Model: Here are 10 questions that can be answered with SQL queries on this schema:\n",
      "\n",
      "1. What is the total sales for each product line?\n",
      "2. Which employee has the highest salary?\n",
      "3. What is the average order size?\n",
      "4. Which customer has placed the most orders?\n",
      "5. What is the most popular product?\n",
      "6. Which office has the most employees?\n",
      "7. What is the most expensive product?\n",
      "8. What is the least expensive product?\n",
      "9. What is the most recent order?\n",
      "10. What is the oldest order?\n"
     ]
    }
   ],
   "source": [
    "chat = code_chat_model.start_chat()\n",
    "\n",
    "response = chat.send_message(\n",
    "        f\"\"\"{prefix_schema_prompt}\n",
    "        {schema_prompt}\n",
    "        The questions are: \"\"\", **parameters\n",
    ")\n",
    "    \n",
    "response_text = response.text\n",
    "print(f\"Response from Model: {response_text}\")"
   ]
  },
  {
   "cell_type": "code",
   "execution_count": null,
   "id": "dde6d3d9-d5a0-4913-a0da-a2cfbd8bbe6c",
   "metadata": {},
   "outputs": [],
   "source": []
  }
 ],
 "metadata": {
  "environment": {
   "kernel": "python3",
   "name": "common-cpu.m109",
   "type": "gcloud",
   "uri": "gcr.io/deeplearning-platform-release/base-cpu:m109"
  },
  "kernelspec": {
   "display_name": "Python 3",
   "language": "python",
   "name": "python3"
  },
  "language_info": {
   "codemirror_mode": {
    "name": "ipython",
    "version": 3
   },
   "file_extension": ".py",
   "mimetype": "text/x-python",
   "name": "python",
   "nbconvert_exporter": "python",
   "pygments_lexer": "ipython3",
   "version": "3.10.11"
  }
 },
 "nbformat": 4,
 "nbformat_minor": 5
}
