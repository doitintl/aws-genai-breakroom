{
 "cells": [
  {
   "cell_type": "markdown",
   "id": "7e649e5a-6cf3-482c-9d65-c9d7739a0424",
   "metadata": {},
   "source": [
    "## Loading example dataset into database\n",
    "1. Download MySQL dump file from [MySQL Public Tutorial](https://www.mysqltutorial.org/mysql-sample-database.aspx)\n",
    "2. Create Cloud Storage bucket and Cloud SQL MySQL instance\n",
    "3. Import MySQL dump file into Cloud SQL instance\n",
    "\n",
    "### Database Schema\n",
    "This is a very common example relational structure for a retail company\n",
    "![alt text](images/MySQL-Sample-Database-Schema.png \"Title\")\n",
    "\n",
    "### Set environment variables"
   ]
  },
  {
   "cell_type": "code",
   "execution_count": null,
   "id": "00cf61c1-6c99-4581-ba73-f0cc7c75fdde",
   "metadata": {},
   "outputs": [],
   "source": [
    "PROJECT_ID=config.project_id\n",
    "REGION=config.region\n",
    "INSTANCE_NAME=config.instance_name\n",
    "DATABASE_VERSION=config.database_version\n",
    "CPU = config.cpu\n",
    "MEMORY = config.memory\n",
    "STORAGE_SIZE = config.storage_size\n",
    "DB_USER = config.db_user\n",
    "DB_NAME = config.db_name\n",
    "BUCKET = config.bucket\n",
    "\n",
    "SQL_DATABASE_URL = 'https://www.mysqltutorial.org/wp-content/uploads/2018/03/mysqlsampledatabase.zip'\n",
    "SQL_FILE = 'mysqlsampledatabase.sql'\n",
    "\n",
    "SERVICE_ACCOUNT = config.service_account\n",
    "\n",
    "# initialize parameters\n",
    "INSTANCE_CONNECTION_NAME = f\"{PROJECT_ID}:{REGION}:{INSTANCE_NAME}\" # i.e demo-project:us-central1:demo-instance\n",
    "print(f\"Your instance connection name is: {INSTANCE_CONNECTION_NAME}\")"
   ]
  },
  {
   "cell_type": "code",
   "execution_count": null,
   "id": "9a8c40c9-aca8-44cf-a655-936be772fbdb",
   "metadata": {},
   "outputs": [],
   "source": []
  },
  {
   "cell_type": "code",
   "execution_count": null,
   "id": "06e25263-8421-40f8-96cd-08cc49774d46",
   "metadata": {},
   "outputs": [],
   "source": [
    "# Make the Cloud Storage bucket\n",
    "!gsutil mb -l $REGION $BUCKET\n",
    "\n",
    "Make the Cloud SQL instance\n",
    "!gcloud sql instances create $INSTANCE_NAME \\\n",
    "  --database-version=$DATABASE_VERSION \\\n",
    "  --region=$REGION \\\n",
    "  --cpu=$CPU \\\n",
    "  --memory=$MEMORY \\\n",
    "  --storage-size=$STORAGE_SIZE\n",
    "\n",
    "# Generic function to download the SQL dump file\n",
    "def get_sql_data(sql_database_url):\n",
    "    from io import BytesIO\n",
    "    from urllib.request import urlopen\n",
    "    from zipfile import ZipFile\n",
    "    \n",
    "    with urlopen(SQL_DATABASE_URL) as zipresp:\n",
    "        with ZipFile(BytesIO(zipresp.read())) as zfile:\n",
    "            zfile.extractall()\n",
    "\n",
    "get_sql_data(SQL_DATABASE_URL)\n",
    "\n",
    "# Copy the file to the Cloud Storage bucket\n",
    "!gsutil cp $SQL_FILE $BUCKET\n",
    "\n",
    "# Important: Allow the Cloud SQL service account to read from the bucket\n",
    "!gsutil iam ch serviceAccount:$SERVICE_ACCOUNT:objectAdmin \\\n",
    "$BUCKET\n",
    "\n",
    "# Import the SQL dump file into the Cloud SQL instance.\n",
    "!gcloud sql import sql $INSTANCE_NAME $BUCKET/$SQL_FILE --quiet"
   ]
  }
 ],
 "metadata": {
  "environment": {
   "kernel": "python3",
   "name": "common-cpu.m109",
   "type": "gcloud",
   "uri": "gcr.io/deeplearning-platform-release/base-cpu:m109"
  },
  "kernelspec": {
   "display_name": "Python 3",
   "language": "python",
   "name": "python3"
  },
  "language_info": {
   "codemirror_mode": {
    "name": "ipython",
    "version": 3
   },
   "file_extension": ".py",
   "mimetype": "text/x-python",
   "name": "python",
   "nbconvert_exporter": "python",
   "pygments_lexer": "ipython3",
   "version": "3.10.11"
  }
 },
 "nbformat": 4,
 "nbformat_minor": 5
}
