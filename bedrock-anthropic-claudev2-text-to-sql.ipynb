{
 "cells": [
  {
   "cell_type": "markdown",
   "id": "7c14c4c1-a6e3-48e1-8e77-61d1229d37cb",
   "metadata": {},
   "source": [
    "# Text-to-SQL demo using Anthropic ClaudeV2 Model in AWS Bedrock. "
   ]
  },
  {
   "cell_type": "markdown",
   "id": "3d2c53b7-77f1-4d2b-b2d5-c8a1fb0a5608",
   "metadata": {},
   "source": [
    "### The Use Case: \n",
    "This is a very common database schema for a retail use case\n",
    "\n",
    "\n",
    "![alt text](images/MySQL-Sample-Database-Schema.png \"Title\")"
   ]
  },
  {
   "cell_type": "markdown",
   "id": "509e81fa-03a0-4fdd-b9b2-653794740aec",
   "metadata": {},
   "source": [
    "### Install dependencies"
   ]
  },
  {
   "cell_type": "code",
   "execution_count": 1,
   "id": "a4a7aa37-6f04-4250-ad0f-fb5645768494",
   "metadata": {},
   "outputs": [],
   "source": [
    "# !pip install SQLAlchemy==2.0.16\n",
    "# !pip install pymysql==1.0.3\n",
    "# !pip install cloud-sql-python-connector[\"pymysql\"]==1.2.4\n",
    "# !pip install google-cloud-aiplatform==1.30.0"
   ]
  },
  {
   "cell_type": "code",
   "execution_count": 2,
   "id": "0a7a8989-77c1-47f5-9e56-ce1b2505c33f",
   "metadata": {
    "tags": []
   },
   "outputs": [],
   "source": [
    "# %pip install --no-build-isolation --force-reinstall \\\n",
    "#     \"boto3>=1.28.57\" \\\n",
    "#     \"awscli>=1.29.57\" \\\n",
    "#     \"botocore>=1.31.57\""
   ]
  },
  {
   "cell_type": "markdown",
   "id": "1c0dcb95-d682-420e-b123-15accbc0b417",
   "metadata": {},
   "source": [
    "### Import Libraries and Set environment variables"
   ]
  },
  {
   "cell_type": "code",
   "execution_count": 6,
   "id": "075c099b-c656-4a0b-ac19-b2e7d47bacbd",
   "metadata": {
    "tags": []
   },
   "outputs": [
    {
     "name": "stdout",
     "output_type": "stream",
     "text": [
      "Create new client\n",
      "  Using region: eu-central-1\n",
      "boto3 Bedrock client successfully created!\n",
      "bedrock-runtime(https://bedrock-runtime.eu-central-1.amazonaws.com)\n"
     ]
    }
   ],
   "source": [
    "import json\n",
    "import os\n",
    "import sys\n",
    "\n",
    "import pymysql\n",
    "import boto3\n",
    "import config\n",
    "import sqlalchemy\n",
    "\n",
    "sys.path.append('config')  # Add the directory to sys.path\n",
    "sys.path.append('utils')  # Add the directory to sys.path\n",
    "\n",
    "import config  # Import the config module\n",
    "\n",
    "# module_path = \"..\"\n",
    "# sys.path.append(os.path.abspath(module_path))\n",
    "from config import config\n",
    "from utils import bedrock, print_ww\n",
    "\n",
    "# os.environ[\"AWS_DEFAULT_REGION\"] = \"eu-central-1\"  # E.g. \"us-east-1\"\n",
    "# os.environ[\"AWS_PROFILE\"] = \"<YOUR_PROFILE>\"\n",
    "# os.environ[\"BEDROCK_ASSUME_ROLE\"] = \"<YOUR_ROLE_ARN>\"  # E.g. \"arn:aws:...\"\n",
    "\n",
    "\n",
    "\n",
    "boto3_bedrock = bedrock.get_bedrock_client(\n",
    "    assumed_role=os.environ.get(\"BEDROCK_ASSUME_ROLE\", None),\n",
    "    region=os.environ.get(\"AWS_DEFAULT_REGION\", None),\n",
    ")"
   ]
  },
  {
   "cell_type": "markdown",
   "id": "3384b05d-0eef-4e17-93de-bc7e01c7ffbb",
   "metadata": {},
   "source": [
    "## Text-to-SQL Generative AI to get questions/answers from our database."
   ]
  },
  {
   "cell_type": "markdown",
   "id": "fa7ecc80-a1d4-4b54-a570-03755e2f6461",
   "metadata": {},
   "source": [
    "Let's create a general verbose style prompt and be sure to include the following sections:\n",
    "* Summary of the task and provide LLM specific instructions.\n",
    "* Describe the schema of the database with the tables and column types.\n",
    "* Provide examples of question/answer SQL pairs."
   ]
  },
  {
   "cell_type": "code",
   "execution_count": 3,
   "id": "8a003b8f-170a-487c-a384-ae45363b75bc",
   "metadata": {
    "tags": []
   },
   "outputs": [],
   "source": [
    "_prompt = \"\"\"Human: This is a task converting text into SQL statement. \n",
    "Only use the tables and columns provided. \n",
    "We will first give the dataset schema and then ask a question in text. \n",
    "You are asked to generate SQL statement. \n",
    "\n",
    "There are 8 tables in database classicmodels. The titles of the tables are: customers, employees, offices, orderdetails, orders, payments, productlines, products. \n",
    "Table 1 is customers, and it contains customer’s data. Its column names and types are customerNumber (Type is int), customerName (Type is varchar), contactLastName (Type is varchar), contactFirstName (Type is varchar), phone (Type is varchar), addressLine1 (Type is varchar), addressLine2 (Type is varchar), city (Type is varchar), state (Type is varchar), postalCode (Type is varchar), country (Type is varchar), salesRepEmployeeNumber (Type is int), creditLimit (Type is decimal).\n",
    "Table 2 is employees, and it contains all employee information as well as the organization structure such as who reports to whom. Its column names and types are employeeNumber (Type is int), lastName (Type is varchar), firstName (Type is varchar), extension (Type is varchar), email (Type is varchar), officeCode (Type is varchar), reportsTo (Type is int), jobTitle (Type is varchar).\n",
    "Table 3 is offices, and it contains sales office data. Its column names and types are officeCode (Type is varchar), city (Type is varchar), phone (Type is varchar), addressLine1 (Type is varchar), addressLine2 (Type is varchar), state (Type is varchar), country (Type is varchar), postalCode (Type is varchar), territory (Type is varchar).\n",
    "Table 4 is orderdetails, and it contains sales order line items for each sales order. Its column names and types are orderNumber (Type is int), productCode (Type is varchar), quantityOrdered (Type is int), priceEach (Type is decimal), orderLineNumber (Type is smallint).\n",
    "Table 5 is orders, and it contains sales orders placed by customers. Its column names and types are orderNumber (Type is int), orderDate (Type is date), requiredDate (Type is date), shippedDate (Type is date), status (Type is varchar), comments (Type is text), customerNumber (Type is int).\n",
    "Table 6 is payments, and it contains payments made by customers based on their accounts. Its column names and types are customerNumber (Type is int), checkNumber (Type is varchar), paymentDate (Type is date), amount (Type is decimal).\n",
    "Table 7 is productlines, and it contains a list of product line categories. Its column names and types are productLine (Type is varchar), textDescription (Type os varchar), htmlDescription (Type is mediumtext), image (Type is mediumblob).\n",
    "Table 8 is products, and it contains a list of scale model cars. Its column names and types are productCode (Type is varchar), productName (Type is varchar), productLine (Type is varchar), productScale (Type is varchar), productVendor (Type is varchar), productDescription (Type is text), quantityInStock (Type is smallint), buyPrice (Type is decimal), MSRP (Type is decimal).\n",
    "The primary keys are: customerNumber from Table customers, employeeNumber from Table employees,\n",
    "officeCode from Table offices, orderNumber and productCode from Table orderdetails, orderNumber from Table orders, customerNumber and checkNumber from Table payments, productLine from Table productlines, productCode from Table products.\n",
    "The foreign keys are: salesRepEmployeeNumber from Table customers is equivalent with employeeNumber from Table employees, officeCode from Table employees is equivalent with officeCode from table offices, reportsTo from Table employees is equivalent with employeeNumber from Table employees, customerNumber from Table orders is equivalent with customerNumber from Table customers, productLine from Table products is equivelent with productLine from Table productLines. Use foreign keys to join Tables. \n",
    "\n",
    "Let us take 4 example questions and turn them into a SQL statements about database classicmodels.  \n",
    "Here is an example: \n",
    "The question is: How many unique customers placed an order between 1/1/2004 and 1/31/2004? \n",
    "The corresponding SQL is: SELECT count(distinct t1.customerNumber) as distinct_customers FROM orders t5 INNER JOIN customers t1 ON t5.customerNumber = t1.customerNumber WHERE t5.orderDate BETWEEN '2004-01-01' AND '2004-01-31';\n",
    "Here is an example: \n",
    "The question is: What is the product name and price of the highest priced item that was ever purchased? \n",
    "The corresponding SQL is: SELECT t8.productName, t4.priceEach FROM orders t5 INNER JOIN orderdetails t4 ON t5.orderNumber = t4.orderNumber LEFT JOIN products t8 ON t4.productCode = t8.productCode ORDER BY priceEach DESC LIMIT 1;\n",
    "Here is an example: \n",
    "The question is: What is the name of the customer with the highest order amount on 12/1/2003? \n",
    "The corresponding SQL is: SELECT orders.customerName, orders.total_orderAmount FROM (SELECT t5.orderNumber, t1.customerNumber, t1.customerName, SUM(t4.quantityOrdered*t4.priceEach) as total_orderAmount FROM customers t1 INNER JOIN orders t5 ON t1.customerNumber = t5.customerNumber INNER JOIN orderdetails t4 ON t5.orderNumber = t4.orderNumber WHERE t5.orderDate = '2003-12-01' GROUP BY 1,2,3) orders ORDER BY total_orderAmount DESC LIMIT 1;\n",
    "Here is an example: \n",
    "The question is: How many unique orders were placed at the Paris office during the year 2004?\n",
    "The corresponding SQL is: SELECT count(distinct t5.orderNumber) as orders FROM orders t5 INNER JOIN customers t1 ON t5.customerNumber = t1.customerNumber LEFT JOIN employees t2 ON t1.salesRepEmployeeNumber = t2.employeeNumber LEFT JOIN offices t3 ON t2.officeCode = t3.officeCode WHERE YEAR(t5.orderDate) = 2004 AND t3.city = 'Paris';\"\"\""
   ]
  },
  {
   "cell_type": "markdown",
   "id": "461ae59e-cc20-432c-8816-bf51e07a9c70",
   "metadata": {},
   "source": [
    "### Step 2: Create helper functions for Bedrock API and testing MySQL queries\n",
    "1. **get_sql_from_gen_ai_model**: Takes the following input parameters:\n",
    "    * ```prompt```: The prompt with context about the MySQL database schema and column types.\n",
    "    * ```model```: It's a foundation model that generates code based on a natural language description.\n",
    "2. **test_sql**: Takes a SQL query as input and attempts to run a query against a Cloud SQL MySQL database.\n",
    "    * ```query```: The query to run. This can be fed directly from the previous code generation function."
   ]
  },
  {
   "cell_type": "code",
   "execution_count": 7,
   "id": "a19278c8-30ac-4df9-a0ca-6ba9d184b388",
   "metadata": {
    "tags": []
   },
   "outputs": [],
   "source": [
    "def get_sql_from_gen_ai_model(prompt: str, question: str, model):\n",
    "    \n",
    "    combined_prompt = f\"\"\"{prompt}\\n The test question to be answered is: {question}\\n The corresponding SQL is: \n",
    "    Assistant:\"\"\"\n",
    "    print(f\"\"\"Prompt to send to code gen API: \\n{combined_prompt}\"\"\")\n",
    "\n",
    "    accept = 'application/json'\n",
    "    contentType = 'application/json'\n",
    "    \n",
    "    # Claude - Body Syntex\n",
    "    body = json.dumps({\n",
    "                    \"prompt\": combined_prompt,\n",
    "                    \"max_tokens_to_sample\":4096,\n",
    "                    \"temperature\":1,\n",
    "                    \"top_k\":250,\n",
    "                    \"top_p\":0.5,\n",
    "                    \"stop_sequences\": [\"\\n\\nHuman:\"]\n",
    "                  }) \n",
    "\n",
    "\n",
    "    response = boto3_bedrock.invoke_model(body=body, modelId=model, accept=accept, contentType=contentType)\n",
    "    response_body = json.loads(response.get('body').read())\n",
    " \n",
    "    print_ww(response_body.get('completion'))\n",
    "\n",
    "#     vertexai.init(project=project, location=region)\n",
    "#     parameters = {\n",
    "#         \"temperature\": temperature,\n",
    "#         \"max_output_tokens\": max_output_tokens\n",
    "#     }\n",
    "#     code_gen_model = CodeGenerationModel.from_pretrained(model)\n",
    "    \n",
    "#     response = code_gen_model.predict(\n",
    "#         prefix = combined_prompt,\n",
    "#         **parameters\n",
    "#     )\n",
    "\n",
    "    return (response_body.get('completion'))\n",
    "    \n",
    "\n",
    "\n",
    "\n",
    "def test_sql(query: str):\n",
    "    \n",
    "    # function to return the database connection object\n",
    "    def getconn():\n",
    "        # RDS connection info\n",
    "        username = config.db_user\n",
    "        password = config.db_password\n",
    "        host = config.db_host\n",
    "        port = config.db_port\n",
    "        database = config.db_name\n",
    "\n",
    "        # create the connection\n",
    "        # conn = pymysql.connect(host=host, user=username, password=password, db=database, port=port)\n",
    "        conn = pymysql.connect(host=\"database-1.cg8brvavjrza.eu-central-1.rds.amazonaws.com\",\n",
    "                               user=\"admin\", password=\"Pass1234\", db=\"classicmodels\", port=3306)\n",
    "        return conn\n",
    "\n",
    "    # create connection pool with 'creator' argument to our connection object function\n",
    "    pool = sqlalchemy.create_engine(\n",
    "        \"mysql+pymysql://\",\n",
    "        creator=getconn,\n",
    "    )\n",
    "\n",
    "    # connect to connection pool\n",
    "    with pool.connect() as db_conn:\n",
    "        # query and fetch ratings table\n",
    "        results = db_conn.execute(sqlalchemy.text(f\"{query};\")).fetchall()\n",
    "        # show results\n",
    "        output_list = []\n",
    "        for row in results:\n",
    "            output_list.append(row)\n",
    "         \n",
    "    return output_list"
   ]
  },
  {
   "cell_type": "code",
   "execution_count": 9,
   "id": "3dbfcfc0-29ea-40fb-aa0d-be0783ad4254",
   "metadata": {
    "tags": []
   },
   "outputs": [
    {
     "name": "stdout",
     "output_type": "stream",
     "text": [
      "Prompt to send to code gen API: \n",
      "Human: This is a task converting text into SQL statement. \n",
      "Only use the tables and columns provided. \n",
      "We will first give the dataset schema and then ask a question in text. \n",
      "You are asked to generate SQL statement. \n",
      "\n",
      "There are 8 tables in database classicmodels. The titles of the tables are: customers, employees, offices, orderdetails, orders, payments, productlines, products. \n",
      "Table 1 is customers, and it contains customer’s data. Its column names and types are customerNumber (Type is int), customerName (Type is varchar), contactLastName (Type is varchar), contactFirstName (Type is varchar), phone (Type is varchar), addressLine1 (Type is varchar), addressLine2 (Type is varchar), city (Type is varchar), state (Type is varchar), postalCode (Type is varchar), country (Type is varchar), salesRepEmployeeNumber (Type is int), creditLimit (Type is decimal).\n",
      "Table 2 is employees, and it contains all employee information as well as the organization structure such as who reports to whom. Its column names and types are employeeNumber (Type is int), lastName (Type is varchar), firstName (Type is varchar), extension (Type is varchar), email (Type is varchar), officeCode (Type is varchar), reportsTo (Type is int), jobTitle (Type is varchar).\n",
      "Table 3 is offices, and it contains sales office data. Its column names and types are officeCode (Type is varchar), city (Type is varchar), phone (Type is varchar), addressLine1 (Type is varchar), addressLine2 (Type is varchar), state (Type is varchar), country (Type is varchar), postalCode (Type is varchar), territory (Type is varchar).\n",
      "Table 4 is orderdetails, and it contains sales order line items for each sales order. Its column names and types are orderNumber (Type is int), productCode (Type is varchar), quantityOrdered (Type is int), priceEach (Type is decimal), orderLineNumber (Type is smallint).\n",
      "Table 5 is orders, and it contains sales orders placed by customers. Its column names and types are orderNumber (Type is int), orderDate (Type is date), requiredDate (Type is date), shippedDate (Type is date), status (Type is varchar), comments (Type is text), customerNumber (Type is int).\n",
      "Table 6 is payments, and it contains payments made by customers based on their accounts. Its column names and types are customerNumber (Type is int), checkNumber (Type is varchar), paymentDate (Type is date), amount (Type is decimal).\n",
      "Table 7 is productlines, and it contains a list of product line categories. Its column names and types are productLine (Type is varchar), textDescription (Type os varchar), htmlDescription (Type is mediumtext), image (Type is mediumblob).\n",
      "Table 8 is products, and it contains a list of scale model cars. Its column names and types are productCode (Type is varchar), productName (Type is varchar), productLine (Type is varchar), productScale (Type is varchar), productVendor (Type is varchar), productDescription (Type is text), quantityInStock (Type is smallint), buyPrice (Type is decimal), MSRP (Type is decimal).\n",
      "The primary keys are: customerNumber from Table customers, employeeNumber from Table employees,\n",
      "officeCode from Table offices, orderNumber and productCode from Table orderdetails, orderNumber from Table orders, customerNumber and checkNumber from Table payments, productLine from Table productlines, productCode from Table products.\n",
      "The foreign keys are: salesRepEmployeeNumber from Table customers is equivalent with employeeNumber from Table employees, officeCode from Table employees is equivalent with officeCode from table offices, reportsTo from Table employees is equivalent with employeeNumber from Table employees, customerNumber from Table orders is equivalent with customerNumber from Table customers, productLine from Table products is equivelent with productLine from Table productLines. Use foreign keys to join Tables. \n",
      "\n",
      "Let us take 4 example questions and turn them into a SQL statements about database classicmodels.  \n",
      "Here is an example: \n",
      "The question is: How many unique customers placed an order between 1/1/2004 and 1/31/2004? \n",
      "The corresponding SQL is: SELECT count(distinct t1.customerNumber) as distinct_customers FROM orders t5 INNER JOIN customers t1 ON t5.customerNumber = t1.customerNumber WHERE t5.orderDate BETWEEN '2004-01-01' AND '2004-01-31';\n",
      "Here is an example: \n",
      "The question is: What is the product name and price of the highest priced item that was ever purchased? \n",
      "The corresponding SQL is: SELECT t8.productName, t4.priceEach FROM orders t5 INNER JOIN orderdetails t4 ON t5.orderNumber = t4.orderNumber LEFT JOIN products t8 ON t4.productCode = t8.productCode ORDER BY priceEach DESC LIMIT 1;\n",
      "Here is an example: \n",
      "The question is: What is the name of the customer with the highest order amount on 12/1/2003? \n",
      "The corresponding SQL is: SELECT orders.customerName, orders.total_orderAmount FROM (SELECT t5.orderNumber, t1.customerNumber, t1.customerName, SUM(t4.quantityOrdered*t4.priceEach) as total_orderAmount FROM customers t1 INNER JOIN orders t5 ON t1.customerNumber = t5.customerNumber INNER JOIN orderdetails t4 ON t5.orderNumber = t4.orderNumber WHERE t5.orderDate = '2003-12-01' GROUP BY 1,2,3) orders ORDER BY total_orderAmount DESC LIMIT 1;\n",
      "Here is an example: \n",
      "The question is: How many unique orders were placed at the Paris office during the year 2004?\n",
      "The corresponding SQL is: SELECT count(distinct t5.orderNumber) as orders FROM orders t5 INNER JOIN customers t1 ON t5.customerNumber = t1.customerNumber LEFT JOIN employees t2 ON t1.salesRepEmployeeNumber = t2.employeeNumber LEFT JOIN offices t3 ON t2.officeCode = t3.officeCode WHERE YEAR(t5.orderDate) = 2004 AND t3.city = 'Paris';\n",
      " The test question to be answered is: What were sales for the year 2005 by state filtered by customers based in USA?\n",
      " The corresponding SQL is: \n",
      "    Assistant:\n",
      " SELECT t1.state, SUM(t4.quantityOrdered * t4.priceEach) AS sales\n",
      "FROM customers t1\n",
      "INNER JOIN orders t5 ON t1.customerNumber = t5.customerNumber\n",
      "INNER JOIN orderdetails t4 ON t5.orderNumber = t4.orderNumber\n",
      "WHERE t1.country = 'USA'\n",
      "AND YEAR(t5.orderDate) = 2005\n",
      "GROUP BY t1.state;\n",
      " SELECT t1.state, SUM(t4.quantityOrdered * t4.priceEach) AS sales \n",
      "FROM customers t1\n",
      "INNER JOIN orders t5 ON t1.customerNumber = t5.customerNumber\n",
      "INNER JOIN orderdetails t4 ON t5.orderNumber = t4.orderNumber\n",
      "WHERE t1.country = 'USA'\n",
      "AND YEAR(t5.orderDate) = 2005  \n",
      "GROUP BY t1.state;\n",
      "Query results:  [('CA', Decimal('378973.82')), ('PA', Decimal('5849.44')), ('CT', Decimal('28500.78')), ('MA', Decimal('117730.73')), ('NJ', Decimal('43525.04'))]\n"
     ]
    }
   ],
   "source": [
    "easy_text_to_sql = \"\"\"What were sales for the year 2005 by state filtered by customers based in USA?\"\"\"\n",
    "\n",
    "easy_verbose_sql_query = get_sql_from_gen_ai_model(\n",
    "                      prompt = _prompt,\n",
    "                      question = easy_text_to_sql,\n",
    "                      model = \"anthropic.claude-v2\")\n",
    "print(easy_verbose_sql_query)\n",
    "\n",
    "easy_verbose_test_results = test_sql(easy_verbose_sql_query)\n",
    "print(\"Query results: \", easy_verbose_test_results)"
   ]
  }
 ],
 "metadata": {
  "availableInstances": [
   {
    "_defaultOrder": 0,
    "_isFastLaunch": true,
    "category": "General purpose",
    "gpuNum": 0,
    "hideHardwareSpecs": false,
    "memoryGiB": 4,
    "name": "ml.t3.medium",
    "vcpuNum": 2
   },
   {
    "_defaultOrder": 1,
    "_isFastLaunch": false,
    "category": "General purpose",
    "gpuNum": 0,
    "hideHardwareSpecs": false,
    "memoryGiB": 8,
    "name": "ml.t3.large",
    "vcpuNum": 2
   },
   {
    "_defaultOrder": 2,
    "_isFastLaunch": false,
    "category": "General purpose",
    "gpuNum": 0,
    "hideHardwareSpecs": false,
    "memoryGiB": 16,
    "name": "ml.t3.xlarge",
    "vcpuNum": 4
   },
   {
    "_defaultOrder": 3,
    "_isFastLaunch": false,
    "category": "General purpose",
    "gpuNum": 0,
    "hideHardwareSpecs": false,
    "memoryGiB": 32,
    "name": "ml.t3.2xlarge",
    "vcpuNum": 8
   },
   {
    "_defaultOrder": 4,
    "_isFastLaunch": true,
    "category": "General purpose",
    "gpuNum": 0,
    "hideHardwareSpecs": false,
    "memoryGiB": 8,
    "name": "ml.m5.large",
    "vcpuNum": 2
   },
   {
    "_defaultOrder": 5,
    "_isFastLaunch": false,
    "category": "General purpose",
    "gpuNum": 0,
    "hideHardwareSpecs": false,
    "memoryGiB": 16,
    "name": "ml.m5.xlarge",
    "vcpuNum": 4
   },
   {
    "_defaultOrder": 6,
    "_isFastLaunch": false,
    "category": "General purpose",
    "gpuNum": 0,
    "hideHardwareSpecs": false,
    "memoryGiB": 32,
    "name": "ml.m5.2xlarge",
    "vcpuNum": 8
   },
   {
    "_defaultOrder": 7,
    "_isFastLaunch": false,
    "category": "General purpose",
    "gpuNum": 0,
    "hideHardwareSpecs": false,
    "memoryGiB": 64,
    "name": "ml.m5.4xlarge",
    "vcpuNum": 16
   },
   {
    "_defaultOrder": 8,
    "_isFastLaunch": false,
    "category": "General purpose",
    "gpuNum": 0,
    "hideHardwareSpecs": false,
    "memoryGiB": 128,
    "name": "ml.m5.8xlarge",
    "vcpuNum": 32
   },
   {
    "_defaultOrder": 9,
    "_isFastLaunch": false,
    "category": "General purpose",
    "gpuNum": 0,
    "hideHardwareSpecs": false,
    "memoryGiB": 192,
    "name": "ml.m5.12xlarge",
    "vcpuNum": 48
   },
   {
    "_defaultOrder": 10,
    "_isFastLaunch": false,
    "category": "General purpose",
    "gpuNum": 0,
    "hideHardwareSpecs": false,
    "memoryGiB": 256,
    "name": "ml.m5.16xlarge",
    "vcpuNum": 64
   },
   {
    "_defaultOrder": 11,
    "_isFastLaunch": false,
    "category": "General purpose",
    "gpuNum": 0,
    "hideHardwareSpecs": false,
    "memoryGiB": 384,
    "name": "ml.m5.24xlarge",
    "vcpuNum": 96
   },
   {
    "_defaultOrder": 12,
    "_isFastLaunch": false,
    "category": "General purpose",
    "gpuNum": 0,
    "hideHardwareSpecs": false,
    "memoryGiB": 8,
    "name": "ml.m5d.large",
    "vcpuNum": 2
   },
   {
    "_defaultOrder": 13,
    "_isFastLaunch": false,
    "category": "General purpose",
    "gpuNum": 0,
    "hideHardwareSpecs": false,
    "memoryGiB": 16,
    "name": "ml.m5d.xlarge",
    "vcpuNum": 4
   },
   {
    "_defaultOrder": 14,
    "_isFastLaunch": false,
    "category": "General purpose",
    "gpuNum": 0,
    "hideHardwareSpecs": false,
    "memoryGiB": 32,
    "name": "ml.m5d.2xlarge",
    "vcpuNum": 8
   },
   {
    "_defaultOrder": 15,
    "_isFastLaunch": false,
    "category": "General purpose",
    "gpuNum": 0,
    "hideHardwareSpecs": false,
    "memoryGiB": 64,
    "name": "ml.m5d.4xlarge",
    "vcpuNum": 16
   },
   {
    "_defaultOrder": 16,
    "_isFastLaunch": false,
    "category": "General purpose",
    "gpuNum": 0,
    "hideHardwareSpecs": false,
    "memoryGiB": 128,
    "name": "ml.m5d.8xlarge",
    "vcpuNum": 32
   },
   {
    "_defaultOrder": 17,
    "_isFastLaunch": false,
    "category": "General purpose",
    "gpuNum": 0,
    "hideHardwareSpecs": false,
    "memoryGiB": 192,
    "name": "ml.m5d.12xlarge",
    "vcpuNum": 48
   },
   {
    "_defaultOrder": 18,
    "_isFastLaunch": false,
    "category": "General purpose",
    "gpuNum": 0,
    "hideHardwareSpecs": false,
    "memoryGiB": 256,
    "name": "ml.m5d.16xlarge",
    "vcpuNum": 64
   },
   {
    "_defaultOrder": 19,
    "_isFastLaunch": false,
    "category": "General purpose",
    "gpuNum": 0,
    "hideHardwareSpecs": false,
    "memoryGiB": 384,
    "name": "ml.m5d.24xlarge",
    "vcpuNum": 96
   },
   {
    "_defaultOrder": 20,
    "_isFastLaunch": false,
    "category": "General purpose",
    "gpuNum": 0,
    "hideHardwareSpecs": true,
    "memoryGiB": 0,
    "name": "ml.geospatial.interactive",
    "supportedImageNames": [
     "sagemaker-geospatial-v1-0"
    ],
    "vcpuNum": 0
   },
   {
    "_defaultOrder": 21,
    "_isFastLaunch": true,
    "category": "Compute optimized",
    "gpuNum": 0,
    "hideHardwareSpecs": false,
    "memoryGiB": 4,
    "name": "ml.c5.large",
    "vcpuNum": 2
   },
   {
    "_defaultOrder": 22,
    "_isFastLaunch": false,
    "category": "Compute optimized",
    "gpuNum": 0,
    "hideHardwareSpecs": false,
    "memoryGiB": 8,
    "name": "ml.c5.xlarge",
    "vcpuNum": 4
   },
   {
    "_defaultOrder": 23,
    "_isFastLaunch": false,
    "category": "Compute optimized",
    "gpuNum": 0,
    "hideHardwareSpecs": false,
    "memoryGiB": 16,
    "name": "ml.c5.2xlarge",
    "vcpuNum": 8
   },
   {
    "_defaultOrder": 24,
    "_isFastLaunch": false,
    "category": "Compute optimized",
    "gpuNum": 0,
    "hideHardwareSpecs": false,
    "memoryGiB": 32,
    "name": "ml.c5.4xlarge",
    "vcpuNum": 16
   },
   {
    "_defaultOrder": 25,
    "_isFastLaunch": false,
    "category": "Compute optimized",
    "gpuNum": 0,
    "hideHardwareSpecs": false,
    "memoryGiB": 72,
    "name": "ml.c5.9xlarge",
    "vcpuNum": 36
   },
   {
    "_defaultOrder": 26,
    "_isFastLaunch": false,
    "category": "Compute optimized",
    "gpuNum": 0,
    "hideHardwareSpecs": false,
    "memoryGiB": 96,
    "name": "ml.c5.12xlarge",
    "vcpuNum": 48
   },
   {
    "_defaultOrder": 27,
    "_isFastLaunch": false,
    "category": "Compute optimized",
    "gpuNum": 0,
    "hideHardwareSpecs": false,
    "memoryGiB": 144,
    "name": "ml.c5.18xlarge",
    "vcpuNum": 72
   },
   {
    "_defaultOrder": 28,
    "_isFastLaunch": false,
    "category": "Compute optimized",
    "gpuNum": 0,
    "hideHardwareSpecs": false,
    "memoryGiB": 192,
    "name": "ml.c5.24xlarge",
    "vcpuNum": 96
   },
   {
    "_defaultOrder": 29,
    "_isFastLaunch": true,
    "category": "Accelerated computing",
    "gpuNum": 1,
    "hideHardwareSpecs": false,
    "memoryGiB": 16,
    "name": "ml.g4dn.xlarge",
    "vcpuNum": 4
   },
   {
    "_defaultOrder": 30,
    "_isFastLaunch": false,
    "category": "Accelerated computing",
    "gpuNum": 1,
    "hideHardwareSpecs": false,
    "memoryGiB": 32,
    "name": "ml.g4dn.2xlarge",
    "vcpuNum": 8
   },
   {
    "_defaultOrder": 31,
    "_isFastLaunch": false,
    "category": "Accelerated computing",
    "gpuNum": 1,
    "hideHardwareSpecs": false,
    "memoryGiB": 64,
    "name": "ml.g4dn.4xlarge",
    "vcpuNum": 16
   },
   {
    "_defaultOrder": 32,
    "_isFastLaunch": false,
    "category": "Accelerated computing",
    "gpuNum": 1,
    "hideHardwareSpecs": false,
    "memoryGiB": 128,
    "name": "ml.g4dn.8xlarge",
    "vcpuNum": 32
   },
   {
    "_defaultOrder": 33,
    "_isFastLaunch": false,
    "category": "Accelerated computing",
    "gpuNum": 4,
    "hideHardwareSpecs": false,
    "memoryGiB": 192,
    "name": "ml.g4dn.12xlarge",
    "vcpuNum": 48
   },
   {
    "_defaultOrder": 34,
    "_isFastLaunch": false,
    "category": "Accelerated computing",
    "gpuNum": 1,
    "hideHardwareSpecs": false,
    "memoryGiB": 256,
    "name": "ml.g4dn.16xlarge",
    "vcpuNum": 64
   },
   {
    "_defaultOrder": 35,
    "_isFastLaunch": false,
    "category": "Accelerated computing",
    "gpuNum": 1,
    "hideHardwareSpecs": false,
    "memoryGiB": 61,
    "name": "ml.p3.2xlarge",
    "vcpuNum": 8
   },
   {
    "_defaultOrder": 36,
    "_isFastLaunch": false,
    "category": "Accelerated computing",
    "gpuNum": 4,
    "hideHardwareSpecs": false,
    "memoryGiB": 244,
    "name": "ml.p3.8xlarge",
    "vcpuNum": 32
   },
   {
    "_defaultOrder": 37,
    "_isFastLaunch": false,
    "category": "Accelerated computing",
    "gpuNum": 8,
    "hideHardwareSpecs": false,
    "memoryGiB": 488,
    "name": "ml.p3.16xlarge",
    "vcpuNum": 64
   },
   {
    "_defaultOrder": 38,
    "_isFastLaunch": false,
    "category": "Accelerated computing",
    "gpuNum": 8,
    "hideHardwareSpecs": false,
    "memoryGiB": 768,
    "name": "ml.p3dn.24xlarge",
    "vcpuNum": 96
   },
   {
    "_defaultOrder": 39,
    "_isFastLaunch": false,
    "category": "Memory Optimized",
    "gpuNum": 0,
    "hideHardwareSpecs": false,
    "memoryGiB": 16,
    "name": "ml.r5.large",
    "vcpuNum": 2
   },
   {
    "_defaultOrder": 40,
    "_isFastLaunch": false,
    "category": "Memory Optimized",
    "gpuNum": 0,
    "hideHardwareSpecs": false,
    "memoryGiB": 32,
    "name": "ml.r5.xlarge",
    "vcpuNum": 4
   },
   {
    "_defaultOrder": 41,
    "_isFastLaunch": false,
    "category": "Memory Optimized",
    "gpuNum": 0,
    "hideHardwareSpecs": false,
    "memoryGiB": 64,
    "name": "ml.r5.2xlarge",
    "vcpuNum": 8
   },
   {
    "_defaultOrder": 42,
    "_isFastLaunch": false,
    "category": "Memory Optimized",
    "gpuNum": 0,
    "hideHardwareSpecs": false,
    "memoryGiB": 128,
    "name": "ml.r5.4xlarge",
    "vcpuNum": 16
   },
   {
    "_defaultOrder": 43,
    "_isFastLaunch": false,
    "category": "Memory Optimized",
    "gpuNum": 0,
    "hideHardwareSpecs": false,
    "memoryGiB": 256,
    "name": "ml.r5.8xlarge",
    "vcpuNum": 32
   },
   {
    "_defaultOrder": 44,
    "_isFastLaunch": false,
    "category": "Memory Optimized",
    "gpuNum": 0,
    "hideHardwareSpecs": false,
    "memoryGiB": 384,
    "name": "ml.r5.12xlarge",
    "vcpuNum": 48
   },
   {
    "_defaultOrder": 45,
    "_isFastLaunch": false,
    "category": "Memory Optimized",
    "gpuNum": 0,
    "hideHardwareSpecs": false,
    "memoryGiB": 512,
    "name": "ml.r5.16xlarge",
    "vcpuNum": 64
   },
   {
    "_defaultOrder": 46,
    "_isFastLaunch": false,
    "category": "Memory Optimized",
    "gpuNum": 0,
    "hideHardwareSpecs": false,
    "memoryGiB": 768,
    "name": "ml.r5.24xlarge",
    "vcpuNum": 96
   },
   {
    "_defaultOrder": 47,
    "_isFastLaunch": false,
    "category": "Accelerated computing",
    "gpuNum": 1,
    "hideHardwareSpecs": false,
    "memoryGiB": 16,
    "name": "ml.g5.xlarge",
    "vcpuNum": 4
   },
   {
    "_defaultOrder": 48,
    "_isFastLaunch": false,
    "category": "Accelerated computing",
    "gpuNum": 1,
    "hideHardwareSpecs": false,
    "memoryGiB": 32,
    "name": "ml.g5.2xlarge",
    "vcpuNum": 8
   },
   {
    "_defaultOrder": 49,
    "_isFastLaunch": false,
    "category": "Accelerated computing",
    "gpuNum": 1,
    "hideHardwareSpecs": false,
    "memoryGiB": 64,
    "name": "ml.g5.4xlarge",
    "vcpuNum": 16
   },
   {
    "_defaultOrder": 50,
    "_isFastLaunch": false,
    "category": "Accelerated computing",
    "gpuNum": 1,
    "hideHardwareSpecs": false,
    "memoryGiB": 128,
    "name": "ml.g5.8xlarge",
    "vcpuNum": 32
   },
   {
    "_defaultOrder": 51,
    "_isFastLaunch": false,
    "category": "Accelerated computing",
    "gpuNum": 1,
    "hideHardwareSpecs": false,
    "memoryGiB": 256,
    "name": "ml.g5.16xlarge",
    "vcpuNum": 64
   },
   {
    "_defaultOrder": 52,
    "_isFastLaunch": false,
    "category": "Accelerated computing",
    "gpuNum": 4,
    "hideHardwareSpecs": false,
    "memoryGiB": 192,
    "name": "ml.g5.12xlarge",
    "vcpuNum": 48
   },
   {
    "_defaultOrder": 53,
    "_isFastLaunch": false,
    "category": "Accelerated computing",
    "gpuNum": 4,
    "hideHardwareSpecs": false,
    "memoryGiB": 384,
    "name": "ml.g5.24xlarge",
    "vcpuNum": 96
   },
   {
    "_defaultOrder": 54,
    "_isFastLaunch": false,
    "category": "Accelerated computing",
    "gpuNum": 8,
    "hideHardwareSpecs": false,
    "memoryGiB": 768,
    "name": "ml.g5.48xlarge",
    "vcpuNum": 192
   },
   {
    "_defaultOrder": 55,
    "_isFastLaunch": false,
    "category": "Accelerated computing",
    "gpuNum": 8,
    "hideHardwareSpecs": false,
    "memoryGiB": 1152,
    "name": "ml.p4d.24xlarge",
    "vcpuNum": 96
   },
   {
    "_defaultOrder": 56,
    "_isFastLaunch": false,
    "category": "Accelerated computing",
    "gpuNum": 8,
    "hideHardwareSpecs": false,
    "memoryGiB": 1152,
    "name": "ml.p4de.24xlarge",
    "vcpuNum": 96
   },
   {
    "_defaultOrder": 57,
    "_isFastLaunch": false,
    "category": "Accelerated computing",
    "gpuNum": 0,
    "hideHardwareSpecs": false,
    "memoryGiB": 32,
    "name": "ml.trn1.2xlarge",
    "vcpuNum": 8
   },
   {
    "_defaultOrder": 58,
    "_isFastLaunch": false,
    "category": "Accelerated computing",
    "gpuNum": 0,
    "hideHardwareSpecs": false,
    "memoryGiB": 512,
    "name": "ml.trn1.32xlarge",
    "vcpuNum": 128
   },
   {
    "_defaultOrder": 59,
    "_isFastLaunch": false,
    "category": "Accelerated computing",
    "gpuNum": 0,
    "hideHardwareSpecs": false,
    "memoryGiB": 512,
    "name": "ml.trn1n.32xlarge",
    "vcpuNum": 128
   }
  ],
  "environment": {
   "kernel": "python3",
   "name": "common-cpu.m109",
   "type": "gcloud",
   "uri": "gcr.io/deeplearning-platform-release/base-cpu:m109"
  },
  "instance_type": "ml.t3.medium",
  "kernelspec": {
   "display_name": "Python 3 (Data Science 3.0)",
   "language": "python",
   "name": "python3__SAGEMAKER_INTERNAL__arn:aws:sagemaker:eu-central-1:936697816551:image/sagemaker-data-science-310-v1"
  },
  "language_info": {
   "codemirror_mode": {
    "name": "ipython",
    "version": 3
   },
   "file_extension": ".py",
   "mimetype": "text/x-python",
   "name": "python",
   "nbconvert_exporter": "python",
   "pygments_lexer": "ipython3",
   "version": "3.10.6"
  }
 },
 "nbformat": 4,
 "nbformat_minor": 5
}
