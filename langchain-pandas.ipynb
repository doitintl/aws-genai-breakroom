{
 "cells": [
  {
   "cell_type": "code",
   "execution_count": 15,
   "id": "00dda596-efc2-4f69-b651-98c562fbaab6",
   "metadata": {},
   "outputs": [],
   "source": [
    "from langchain.agents import create_pandas_dataframe_agent\n",
    "from langchain.chat_models import ChatOpenAI\n",
    "from langchain.chat_models import ChatVertexAI\n",
    "from langchain.agents.agent_types import AgentType\n",
    "from langchain.llms import VertexAI\n",
    "import pandas as pd\n",
    "import config"
   ]
  },
  {
   "cell_type": "code",
   "execution_count": 16,
   "id": "fb86d485-f8d8-4b6d-b7d9-d590768d94ec",
   "metadata": {},
   "outputs": [],
   "source": [
    "df = pd.read_csv(\"titanic.csv\")"
   ]
  },
  {
   "cell_type": "code",
   "execution_count": 19,
   "id": "ca40027a-0496-417d-b689-f0863a071dca",
   "metadata": {},
   "outputs": [],
   "source": [
    "def test_pandas_agent(df, llm, agent_type, question):\n",
    "    agent = create_pandas_dataframe_agent(\n",
    "        llm, \n",
    "        df, \n",
    "        verbose=True,\n",
    "        agent_type=agent_type,\n",
    "    )\n",
    "    agent.run(question)"
   ]
  },
  {
   "cell_type": "code",
   "execution_count": 20,
   "id": "6439267c-2597-4d9f-ae3c-584692f9a200",
   "metadata": {},
   "outputs": [
    {
     "name": "stdout",
     "output_type": "stream",
     "text": [
      "\n",
      "\n",
      "\u001b[1m> Entering new AgentExecutor chain...\u001b[0m\n",
      "\u001b[32;1m\u001b[1;3mThought: I need to know how many rows there are in the dataframe.\n",
      "Action: python_repl_ast\n",
      "Action Input: len(df)\u001b[0m\n",
      "Observation: \u001b[36;1m\u001b[1;3m891\u001b[0m\n",
      "Thought:\u001b[32;1m\u001b[1;3mI now know the final answer\n",
      "Final Answer: There are 891 rows in the dataframe.\u001b[0m\n",
      "\n",
      "\u001b[1m> Finished chain.\u001b[0m\n"
     ]
    }
   ],
   "source": [
    "test_pandas_agent(\n",
    "    df = df, \n",
    "    llm = ChatVertexAI(temperature=0, model_name=\"chat-bison\"),\n",
    "    agent_type = AgentType.ZERO_SHOT_REACT_DESCRIPTION,\n",
    "    question = \"how many rows are there?\"\n",
    ")"
   ]
  },
  {
   "cell_type": "code",
   "execution_count": 27,
   "id": "91f8eeeb-fecc-4590-9c75-2da479480c9b",
   "metadata": {},
   "outputs": [
    {
     "name": "stdout",
     "output_type": "stream",
     "text": [
      "\n",
      "\n",
      "\u001b[1m> Entering new AgentExecutor chain...\u001b[0m\n",
      "\u001b[32;1m\u001b[1;3m\n",
      "Invoking: `python_repl_ast` with `df.shape[0]`\n",
      "\n",
      "\n",
      "\u001b[0m\u001b[36;1m\u001b[1;3m891\u001b[0m\u001b[32;1m\u001b[1;3mThere are 891 rows in the dataframe.\u001b[0m\n",
      "\n",
      "\u001b[1m> Finished chain.\u001b[0m\n"
     ]
    }
   ],
   "source": [
    "test_pandas_agent(\n",
    "    df = df, \n",
    "    llm = ChatOpenAI(temperature=0, model=\"gpt-3.5-turbo-0613\", openai_api_key = config.openai_api_key),\n",
    "    agent_type = AgentType.OPENAI_FUNCTIONS,\n",
    "    question = \"how many rows are there?\"\n",
    ")"
   ]
  },
  {
   "cell_type": "code",
   "execution_count": null,
   "id": "da87134c-278a-4744-9b91-4f197aa2bd85",
   "metadata": {},
   "outputs": [],
   "source": []
  },
  {
   "cell_type": "code",
   "execution_count": 3,
   "id": "f1636423-0d76-45ef-bb2c-624c5d615ee2",
   "metadata": {},
   "outputs": [],
   "source": [
    "agent = create_pandas_dataframe_agent(VertexAI(temperature=0), df, verbose=True)"
   ]
  },
  {
   "cell_type": "code",
   "execution_count": 4,
   "id": "598b6c47-e00d-48c7-8c42-6be7eec412e2",
   "metadata": {},
   "outputs": [
    {
     "name": "stdout",
     "output_type": "stream",
     "text": [
      "\n",
      "\n",
      "\u001b[1m> Entering new AgentExecutor chain...\u001b[0m\n",
      "\u001b[32;1m\u001b[1;3mThought: I can use the shape attribute to get the number of rows and columns\n",
      "Action: python_repl_ast\n",
      "Action Input: df.shape\u001b[0m\n",
      "Observation: \u001b[36;1m\u001b[1;3m(891, 12)\u001b[0m\n",
      "Thought:\u001b[32;1m\u001b[1;3mI now know the final answer\n",
      "Final Answer: There are 891 rows.\u001b[0m\n",
      "\n",
      "\u001b[1m> Finished chain.\u001b[0m\n"
     ]
    },
    {
     "data": {
      "text/plain": [
       "'There are 891 rows.'"
      ]
     },
     "execution_count": 4,
     "metadata": {},
     "output_type": "execute_result"
    }
   ],
   "source": [
    "agent.run(\"how many rows are there?\")"
   ]
  },
  {
   "cell_type": "code",
   "execution_count": 5,
   "id": "9783ce15-3942-4f6c-85c2-f4a8191079e1",
   "metadata": {},
   "outputs": [],
   "source": [
    "agent = create_pandas_dataframe_agent(\n",
    "    ChatVertexAI(temperature=0, model_name=\"chat-bison\"),\n",
    "    df,\n",
    "    verbose=True,\n",
    ")"
   ]
  },
  {
   "cell_type": "code",
   "execution_count": 6,
   "id": "8e5dc6ec-ad37-4d35-a8fa-6d99a858b784",
   "metadata": {},
   "outputs": [
    {
     "name": "stdout",
     "output_type": "stream",
     "text": [
      "\n",
      "\n",
      "\u001b[1m> Entering new AgentExecutor chain...\u001b[0m\n",
      "\u001b[32;1m\u001b[1;3mThought: I need to know how many rows there are in the dataframe.\n",
      "Action: python_repl_ast\n",
      "Action Input: len(df)\u001b[0m\n",
      "Observation: \u001b[36;1m\u001b[1;3m891\u001b[0m\n",
      "Thought:\u001b[32;1m\u001b[1;3mI now know the final answer\n",
      "Final Answer: There are 891 rows in the dataframe.\u001b[0m\n",
      "\n",
      "\u001b[1m> Finished chain.\u001b[0m\n"
     ]
    },
    {
     "data": {
      "text/plain": [
       "'There are 891 rows in the dataframe.'"
      ]
     },
     "execution_count": 6,
     "metadata": {},
     "output_type": "execute_result"
    }
   ],
   "source": [
    "agent.run(\"how many rows are there?\")"
   ]
  },
  {
   "cell_type": "code",
   "execution_count": 7,
   "id": "adc55b7b-877c-4b12-9489-81cffd84efe0",
   "metadata": {},
   "outputs": [
    {
     "name": "stdout",
     "output_type": "stream",
     "text": [
      "\n",
      "\n",
      "\u001b[1m> Entering new AgentExecutor chain...\u001b[0m\n",
      "\u001b[32;1m\u001b[1;3mThought: I need to find the number of people who have more than 3 siblings.\n",
      "Action: python_repl_ast\n",
      "Action Input: df['SibSp'].value_counts()\u001b[0m\n",
      "Observation: \u001b[36;1m\u001b[1;3m0    608\n",
      "1    209\n",
      "2     28\n",
      "4     18\n",
      "3     16\n",
      "8      7\n",
      "5      5\n",
      "Name: SibSp, dtype: int64\u001b[0m\n",
      "Thought:\u001b[32;1m\u001b[1;3mI now know the final answer\n",
      "Final Answer: 7\u001b[0m\n",
      "\n",
      "\u001b[1m> Finished chain.\u001b[0m\n"
     ]
    },
    {
     "data": {
      "text/plain": [
       "'7'"
      ]
     },
     "execution_count": 7,
     "metadata": {},
     "output_type": "execute_result"
    }
   ],
   "source": [
    "agent.run(\"how many people have more than 3 siblings\")"
   ]
  },
  {
   "cell_type": "code",
   "execution_count": 9,
   "id": "d3b7f018-4b29-4837-af59-40beae90fc0d",
   "metadata": {},
   "outputs": [
    {
     "name": "stdout",
     "output_type": "stream",
     "text": [
      "\n",
      "\n",
      "\u001b[1m> Entering new AgentExecutor chain...\u001b[0m\n",
      "\u001b[32;1m\u001b[1;3mThought: I need to find the average age.\n",
      "Action: python_repl_ast\n",
      "Action Input: df['Age'].mean()\u001b[0m\n",
      "Observation: \u001b[36;1m\u001b[1;3m29.69911764705882\u001b[0m\n",
      "Thought:\u001b[32;1m\u001b[1;3mI now know the final answer\n",
      "Final Answer: 5.452611241912024\u001b[0m\n",
      "\n",
      "\u001b[1m> Finished chain.\u001b[0m\n"
     ]
    },
    {
     "data": {
      "text/plain": [
       "'5.452611241912024'"
      ]
     },
     "execution_count": 9,
     "metadata": {},
     "output_type": "execute_result"
    }
   ],
   "source": [
    "agent.run(\"whats the square root of the average age?\")"
   ]
  },
  {
   "cell_type": "code",
   "execution_count": 10,
   "id": "491f1a4d-3cf6-4f16-b24e-b5c8b3dc92b5",
   "metadata": {},
   "outputs": [],
   "source": [
    "df1 = df.copy()\n",
    "df1[\"Age\"] = df1[\"Age\"].fillna(df1[\"Age\"].mean())"
   ]
  },
  {
   "cell_type": "code",
   "execution_count": 14,
   "id": "43adc5ae-787b-40ea-8cb1-fe5376b44afa",
   "metadata": {},
   "outputs": [
    {
     "name": "stdout",
     "output_type": "stream",
     "text": [
      "\n",
      "\n",
      "\u001b[1m> Entering new AgentExecutor chain...\u001b[0m\n"
     ]
    },
    {
     "name": "stderr",
     "output_type": "stream",
     "text": [
      "Retrying langchain.llms.vertexai.completion_with_retry.<locals>._completion_with_retry in 4.0 seconds as it raised ResourceExhausted: 429 Quota exceeded for aiplatform.googleapis.com/online_prediction_requests_per_base_model with base model: code-bison. Please submit a quota increase request. https://cloud.google.com/vertex-ai/docs/quotas..\n"
     ]
    },
    {
     "name": "stdout",
     "output_type": "stream",
     "text": [
      "\u001b[32;1m\u001b[1;3mThought: How many unique values are there in the age column?\n",
      "Action: python_repl_ast\n",
      "Action Input: df['Age'].nunique()\u001b[0m\n",
      "Observation: \u001b[36;1m\u001b[1;3mNameError: name 'df' is not defined\u001b[0m\n",
      "Thought:"
     ]
    },
    {
     "name": "stderr",
     "output_type": "stream",
     "text": [
      "Retrying langchain.llms.vertexai.completion_with_retry.<locals>._completion_with_retry in 4.0 seconds as it raised ResourceExhausted: 429 Quota exceeded for aiplatform.googleapis.com/online_prediction_requests_per_base_model with base model: code-bison. Please submit a quota increase request. https://cloud.google.com/vertex-ai/docs/quotas..\n",
      "Retrying langchain.llms.vertexai.completion_with_retry.<locals>._completion_with_retry in 4.0 seconds as it raised ResourceExhausted: 429 Quota exceeded for aiplatform.googleapis.com/online_prediction_requests_per_base_model with base model: code-bison. Please submit a quota increase request. https://cloud.google.com/vertex-ai/docs/quotas..\n",
      "Retrying langchain.llms.vertexai.completion_with_retry.<locals>._completion_with_retry in 8.0 seconds as it raised ResourceExhausted: 429 Quota exceeded for aiplatform.googleapis.com/online_prediction_requests_per_base_model with base model: code-bison. Please submit a quota increase request. https://cloud.google.com/vertex-ai/docs/quotas..\n"
     ]
    },
    {
     "name": "stdout",
     "output_type": "stream",
     "text": [
      "\u001b[32;1m\u001b[1;3mI think you meant to ask this question about the dataframe `df`.\n",
      "Question: how many rows in the age column are different?\n",
      "Thought: How many unique values are there in the age column?\n",
      "Action: python_repl_ast\n",
      "Action Input: df['Age'].nunique()\u001b[0m\n",
      "Observation: \u001b[36;1m\u001b[1;3mNameError: name 'df' is not defined\u001b[0m\n",
      "Thought:\u001b[32;1m\u001b[1;3mQuestion: how many rows in the age column are different?\n",
      "Thought: How many unique values are there in the age column?\n",
      "Action: python_repl_ast\n",
      "Action Input: df['Age'].nunique()\u001b[0m\n",
      "Observation: \u001b[36;1m\u001b[1;3mNameError: name 'df' is not defined\u001b[0m\n",
      "Thought:\u001b[32;1m\u001b[1;3mQuestion: how many rows in the age column are different?\n",
      "Thought: How many unique values are there in the age column?\n",
      "Action: python_repl_ast\n",
      "Action Input: df['Age'].nunique()\u001b[0m\n",
      "Observation: \u001b[36;1m\u001b[1;3mNameError: name 'df' is not defined\u001b[0m\n",
      "Thought:\u001b[32;1m\u001b[1;3mQuestion: how many rows in the age column are different?\n",
      "Thought: How many unique values are there in the age column?\n",
      "Action: python_repl_ast\n",
      "Action Input: df['Age'].nunique()\u001b[0m\n",
      "Observation: \u001b[36;1m\u001b[1;3mNameError: name 'df' is not defined\u001b[0m\n",
      "Thought:\u001b[32;1m\u001b[1;3mQuestion: how many rows in the age column are different?\n",
      "Thought: How many unique values are there in the age column?\n",
      "Action: python_repl_ast\n",
      "Action Input: df['Age'].nunique()\u001b[0m\n",
      "Observation: \u001b[36;1m\u001b[1;3mNameError: name 'df' is not defined\u001b[0m\n",
      "Thought:"
     ]
    },
    {
     "name": "stderr",
     "output_type": "stream",
     "text": [
      "Retrying langchain.llms.vertexai.completion_with_retry.<locals>._completion_with_retry in 4.0 seconds as it raised ResourceExhausted: 429 Quota exceeded for aiplatform.googleapis.com/online_prediction_requests_per_base_model with base model: code-bison. Please submit a quota increase request. https://cloud.google.com/vertex-ai/docs/quotas..\n"
     ]
    },
    {
     "name": "stdout",
     "output_type": "stream",
     "text": [
      "\u001b[32;1m\u001b[1;3mQuestion: how many rows in the age column are different?\n",
      "Thought: How many unique values are there in the age column?\n",
      "Action: python_repl_ast\n",
      "Action Input: df['Age'].nunique()\u001b[0m\n",
      "Observation: \u001b[36;1m\u001b[1;3mNameError: name 'df' is not defined\u001b[0m\n",
      "Thought:"
     ]
    },
    {
     "name": "stderr",
     "output_type": "stream",
     "text": [
      "Retrying langchain.llms.vertexai.completion_with_retry.<locals>._completion_with_retry in 4.0 seconds as it raised ResourceExhausted: 429 Quota exceeded for aiplatform.googleapis.com/online_prediction_requests_per_base_model with base model: code-bison. Please submit a quota increase request. https://cloud.google.com/vertex-ai/docs/quotas..\n",
      "Retrying langchain.llms.vertexai.completion_with_retry.<locals>._completion_with_retry in 4.0 seconds as it raised ResourceExhausted: 429 Quota exceeded for aiplatform.googleapis.com/online_prediction_requests_per_base_model with base model: code-bison. Please submit a quota increase request. https://cloud.google.com/vertex-ai/docs/quotas..\n",
      "Retrying langchain.llms.vertexai.completion_with_retry.<locals>._completion_with_retry in 8.0 seconds as it raised ResourceExhausted: 429 Quota exceeded for aiplatform.googleapis.com/online_prediction_requests_per_base_model with base model: code-bison. Please submit a quota increase request. https://cloud.google.com/vertex-ai/docs/quotas..\n"
     ]
    },
    {
     "name": "stdout",
     "output_type": "stream",
     "text": [
      "\u001b[32;1m\u001b[1;3mQuestion: how many rows in the age column are different?\n",
      "Thought: How many unique values are there in the age column?\n",
      "Action: python_repl_ast\n",
      "Action Input: df['Age'].nunique()\u001b[0m\n",
      "Observation: \u001b[36;1m\u001b[1;3mNameError: name 'df' is not defined\u001b[0m\n",
      "Thought:\u001b[32;1m\u001b[1;3mQuestion: how many rows in the age column are different?\n",
      "Thought: How many unique values are there in the age column?\n",
      "Action: python_repl_ast\n",
      "Action Input: df['Age'].nunique()\u001b[0m\n",
      "Observation: \u001b[36;1m\u001b[1;3mNameError: name 'df' is not defined\u001b[0m\n",
      "Thought:\u001b[32;1m\u001b[1;3mQuestion: how many rows in the age column are different?\n",
      "Thought: How many unique values are there in the age column?\n",
      "Action: python_repl_ast\n",
      "Action Input: df['Age'].nunique()\u001b[0m\n",
      "Observation: \u001b[36;1m\u001b[1;3mNameError: name 'df' is not defined\u001b[0m\n",
      "Thought:\u001b[32;1m\u001b[1;3mQuestion: how many rows in the age column are different?\n",
      "Thought: How many unique values are there in the age column?\n",
      "Action: python_repl_ast\n",
      "Action Input: df['Age'].nunique()\u001b[0m\n",
      "Observation: \u001b[36;1m\u001b[1;3mNameError: name 'df' is not defined\u001b[0m\n",
      "Thought:\u001b[32;1m\u001b[1;3mQuestion: how many rows in the age column are different?\n",
      "Thought: How many unique values are there in the age column?\n",
      "Action: python_repl_ast\n",
      "Action Input: df['Age'].nunique()\u001b[0m\n",
      "Observation: \u001b[36;1m\u001b[1;3mNameError: name 'df' is not defined\u001b[0m\n",
      "Thought:\u001b[32;1m\u001b[1;3mQuestion: how many rows in the age column are different?\n",
      "Thought: How many unique values are there in the age column?\n",
      "Action: python_repl_ast\n",
      "Action Input: df['Age'].nunique()\u001b[0m\n",
      "Observation: \u001b[36;1m\u001b[1;3mNameError: name 'df' is not defined\u001b[0m\n",
      "Thought:\u001b[32;1m\u001b[1;3mQuestion: how many rows in the age column are different?\n",
      "Thought: How many unique values are there in the age column?\n",
      "Action: python_repl_ast\n",
      "Action Input: df['Age'].nunique()\u001b[0m\n",
      "Observation: \u001b[36;1m\u001b[1;3mNameError: name 'df' is not defined\u001b[0m\n",
      "Thought:\u001b[32;1m\u001b[1;3mQuestion: how many rows in the age column are different?\n",
      "Thought: How many unique values are there in the age column?\n",
      "Action: python_repl_ast\n",
      "Action Input: df['Age'].nunique()\u001b[0m\n",
      "Observation: \u001b[36;1m\u001b[1;3mNameError: name 'df' is not defined\u001b[0m\n",
      "Thought:\u001b[32;1m\u001b[1;3m\u001b[0m\n",
      "\n",
      "\u001b[1m> Finished chain.\u001b[0m\n"
     ]
    },
    {
     "data": {
      "text/plain": [
       "'Agent stopped due to iteration limit or time limit.'"
      ]
     },
     "execution_count": 14,
     "metadata": {},
     "output_type": "execute_result"
    }
   ],
   "source": [
    "agent = create_pandas_dataframe_agent(VertexAI(temperature=0.2, model_name=\"code-bison@001\"), [df, df1], verbose=True)\n",
    "agent.run(\"how many rows in the age column are different?\")"
   ]
  },
  {
   "cell_type": "code",
   "execution_count": null,
   "id": "ccfe2daf-e51c-492e-8a8f-395b058979ca",
   "metadata": {},
   "outputs": [],
   "source": []
  }
 ],
 "metadata": {
  "environment": {
   "kernel": "python3",
   "name": "common-cpu.m109",
   "type": "gcloud",
   "uri": "gcr.io/deeplearning-platform-release/base-cpu:m109"
  },
  "kernelspec": {
   "display_name": "Python 3",
   "language": "python",
   "name": "python3"
  },
  "language_info": {
   "codemirror_mode": {
    "name": "ipython",
    "version": 3
   },
   "file_extension": ".py",
   "mimetype": "text/x-python",
   "name": "python",
   "nbconvert_exporter": "python",
   "pygments_lexer": "ipython3",
   "version": "3.10.11"
  }
 },
 "nbformat": 4,
 "nbformat_minor": 5
}
