{
 "cells": [
  {
   "cell_type": "markdown",
   "id": "7c14c4c1-a6e3-48e1-8e77-61d1229d37cb",
   "metadata": {},
   "source": [
    "# Text-to-SQL demo using Vertex AI's Codey APIs. \n",
    "The Vertex AI PaLM API contains the publisher endpoints for Google's Pathways Language Model 2 (PaLM 2), which are large language models (LLMs) that generate text and code in response to natural language prompts. The Codey APIs include three models that generate code, suggest code for code completion, and let developers chat to get help with code-related questions."
   ]
  },
  {
   "cell_type": "markdown",
   "id": "3d2c53b7-77f1-4d2b-b2d5-c8a1fb0a5608",
   "metadata": {},
   "source": [
    "### The Use Case: \n",
    "This is a very common database schema for a retail use case\n",
    "![alt text](images/MySQL-Sample-Database-Schema.png \"Title\")"
   ]
  },
  {
   "cell_type": "markdown",
   "id": "509e81fa-03a0-4fdd-b9b2-653794740aec",
   "metadata": {},
   "source": [
    "### Libraries"
   ]
  },
  {
   "cell_type": "code",
   "execution_count": 1,
   "id": "a4a7aa37-6f04-4250-ad0f-fb5645768494",
   "metadata": {},
   "outputs": [],
   "source": [
    "# !pip install SQLAlchemy==2.0.16\n",
    "# !pip install pymysql==1.0.3\n",
    "# !pip install cloud-sql-python-connector[\"pymysql\"]==1.2.4\n",
    "# !pip install google-cloud-aiplatform==1.30.0"
   ]
  },
  {
   "cell_type": "code",
   "execution_count": 6,
   "id": "d8feec4a-e1eb-4f6a-9643-b7db07ce35ba",
   "metadata": {},
   "outputs": [
    {
     "name": "stdout",
     "output_type": "stream",
     "text": [
      "google-cloud-aiplatform (vertexai) version: 1.30.1\n",
      "google-cloud-sql-connector version: 1.2.4\n",
      "sqlalchemy version: 2.0.7\n",
      "pymysql version: 1.0.3\n"
     ]
    }
   ],
   "source": [
    "from google.cloud import aiplatform\n",
    "import vertexai\n",
    "from vertexai.preview.language_models import CodeGenerationModel, CodeChatModel\n",
    "import google.cloud.sql.connector\n",
    "from google.cloud.sql.connector import Connector\n",
    "import sqlalchemy\n",
    "from config import config\n",
    "from importlib.metadata import version\n",
    "\n",
    "\n",
    "print(\"google-cloud-aiplatform (vertexai) version:\", version('google-cloud-aiplatform'))\n",
    "print(\"google-cloud-sql-connector version:\", version('cloud-sql-python-connector'))\n",
    "print(\"sqlalchemy version:\", version('sqlalchemy'))\n",
    "print(\"pymysql version:\", version('pymysql'))"
   ]
  },
  {
   "cell_type": "markdown",
   "id": "1c0dcb95-d682-420e-b123-15accbc0b417",
   "metadata": {},
   "source": [
    "### Set environment variables"
   ]
  },
  {
   "cell_type": "code",
   "execution_count": 7,
   "id": "44d4826f-34c6-43ab-93d5-d4ad0dfaae13",
   "metadata": {},
   "outputs": [
    {
     "name": "stdout",
     "output_type": "stream",
     "text": [
      "Your instance connection name is: jared-playground:us-central1:gen-ai-text-to-mysql\n"
     ]
    }
   ],
   "source": [
    "PROJECT_ID=config.project_id\n",
    "REGION=config.region\n",
    "INSTANCE_NAME=config.instance_name\n",
    "DB_USER = config.db_user\n",
    "DB_NAME = config.db_name\n",
    "\n",
    "# initialize parameters\n",
    "INSTANCE_CONNECTION_NAME = f\"{PROJECT_ID}:{REGION}:{INSTANCE_NAME}\" # i.e demo-project:us-central1:demo-instance\n",
    "print(f\"Your instance connection name is: {INSTANCE_CONNECTION_NAME}\")"
   ]
  },
  {
   "cell_type": "markdown",
   "id": "3384b05d-0eef-4e17-93de-bc7e01c7ffbb",
   "metadata": {},
   "source": [
    "## Text-to-SQL Generative AI to get questions/answers from our database.\n",
    "Vertex AI includes a suite of models that work with code. Together these code models are referred to as the Vertex AI Codey APIs. The Vertex AI Codey APIs include the following:\n",
    "\n",
    "* The **code generation** API - Generates code based on a natural language description of the desired code. For example, it can generate a unit test for a function. The code generation API supports the ```code-bison``` model. For more information about the ```code-bison``` model, see [Code generation model parameters](https://cloud.google.com/vertex-ai/docs/generative-ai/learn/models#code-generation-prompt-parameters).\n",
    "\n",
    "* The **code chat** API - Can power a chatbot that assists with code-related questions. For example, you can use it for help debugging code. The code chat API supports the ```codechat-bison``` model. For more information about the ```codechat-bison``` model, see [Code chat model parameters](https://cloud.google.com/vertex-ai/docs/generative-ai/learn/models#code-chat-prompt-parameters).\n",
    "\n",
    "* The **code completion** API - Provides code autocompletion suggestions as you write code. The API uses the context of the code you're writing to make its suggestions. The code completion API supports the ```code-gecko``` model. Use the ```code-gecko``` model to help improve the speed and accuracy of writing code. For more information about the ```code-gecko``` model, see [Code completion model parameters](https://cloud.google.com/vertex-ai/docs/generative-ai/learn/models#code-completion-prompt-parameters).\n",
    "\n",
    "\n",
    "![alt text](images/codey-table.png \"Title\")"
   ]
  },
  {
   "cell_type": "markdown",
   "id": "2e4bfaf0-0eaa-484c-b438-2488f966485f",
   "metadata": {},
   "source": [
    "### Step 1: Choose a prompt style that describes the schema of the database. Google's [Text-to-SQL paper](https://arxiv.org/pdf/2306.00739.pdf) describes two methodologies for providing the schema in the prompt:\n",
    "* **Verbose Pompt Design**: Prompts are based on using natural language to describe database schema, which is closer to the way LLMs were trained.\n",
    "* **Concise prompt design**: Uses the syntax to describe the database schema, which has advantages of clearly presenting table structure. "
   ]
  },
  {
   "cell_type": "markdown",
   "id": "f543ed5e-4ce8-4d1b-bd5b-fa37119ffaa9",
   "metadata": {},
   "source": [
    "### Verbose prompt design example from Google paper:\n",
    "![alt text](images/verbose.png \"Title\")"
   ]
  },
  {
   "cell_type": "markdown",
   "id": "fa7ecc80-a1d4-4b54-a570-03755e2f6461",
   "metadata": {},
   "source": [
    "Let's create a general verbose style prompt and be sure to include the following sections:\n",
    "* Summary of the task and provide LLM specific instructions.\n",
    "* Describe the schema of the database with the tables and column types.\n",
    "* Provide examples of question/answer SQL pairs."
   ]
  },
  {
   "cell_type": "code",
   "execution_count": 8,
   "id": "8a003b8f-170a-487c-a384-ae45363b75bc",
   "metadata": {},
   "outputs": [],
   "source": [
    "_prompt = \"\"\"This is a task converting text into SQL statement. \n",
    "Only use the tables and columns provided. \n",
    "We will first give the dataset schema and then ask a question in text. \n",
    "You are asked to generate SQL statement. \n",
    "\n",
    "There are 8 tables in database classicmodels. The titles of the tables are: customers, employees, offices, orderdetails, orders, payments, productlines, products. \n",
    "Table 1 is customers, and it contains customer’s data. Its column names and types are customerNumber (Type is int), customerName (Type is varchar), contactLastName (Type is varchar), contactFirstName (Type is varchar), phone (Type is varchar), addressLine1 (Type is varchar), addressLine2 (Type is varchar), city (Type is varchar), state (Type is varchar), postalCode (Type is varchar), country (Type is varchar), salesRepEmployeeNumber (Type is int), creditLimit (Type is decimal).\n",
    "Table 2 is employees, and it contains all employee information as well as the organization structure such as who reports to whom. Its column names and types are employeeNumber (Type is int), lastName (Type is varchar), firstName (Type is varchar), extension (Type is varchar), email (Type is varchar), officeCode (Type is varchar), reportsTo (Type is int), jobTitle (Type is varchar).\n",
    "Table 3 is offices, and it contains sales office data. Its column names and types are officeCode (Type is varchar), city (Type is varchar), phone (Type is varchar), addressLine1 (Type is varchar), addressLine2 (Type is varchar), state (Type is varchar), country (Type is varchar), postalCode (Type is varchar), territory (Type is varchar).\n",
    "Table 4 is orderdetails, and it contains sales order line items for each sales order. Its column names and types are orderNumber (Type is int), productCode (Type is varchar), quantityOrdered (Type is int), priceEach (Type is decimal), orderLineNumber (Type is smallint).\n",
    "Table 5 is orders, and it contains sales orders placed by customers. Its column names and types are orderNumber (Type is int), orderDate (Type is date), requiredDate (Type is date), shippedDate (Type is date), status (Type is varchar), comments (Type is text), customerNumber (Type is int).\n",
    "Table 6 is payments, and it contains payments made by customers based on their accounts. Its column names and types are customerNumber (Type is int), checkNumber (Type is varchar), paymentDate (Type is date), amount (Type is decimal).\n",
    "Table 7 is productlines, and it contains a list of product line categories. Its column names and types are productLine (Type is varchar), textDescription (Type os varchar), htmlDescription (Type is mediumtext), image (Type is mediumblob).\n",
    "Table 8 is products, and it contains a list of scale model cars. Its column names and types are productCode (Type is varchar), productName (Type is varchar), productLine (Type is varchar), productScale (Type is varchar), productVendor (Type is varchar), productDescription (Type is text), quantityInStock (Type is smallint), buyPrice (Type is decimal), MSRP (Type is decimal).\n",
    "The primary keys are: customerNumber from Table customers, employeeNumber from Table employees,\n",
    "officeCode from Table offices, orderNumber and productCode from Table orderdetails, orderNumber from Table orders, customerNumber and checkNumber from Table payments, productLine from Table productlines, productCode from Table products.\n",
    "The foreign keys are: salesRepEmployeeNumber from Table customers is equivalent with employeeNumber from Table employees, officeCode from Table employees is equivalent with officeCode from table offices, reportsTo from Table employees is equivalent with employeeNumber from Table employees, customerNumber from Table orders is equivalent with customerNumber from Table customers, productLine from Table products is equivelent with productLine from Table productLines. Use foreign keys to join Tables. \n",
    "\n",
    "Let us take 4 example questions and turn them into a SQL statements about database classicmodels.  \n",
    "Here is an example: \n",
    "The question is: How many unique customers placed an order between 1/1/2004 and 1/31/2004? \n",
    "The corresponding SQL is: SELECT count(distinct t1.customerNumber) as distinct_customers FROM orders t5 INNER JOIN customers t1 ON t5.customerNumber = t1.customerNumber WHERE t5.orderDate BETWEEN '2004-01-01' AND '2004-01-31';\n",
    "Here is an example: \n",
    "The question is: What is the product name and price of the highest priced item that was ever purchased? \n",
    "The corresponding SQL is: SELECT t8.productName, t4.priceEach FROM orders t5 INNER JOIN orderdetails t4 ON t5.orderNumber = t4.orderNumber LEFT JOIN products t8 ON t4.productCode = t8.productCode ORDER BY priceEach DESC LIMIT 1;\n",
    "Here is an example: \n",
    "The question is: What is the name of the customer with the highest order amount on 12/1/2003? \n",
    "The corresponding SQL is: SELECT orders.customerName, orders.total_orderAmount FROM (SELECT t5.orderNumber, t1.customerNumber, t1.customerName, SUM(t4.quantityOrdered*t4.priceEach) as total_orderAmount FROM customers t1 INNER JOIN orders t5 ON t1.customerNumber = t5.customerNumber INNER JOIN orderdetails t4 ON t5.orderNumber = t4.orderNumber WHERE t5.orderDate = '2003-12-01' GROUP BY 1,2,3) orders ORDER BY total_orderAmount DESC LIMIT 1;\n",
    "Here is an example: \n",
    "The question is: How many unique orders were placed at the Paris office during the year 2004?\n",
    "The corresponding SQL is: SELECT count(distinct t5.orderNumber) as orders FROM orders t5 INNER JOIN customers t1 ON t5.customerNumber = t1.customerNumber LEFT JOIN employees t2 ON t1.salesRepEmployeeNumber = t2.employeeNumber LEFT JOIN offices t3 ON t2.officeCode = t3.officeCode WHERE YEAR(t5.orderDate) = 2004 AND t3.city = 'Paris';\"\"\""
   ]
  },
  {
   "cell_type": "markdown",
   "id": "461ae59e-cc20-432c-8816-bf51e07a9c70",
   "metadata": {},
   "source": [
    "### Step 2: Create helper functions for Codey API and testing MySQL queries\n",
    "1. **get_sql_from_code_gen**: Takes the following input parameters:\n",
    "    * ```prompt```: The prompt with context about the MySQL database schema and column types.\n",
    "    * ```temperature```: The temperature is used for sampling during response generation. Temperature controls the degree of randomness in token selection. Lower temperatures are good for prompts that require a more deterministic and less open-ended or creative response, while higher temperatures can lead to more diverse or creative results. A temperature of 0 is deterministic, meaning that the highest probability response is always selected (Acceptable values: 0.0–1.0; Default: 0.2).\n",
    "    * ```max_output_tokens```: Maximum number of tokens that can be generated in the response. A token is approximately four characters. 100 tokens correspond to roughly 60-80 words. Specify a lower value for shorter responses and a higher value for longer responses (Acceptable values: 1–2048; Default: 1024).\n",
    "    * ```model```: ```code-bison@001``` is the name of the model that supports code generation. It's a foundation model that generates code based on a natural language description. The type of content that ```code-bison``` can create includes functions, web pages, and unit tests. ```code-bison``` is supported by the code generation Codey APIs. Codey APIs are in the PaLM API family. Release date: June 29, 2023.\n",
    "2. **test_sql**: Takes a SQL query as input and attempts to run a query against a Cloud SQL MySQL database.\n",
    "    * ```query```: The query to run. This can be fed directly from the previous code generation function."
   ]
  },
  {
   "cell_type": "code",
   "execution_count": 19,
   "id": "a19278c8-30ac-4df9-a0ca-6ba9d184b388",
   "metadata": {},
   "outputs": [],
   "source": [
    "def get_sql_from_code_gen(project: str, region: str, prompt: str, question: str, temperature: float = 0.2, max_output_tokens: int = 1024, model: str = 'code-bison@001'):\n",
    "    \n",
    "    combined_prompt = f\"\"\"{prompt}\\n The test question to be answered is: {question}\\n The corresponding SQL is: \"\"\"\n",
    "    print(f\"\"\"Prompt to send to code gen API: \\n{combined_prompt}\"\"\")\n",
    "    \n",
    "    vertexai.init(project=project, location=region)\n",
    "    parameters = {\n",
    "        \"temperature\": temperature,\n",
    "        \"max_output_tokens\": max_output_tokens\n",
    "    }\n",
    "    code_gen_model = CodeGenerationModel.from_pretrained(model)\n",
    "    \n",
    "    response = code_gen_model.predict(\n",
    "        prefix = combined_prompt,\n",
    "        **parameters\n",
    "    )\n",
    "\n",
    "    return (response.text)\n",
    "    \n",
    "\n",
    "\n",
    "\n",
    "def test_sql(query: str):\n",
    "    \n",
    "    # initialize Connector object\n",
    "    connector = Connector()\n",
    "\n",
    "    # function to return the database connection object\n",
    "    def getconn():\n",
    "        conn = connector.connect(\n",
    "            INSTANCE_CONNECTION_NAME,\n",
    "            \"pymysql\",\n",
    "            user=DB_USER,\n",
    "            db=DB_NAME\n",
    "        )\n",
    "        return conn\n",
    "\n",
    "    # create connection pool with 'creator' argument to our connection object function\n",
    "    pool = sqlalchemy.create_engine(\n",
    "        \"mysql+pymysql://\",\n",
    "        creator=getconn,\n",
    "    )\n",
    "\n",
    "    # connect to connection pool\n",
    "    with pool.connect() as db_conn:\n",
    "        # query and fetch ratings table\n",
    "        results = db_conn.execute(sqlalchemy.text(f\"{query};\")).fetchall()\n",
    "        # show results\n",
    "        output_list = []\n",
    "        for row in results:\n",
    "            output_list.append(row)\n",
    "         \n",
    "    connector.close()\n",
    "    return output_list"
   ]
  },
  {
   "cell_type": "markdown",
   "id": "3187437c-78fd-41ef-98b5-4d9746ab9bca",
   "metadata": {},
   "source": [
    "### Step 3: Combine the sections of the prompt and test a SQL query\n",
    "Test three different questions based on complexity:\n",
    "* ```easy_text_to_sql``` This is an easier question which we want to get a SQL query.\n",
    "* ```hard_text_to_sql``` This is a harder question which we want to get a SQL query.\n",
    "* ```hardest_text_to_sql``` This is an even harder question which we want to get a SQL query."
   ]
  },
  {
   "cell_type": "code",
   "execution_count": 28,
   "id": "3dbfcfc0-29ea-40fb-aa0d-be0783ad4254",
   "metadata": {},
   "outputs": [
    {
     "name": "stdout",
     "output_type": "stream",
     "text": [
      "Prompt to send to code gen API: \n",
      "This is a task converting text into SQL statement. \n",
      "Only use the tables and columns provided. \n",
      "We will first give the dataset schema and then ask a question in text. \n",
      "You are asked to generate SQL statement. \n",
      "\n",
      "There are 8 tables in database classicmodels. The titles of the tables are: customers, employees, offices, orderdetails, orders, payments, productlines, products. \n",
      "Table 1 is customers, and it contains customer’s data. Its column names and types are customerNumber (Type is int), customerName (Type is varchar), contactLastName (Type is varchar), contactFirstName (Type is varchar), phone (Type is varchar), addressLine1 (Type is varchar), addressLine2 (Type is varchar), city (Type is varchar), state (Type is varchar), postalCode (Type is varchar), country (Type is varchar), salesRepEmployeeNumber (Type is int), creditLimit (Type is decimal).\n",
      "Table 2 is employees, and it contains all employee information as well as the organization structure such as who reports to whom. Its column names and types are employeeNumber (Type is int), lastName (Type is varchar), firstName (Type is varchar), extension (Type is varchar), email (Type is varchar), officeCode (Type is varchar), reportsTo (Type is int), jobTitle (Type is varchar).\n",
      "Table 3 is offices, and it contains sales office data. Its column names and types are officeCode (Type is varchar), city (Type is varchar), phone (Type is varchar), addressLine1 (Type is varchar), addressLine2 (Type is varchar), state (Type is varchar), country (Type is varchar), postalCode (Type is varchar), territory (Type is varchar).\n",
      "Table 4 is orderdetails, and it contains sales order line items for each sales order. Its column names and types are orderNumber (Type is int), productCode (Type is varchar), quantityOrdered (Type is int), priceEach (Type is decimal), orderLineNumber (Type is smallint).\n",
      "Table 5 is orders, and it contains sales orders placed by customers. Its column names and types are orderNumber (Type is int), orderDate (Type is date), requiredDate (Type is date), shippedDate (Type is date), status (Type is varchar), comments (Type is text), customerNumber (Type is int).\n",
      "Table 6 is payments, and it contains payments made by customers based on their accounts. Its column names and types are customerNumber (Type is int), checkNumber (Type is varchar), paymentDate (Type is date), amount (Type is decimal).\n",
      "Table 7 is productlines, and it contains a list of product line categories. Its column names and types are productLine (Type is varchar), textDescription (Type os varchar), htmlDescription (Type is mediumtext), image (Type is mediumblob).\n",
      "Table 8 is products, and it contains a list of scale model cars. Its column names and types are productCode (Type is varchar), productName (Type is varchar), productLine (Type is varchar), productScale (Type is varchar), productVendor (Type is varchar), productDescription (Type is text), quantityInStock (Type is smallint), buyPrice (Type is decimal), MSRP (Type is decimal).\n",
      "The primary keys are: customerNumber from Table customers, employeeNumber from Table employees,\n",
      "officeCode from Table offices, orderNumber and productCode from Table orderdetails, orderNumber from Table orders, customerNumber and checkNumber from Table payments, productLine from Table productlines, productCode from Table products.\n",
      "The foreign keys are: salesRepEmployeeNumber from Table customers is equivalent with employeeNumber from Table employees, officeCode from Table employees is equivalent with officeCode from table offices, reportsTo from Table employees is equivalent with employeeNumber from Table employees, customerNumber from Table orders is equivalent with customerNumber from Table customers, productLine from Table products is equivelent with productLine from Table productLines. Use foreign keys to join Tables. \n",
      "\n",
      "Let us take 4 example questions and turn them into a SQL statements about database classicmodels.  \n",
      "Here is an example: \n",
      "The question is: How many unique customers placed an order between 1/1/2004 and 1/31/2004? \n",
      "The corresponding SQL is: SELECT count(distinct t1.customerNumber) as distinct_customers FROM orders t5 INNER JOIN customers t1 ON t5.customerNumber = t1.customerNumber WHERE t5.orderDate BETWEEN '2004-01-01' AND '2004-01-31';\n",
      "Here is an example: \n",
      "The question is: What is the product name and price of the highest priced item that was ever purchased? \n",
      "The corresponding SQL is: SELECT t8.productName, t4.priceEach FROM orders t5 INNER JOIN orderdetails t4 ON t5.orderNumber = t4.orderNumber LEFT JOIN products t8 ON t4.productCode = t8.productCode ORDER BY priceEach DESC LIMIT 1;\n",
      "Here is an example: \n",
      "The question is: What is the name of the customer with the highest order amount on 12/1/2003? \n",
      "The corresponding SQL is: SELECT orders.customerName, orders.total_orderAmount FROM (SELECT t5.orderNumber, t1.customerNumber, t1.customerName, SUM(t4.quantityOrdered*t4.priceEach) as total_orderAmount FROM customers t1 INNER JOIN orders t5 ON t1.customerNumber = t5.customerNumber INNER JOIN orderdetails t4 ON t5.orderNumber = t4.orderNumber WHERE t5.orderDate = '2003-12-01' GROUP BY 1,2,3) orders ORDER BY total_orderAmount DESC LIMIT 1;\n",
      "Here is an example: \n",
      "The question is: How many unique orders were placed at the Paris office during the year 2004?\n",
      "The corresponding SQL is: SELECT count(distinct t5.orderNumber) as orders FROM orders t5 INNER JOIN customers t1 ON t5.customerNumber = t1.customerNumber LEFT JOIN employees t2 ON t1.salesRepEmployeeNumber = t2.employeeNumber LEFT JOIN offices t3 ON t2.officeCode = t3.officeCode WHERE YEAR(t5.orderDate) = 2004 AND t3.city = 'Paris';\n",
      " The test question to be answered is: What were sales for the year 2005 by state filtered by customers based in USA?\n",
      " The corresponding SQL is: \n",
      "SELECT t1.state , SUM(t4.quantityOrdered * t4.priceEach) AS sales FROM customers t1 INNER JOIN orders t5 ON t1.customerNumber = t5.customerNumber INNER JOIN orderdetails t4 ON t5.orderNumber = t4.orderNumber WHERE t1.country = 'USA' AND YEAR(t5.orderDate) = 2005 GROUP BY 1;\n",
      "Query results:  [('CA', Decimal('378973.82')), ('PA', Decimal('5849.44')), ('CT', Decimal('28500.78')), ('MA', Decimal('117730.73')), ('NJ', Decimal('43525.04'))]\n"
     ]
    }
   ],
   "source": [
    "easy_text_to_sql = \"\"\"What were sales for the year 2005 by state filtered by customers based in USA?\"\"\"\n",
    "\n",
    "easy_verbose_sql_query = get_sql_from_code_gen(project = PROJECT_ID, \n",
    "                      region = REGION,\n",
    "                      prompt = _prompt,\n",
    "                      question = easy_text_to_sql,\n",
    "                      temperature = 0, \n",
    "                      max_output_tokens = 1024, \n",
    "                      model = \"code-bison@001\")\n",
    "print(easy_verbose_sql_query)\n",
    "\n",
    "easy_verbose_test_results = test_sql(easy_verbose_sql_query)\n",
    "print(\"Query results: \", easy_verbose_test_results)"
   ]
  },
  {
   "cell_type": "markdown",
   "id": "938cdd9f-9438-4552-b0f7-28004958afad",
   "metadata": {},
   "source": [
    "### Less easy question"
   ]
  },
  {
   "cell_type": "code",
   "execution_count": 29,
   "id": "983d8e39-ef94-49e8-82da-901addb76652",
   "metadata": {},
   "outputs": [
    {
     "name": "stdout",
     "output_type": "stream",
     "text": [
      "Prompt to send to code gen API: \n",
      "This is a task converting text into SQL statement. \n",
      "Only use the tables and columns provided. \n",
      "We will first give the dataset schema and then ask a question in text. \n",
      "You are asked to generate SQL statement. \n",
      "\n",
      "There are 8 tables in database classicmodels. The titles of the tables are: customers, employees, offices, orderdetails, orders, payments, productlines, products. \n",
      "Table 1 is customers, and it contains customer’s data. Its column names and types are customerNumber (Type is int), customerName (Type is varchar), contactLastName (Type is varchar), contactFirstName (Type is varchar), phone (Type is varchar), addressLine1 (Type is varchar), addressLine2 (Type is varchar), city (Type is varchar), state (Type is varchar), postalCode (Type is varchar), country (Type is varchar), salesRepEmployeeNumber (Type is int), creditLimit (Type is decimal).\n",
      "Table 2 is employees, and it contains all employee information as well as the organization structure such as who reports to whom. Its column names and types are employeeNumber (Type is int), lastName (Type is varchar), firstName (Type is varchar), extension (Type is varchar), email (Type is varchar), officeCode (Type is varchar), reportsTo (Type is int), jobTitle (Type is varchar).\n",
      "Table 3 is offices, and it contains sales office data. Its column names and types are officeCode (Type is varchar), city (Type is varchar), phone (Type is varchar), addressLine1 (Type is varchar), addressLine2 (Type is varchar), state (Type is varchar), country (Type is varchar), postalCode (Type is varchar), territory (Type is varchar).\n",
      "Table 4 is orderdetails, and it contains sales order line items for each sales order. Its column names and types are orderNumber (Type is int), productCode (Type is varchar), quantityOrdered (Type is int), priceEach (Type is decimal), orderLineNumber (Type is smallint).\n",
      "Table 5 is orders, and it contains sales orders placed by customers. Its column names and types are orderNumber (Type is int), orderDate (Type is date), requiredDate (Type is date), shippedDate (Type is date), status (Type is varchar), comments (Type is text), customerNumber (Type is int).\n",
      "Table 6 is payments, and it contains payments made by customers based on their accounts. Its column names and types are customerNumber (Type is int), checkNumber (Type is varchar), paymentDate (Type is date), amount (Type is decimal).\n",
      "Table 7 is productlines, and it contains a list of product line categories. Its column names and types are productLine (Type is varchar), textDescription (Type os varchar), htmlDescription (Type is mediumtext), image (Type is mediumblob).\n",
      "Table 8 is products, and it contains a list of scale model cars. Its column names and types are productCode (Type is varchar), productName (Type is varchar), productLine (Type is varchar), productScale (Type is varchar), productVendor (Type is varchar), productDescription (Type is text), quantityInStock (Type is smallint), buyPrice (Type is decimal), MSRP (Type is decimal).\n",
      "The primary keys are: customerNumber from Table customers, employeeNumber from Table employees,\n",
      "officeCode from Table offices, orderNumber and productCode from Table orderdetails, orderNumber from Table orders, customerNumber and checkNumber from Table payments, productLine from Table productlines, productCode from Table products.\n",
      "The foreign keys are: salesRepEmployeeNumber from Table customers is equivalent with employeeNumber from Table employees, officeCode from Table employees is equivalent with officeCode from table offices, reportsTo from Table employees is equivalent with employeeNumber from Table employees, customerNumber from Table orders is equivalent with customerNumber from Table customers, productLine from Table products is equivelent with productLine from Table productLines. Use foreign keys to join Tables. \n",
      "\n",
      "Let us take 4 example questions and turn them into a SQL statements about database classicmodels.  \n",
      "Here is an example: \n",
      "The question is: How many unique customers placed an order between 1/1/2004 and 1/31/2004? \n",
      "The corresponding SQL is: SELECT count(distinct t1.customerNumber) as distinct_customers FROM orders t5 INNER JOIN customers t1 ON t5.customerNumber = t1.customerNumber WHERE t5.orderDate BETWEEN '2004-01-01' AND '2004-01-31';\n",
      "Here is an example: \n",
      "The question is: What is the product name and price of the highest priced item that was ever purchased? \n",
      "The corresponding SQL is: SELECT t8.productName, t4.priceEach FROM orders t5 INNER JOIN orderdetails t4 ON t5.orderNumber = t4.orderNumber LEFT JOIN products t8 ON t4.productCode = t8.productCode ORDER BY priceEach DESC LIMIT 1;\n",
      "Here is an example: \n",
      "The question is: What is the name of the customer with the highest order amount on 12/1/2003? \n",
      "The corresponding SQL is: SELECT orders.customerName, orders.total_orderAmount FROM (SELECT t5.orderNumber, t1.customerNumber, t1.customerName, SUM(t4.quantityOrdered*t4.priceEach) as total_orderAmount FROM customers t1 INNER JOIN orders t5 ON t1.customerNumber = t5.customerNumber INNER JOIN orderdetails t4 ON t5.orderNumber = t4.orderNumber WHERE t5.orderDate = '2003-12-01' GROUP BY 1,2,3) orders ORDER BY total_orderAmount DESC LIMIT 1;\n",
      "Here is an example: \n",
      "The question is: How many unique orders were placed at the Paris office during the year 2004?\n",
      "The corresponding SQL is: SELECT count(distinct t5.orderNumber) as orders FROM orders t5 INNER JOIN customers t1 ON t5.customerNumber = t1.customerNumber LEFT JOIN employees t2 ON t1.salesRepEmployeeNumber = t2.employeeNumber LEFT JOIN offices t3 ON t2.officeCode = t3.officeCode WHERE YEAR(t5.orderDate) = 2004 AND t3.city = 'Paris';\n",
      " The test question to be answered is: What is the name of the customer with the lowest order amount on 1/6/2003?\n",
      " The corresponding SQL is: \n",
      "SELECT t1.customerName FROM customers t1 INNER JOIN orders t5 ON t1.customerNumber = t5.customerNumber INNER JOIN orderdetails t4 ON t5.orderNumber = t4.orderNumber WHERE t5.orderDate = '2003-01-06' GROUP BY 1 ORDER BY SUM(t4.quantityOrdered*t4.priceEach) ASC LIMIT 1;\n",
      "Query results:  [('Online Diecast Creations Co.',)]\n"
     ]
    }
   ],
   "source": [
    "hard_text_to_sql = \"\"\"What is the name of the customer with the lowest order amount on 1/6/2003?\"\"\"\n",
    "\n",
    "hard_verbose_sql_query = get_sql_from_code_gen(project = PROJECT_ID, \n",
    "                      region = REGION,\n",
    "                      prompt = _prompt,\n",
    "                      question = hard_text_to_sql,\n",
    "                      temperature = 0, \n",
    "                      max_output_tokens = 1024, \n",
    "                      model = \"code-bison@001\")\n",
    "print(hard_verbose_sql_query)\n",
    "\n",
    "hard_verbose_test_results = test_sql(hard_verbose_sql_query)\n",
    "print(\"Query results: \", hard_verbose_test_results)"
   ]
  },
  {
   "cell_type": "markdown",
   "id": "70b642c2-8388-4d7e-833b-bfab426dcb35",
   "metadata": {},
   "source": [
    "### Least easy question\n",
    "The main issue that exists is **hallucination**. LLMs can write SQL, but they are often prone to making up tables, making up fields, and generally just writing SQL that if executed against your database would not actually be valid. So one of the big challenges we face is how to ground the LLM in reality so that it produces valid SQL."
   ]
  },
  {
   "cell_type": "code",
   "execution_count": 30,
   "id": "170130c8-c78d-4987-9fec-2dec43c17f5a",
   "metadata": {},
   "outputs": [
    {
     "name": "stdout",
     "output_type": "stream",
     "text": [
      "Prompt to send to code gen API: \n",
      "This is a task converting text into SQL statement. \n",
      "Only use the tables and columns provided. \n",
      "We will first give the dataset schema and then ask a question in text. \n",
      "You are asked to generate SQL statement. \n",
      "\n",
      "There are 8 tables in database classicmodels. The titles of the tables are: customers, employees, offices, orderdetails, orders, payments, productlines, products. \n",
      "Table 1 is customers, and it contains customer’s data. Its column names and types are customerNumber (Type is int), customerName (Type is varchar), contactLastName (Type is varchar), contactFirstName (Type is varchar), phone (Type is varchar), addressLine1 (Type is varchar), addressLine2 (Type is varchar), city (Type is varchar), state (Type is varchar), postalCode (Type is varchar), country (Type is varchar), salesRepEmployeeNumber (Type is int), creditLimit (Type is decimal).\n",
      "Table 2 is employees, and it contains all employee information as well as the organization structure such as who reports to whom. Its column names and types are employeeNumber (Type is int), lastName (Type is varchar), firstName (Type is varchar), extension (Type is varchar), email (Type is varchar), officeCode (Type is varchar), reportsTo (Type is int), jobTitle (Type is varchar).\n",
      "Table 3 is offices, and it contains sales office data. Its column names and types are officeCode (Type is varchar), city (Type is varchar), phone (Type is varchar), addressLine1 (Type is varchar), addressLine2 (Type is varchar), state (Type is varchar), country (Type is varchar), postalCode (Type is varchar), territory (Type is varchar).\n",
      "Table 4 is orderdetails, and it contains sales order line items for each sales order. Its column names and types are orderNumber (Type is int), productCode (Type is varchar), quantityOrdered (Type is int), priceEach (Type is decimal), orderLineNumber (Type is smallint).\n",
      "Table 5 is orders, and it contains sales orders placed by customers. Its column names and types are orderNumber (Type is int), orderDate (Type is date), requiredDate (Type is date), shippedDate (Type is date), status (Type is varchar), comments (Type is text), customerNumber (Type is int).\n",
      "Table 6 is payments, and it contains payments made by customers based on their accounts. Its column names and types are customerNumber (Type is int), checkNumber (Type is varchar), paymentDate (Type is date), amount (Type is decimal).\n",
      "Table 7 is productlines, and it contains a list of product line categories. Its column names and types are productLine (Type is varchar), textDescription (Type os varchar), htmlDescription (Type is mediumtext), image (Type is mediumblob).\n",
      "Table 8 is products, and it contains a list of scale model cars. Its column names and types are productCode (Type is varchar), productName (Type is varchar), productLine (Type is varchar), productScale (Type is varchar), productVendor (Type is varchar), productDescription (Type is text), quantityInStock (Type is smallint), buyPrice (Type is decimal), MSRP (Type is decimal).\n",
      "The primary keys are: customerNumber from Table customers, employeeNumber from Table employees,\n",
      "officeCode from Table offices, orderNumber and productCode from Table orderdetails, orderNumber from Table orders, customerNumber and checkNumber from Table payments, productLine from Table productlines, productCode from Table products.\n",
      "The foreign keys are: salesRepEmployeeNumber from Table customers is equivalent with employeeNumber from Table employees, officeCode from Table employees is equivalent with officeCode from table offices, reportsTo from Table employees is equivalent with employeeNumber from Table employees, customerNumber from Table orders is equivalent with customerNumber from Table customers, productLine from Table products is equivelent with productLine from Table productLines. Use foreign keys to join Tables. \n",
      "\n",
      "Let us take 4 example questions and turn them into a SQL statements about database classicmodels.  \n",
      "Here is an example: \n",
      "The question is: How many unique customers placed an order between 1/1/2004 and 1/31/2004? \n",
      "The corresponding SQL is: SELECT count(distinct t1.customerNumber) as distinct_customers FROM orders t5 INNER JOIN customers t1 ON t5.customerNumber = t1.customerNumber WHERE t5.orderDate BETWEEN '2004-01-01' AND '2004-01-31';\n",
      "Here is an example: \n",
      "The question is: What is the product name and price of the highest priced item that was ever purchased? \n",
      "The corresponding SQL is: SELECT t8.productName, t4.priceEach FROM orders t5 INNER JOIN orderdetails t4 ON t5.orderNumber = t4.orderNumber LEFT JOIN products t8 ON t4.productCode = t8.productCode ORDER BY priceEach DESC LIMIT 1;\n",
      "Here is an example: \n",
      "The question is: What is the name of the customer with the highest order amount on 12/1/2003? \n",
      "The corresponding SQL is: SELECT orders.customerName, orders.total_orderAmount FROM (SELECT t5.orderNumber, t1.customerNumber, t1.customerName, SUM(t4.quantityOrdered*t4.priceEach) as total_orderAmount FROM customers t1 INNER JOIN orders t5 ON t1.customerNumber = t5.customerNumber INNER JOIN orderdetails t4 ON t5.orderNumber = t4.orderNumber WHERE t5.orderDate = '2003-12-01' GROUP BY 1,2,3) orders ORDER BY total_orderAmount DESC LIMIT 1;\n",
      "Here is an example: \n",
      "The question is: How many unique orders were placed at the Paris office during the year 2004?\n",
      "The corresponding SQL is: SELECT count(distinct t5.orderNumber) as orders FROM orders t5 INNER JOIN customers t1 ON t5.customerNumber = t1.customerNumber LEFT JOIN employees t2 ON t1.salesRepEmployeeNumber = t2.employeeNumber LEFT JOIN offices t3 ON t2.officeCode = t3.officeCode WHERE YEAR(t5.orderDate) = 2004 AND t3.city = 'Paris';\n",
      " The test question to be answered is: What is the average difference between order date and ship date grouped by the customer's country and ordered by the average difference?\n",
      " The corresponding SQL is: \n",
      "SELECT t5.country, AVG(DATEDIFF(t5.shippedDate, t5.orderDate)) AS average_difference FROM orders t5 INNER JOIN customers t1 ON t5.customerNumber = t1.customerNumber GROUP BY 1 ORDER BY 2;\n"
     ]
    },
    {
     "ename": "OperationalError",
     "evalue": "(pymysql.err.OperationalError) (1054, \"Unknown column 't5.country' in 'field list'\")\n[SQL: SELECT t5.country, AVG(DATEDIFF(t5.shippedDate, t5.orderDate)) AS average_difference FROM orders t5 INNER JOIN customers t1 ON t5.customerNumber = t1.customerNumber GROUP BY 1 ORDER BY 2;;]\n(Background on this error at: https://sqlalche.me/e/20/e3q8)",
     "output_type": "error",
     "traceback": [
      "\u001b[0;31m---------------------------------------------------------------------------\u001b[0m",
      "\u001b[0;31mOperationalError\u001b[0m                          Traceback (most recent call last)",
      "File \u001b[0;32m/opt/conda/lib/python3.10/site-packages/sqlalchemy/engine/base.py:1964\u001b[0m, in \u001b[0;36mConnection._exec_single_context\u001b[0;34m(self, dialect, context, statement, parameters)\u001b[0m\n\u001b[1;32m   1963\u001b[0m     \u001b[38;5;28;01mif\u001b[39;00m \u001b[38;5;129;01mnot\u001b[39;00m evt_handled:\n\u001b[0;32m-> 1964\u001b[0m         \u001b[38;5;28;43mself\u001b[39;49m\u001b[38;5;241;43m.\u001b[39;49m\u001b[43mdialect\u001b[49m\u001b[38;5;241;43m.\u001b[39;49m\u001b[43mdo_execute\u001b[49m\u001b[43m(\u001b[49m\n\u001b[1;32m   1965\u001b[0m \u001b[43m            \u001b[49m\u001b[43mcursor\u001b[49m\u001b[43m,\u001b[49m\u001b[43m \u001b[49m\u001b[43mstr_statement\u001b[49m\u001b[43m,\u001b[49m\u001b[43m \u001b[49m\u001b[43meffective_parameters\u001b[49m\u001b[43m,\u001b[49m\u001b[43m \u001b[49m\u001b[43mcontext\u001b[49m\n\u001b[1;32m   1966\u001b[0m \u001b[43m        \u001b[49m\u001b[43m)\u001b[49m\n\u001b[1;32m   1968\u001b[0m \u001b[38;5;28;01mif\u001b[39;00m \u001b[38;5;28mself\u001b[39m\u001b[38;5;241m.\u001b[39m_has_events \u001b[38;5;129;01mor\u001b[39;00m \u001b[38;5;28mself\u001b[39m\u001b[38;5;241m.\u001b[39mengine\u001b[38;5;241m.\u001b[39m_has_events:\n",
      "File \u001b[0;32m/opt/conda/lib/python3.10/site-packages/sqlalchemy/engine/default.py:748\u001b[0m, in \u001b[0;36mDefaultDialect.do_execute\u001b[0;34m(self, cursor, statement, parameters, context)\u001b[0m\n\u001b[1;32m    747\u001b[0m \u001b[38;5;28;01mdef\u001b[39;00m \u001b[38;5;21mdo_execute\u001b[39m(\u001b[38;5;28mself\u001b[39m, cursor, statement, parameters, context\u001b[38;5;241m=\u001b[39m\u001b[38;5;28;01mNone\u001b[39;00m):\n\u001b[0;32m--> 748\u001b[0m     \u001b[43mcursor\u001b[49m\u001b[38;5;241;43m.\u001b[39;49m\u001b[43mexecute\u001b[49m\u001b[43m(\u001b[49m\u001b[43mstatement\u001b[49m\u001b[43m,\u001b[49m\u001b[43m \u001b[49m\u001b[43mparameters\u001b[49m\u001b[43m)\u001b[49m\n",
      "File \u001b[0;32m/opt/conda/lib/python3.10/site-packages/pymysql/cursors.py:158\u001b[0m, in \u001b[0;36mCursor.execute\u001b[0;34m(self, query, args)\u001b[0m\n\u001b[1;32m    156\u001b[0m query \u001b[38;5;241m=\u001b[39m \u001b[38;5;28mself\u001b[39m\u001b[38;5;241m.\u001b[39mmogrify(query, args)\n\u001b[0;32m--> 158\u001b[0m result \u001b[38;5;241m=\u001b[39m \u001b[38;5;28;43mself\u001b[39;49m\u001b[38;5;241;43m.\u001b[39;49m\u001b[43m_query\u001b[49m\u001b[43m(\u001b[49m\u001b[43mquery\u001b[49m\u001b[43m)\u001b[49m\n\u001b[1;32m    159\u001b[0m \u001b[38;5;28mself\u001b[39m\u001b[38;5;241m.\u001b[39m_executed \u001b[38;5;241m=\u001b[39m query\n",
      "File \u001b[0;32m/opt/conda/lib/python3.10/site-packages/pymysql/cursors.py:325\u001b[0m, in \u001b[0;36mCursor._query\u001b[0;34m(self, q)\u001b[0m\n\u001b[1;32m    324\u001b[0m \u001b[38;5;28mself\u001b[39m\u001b[38;5;241m.\u001b[39m_clear_result()\n\u001b[0;32m--> 325\u001b[0m \u001b[43mconn\u001b[49m\u001b[38;5;241;43m.\u001b[39;49m\u001b[43mquery\u001b[49m\u001b[43m(\u001b[49m\u001b[43mq\u001b[49m\u001b[43m)\u001b[49m\n\u001b[1;32m    326\u001b[0m \u001b[38;5;28mself\u001b[39m\u001b[38;5;241m.\u001b[39m_do_get_result()\n",
      "File \u001b[0;32m/opt/conda/lib/python3.10/site-packages/pymysql/connections.py:549\u001b[0m, in \u001b[0;36mConnection.query\u001b[0;34m(self, sql, unbuffered)\u001b[0m\n\u001b[1;32m    548\u001b[0m \u001b[38;5;28mself\u001b[39m\u001b[38;5;241m.\u001b[39m_execute_command(COMMAND\u001b[38;5;241m.\u001b[39mCOM_QUERY, sql)\n\u001b[0;32m--> 549\u001b[0m \u001b[38;5;28mself\u001b[39m\u001b[38;5;241m.\u001b[39m_affected_rows \u001b[38;5;241m=\u001b[39m \u001b[38;5;28;43mself\u001b[39;49m\u001b[38;5;241;43m.\u001b[39;49m\u001b[43m_read_query_result\u001b[49m\u001b[43m(\u001b[49m\u001b[43munbuffered\u001b[49m\u001b[38;5;241;43m=\u001b[39;49m\u001b[43munbuffered\u001b[49m\u001b[43m)\u001b[49m\n\u001b[1;32m    550\u001b[0m \u001b[38;5;28;01mreturn\u001b[39;00m \u001b[38;5;28mself\u001b[39m\u001b[38;5;241m.\u001b[39m_affected_rows\n",
      "File \u001b[0;32m/opt/conda/lib/python3.10/site-packages/pymysql/connections.py:779\u001b[0m, in \u001b[0;36mConnection._read_query_result\u001b[0;34m(self, unbuffered)\u001b[0m\n\u001b[1;32m    778\u001b[0m     result \u001b[38;5;241m=\u001b[39m MySQLResult(\u001b[38;5;28mself\u001b[39m)\n\u001b[0;32m--> 779\u001b[0m     \u001b[43mresult\u001b[49m\u001b[38;5;241;43m.\u001b[39;49m\u001b[43mread\u001b[49m\u001b[43m(\u001b[49m\u001b[43m)\u001b[49m\n\u001b[1;32m    780\u001b[0m \u001b[38;5;28mself\u001b[39m\u001b[38;5;241m.\u001b[39m_result \u001b[38;5;241m=\u001b[39m result\n",
      "File \u001b[0;32m/opt/conda/lib/python3.10/site-packages/pymysql/connections.py:1157\u001b[0m, in \u001b[0;36mMySQLResult.read\u001b[0;34m(self)\u001b[0m\n\u001b[1;32m   1156\u001b[0m \u001b[38;5;28;01mtry\u001b[39;00m:\n\u001b[0;32m-> 1157\u001b[0m     first_packet \u001b[38;5;241m=\u001b[39m \u001b[38;5;28;43mself\u001b[39;49m\u001b[38;5;241;43m.\u001b[39;49m\u001b[43mconnection\u001b[49m\u001b[38;5;241;43m.\u001b[39;49m\u001b[43m_read_packet\u001b[49m\u001b[43m(\u001b[49m\u001b[43m)\u001b[49m\n\u001b[1;32m   1159\u001b[0m     \u001b[38;5;28;01mif\u001b[39;00m first_packet\u001b[38;5;241m.\u001b[39mis_ok_packet():\n",
      "File \u001b[0;32m/opt/conda/lib/python3.10/site-packages/pymysql/connections.py:729\u001b[0m, in \u001b[0;36mConnection._read_packet\u001b[0;34m(self, packet_type)\u001b[0m\n\u001b[1;32m    728\u001b[0m         \u001b[38;5;28mself\u001b[39m\u001b[38;5;241m.\u001b[39m_result\u001b[38;5;241m.\u001b[39munbuffered_active \u001b[38;5;241m=\u001b[39m \u001b[38;5;28;01mFalse\u001b[39;00m\n\u001b[0;32m--> 729\u001b[0m     \u001b[43mpacket\u001b[49m\u001b[38;5;241;43m.\u001b[39;49m\u001b[43mraise_for_error\u001b[49m\u001b[43m(\u001b[49m\u001b[43m)\u001b[49m\n\u001b[1;32m    730\u001b[0m \u001b[38;5;28;01mreturn\u001b[39;00m packet\n",
      "File \u001b[0;32m/opt/conda/lib/python3.10/site-packages/pymysql/protocol.py:221\u001b[0m, in \u001b[0;36mMysqlPacket.raise_for_error\u001b[0;34m(self)\u001b[0m\n\u001b[1;32m    220\u001b[0m     \u001b[38;5;28mprint\u001b[39m(\u001b[38;5;124m\"\u001b[39m\u001b[38;5;124merrno =\u001b[39m\u001b[38;5;124m\"\u001b[39m, errno)\n\u001b[0;32m--> 221\u001b[0m \u001b[43merr\u001b[49m\u001b[38;5;241;43m.\u001b[39;49m\u001b[43mraise_mysql_exception\u001b[49m\u001b[43m(\u001b[49m\u001b[38;5;28;43mself\u001b[39;49m\u001b[38;5;241;43m.\u001b[39;49m\u001b[43m_data\u001b[49m\u001b[43m)\u001b[49m\n",
      "File \u001b[0;32m/opt/conda/lib/python3.10/site-packages/pymysql/err.py:143\u001b[0m, in \u001b[0;36mraise_mysql_exception\u001b[0;34m(data)\u001b[0m\n\u001b[1;32m    142\u001b[0m     errorclass \u001b[38;5;241m=\u001b[39m InternalError \u001b[38;5;28;01mif\u001b[39;00m errno \u001b[38;5;241m<\u001b[39m \u001b[38;5;241m1000\u001b[39m \u001b[38;5;28;01melse\u001b[39;00m OperationalError\n\u001b[0;32m--> 143\u001b[0m \u001b[38;5;28;01mraise\u001b[39;00m errorclass(errno, errval)\n",
      "\u001b[0;31mOperationalError\u001b[0m: (1054, \"Unknown column 't5.country' in 'field list'\")",
      "\nThe above exception was the direct cause of the following exception:\n",
      "\u001b[0;31mOperationalError\u001b[0m                          Traceback (most recent call last)",
      "Cell \u001b[0;32mIn[30], line 12\u001b[0m\n\u001b[1;32m      3\u001b[0m hardest_verbose_sql_query \u001b[38;5;241m=\u001b[39m get_sql_from_code_gen(project \u001b[38;5;241m=\u001b[39m PROJECT_ID, \n\u001b[1;32m      4\u001b[0m                       region \u001b[38;5;241m=\u001b[39m REGION,\n\u001b[1;32m      5\u001b[0m                       prompt \u001b[38;5;241m=\u001b[39m _prompt,\n\u001b[0;32m   (...)\u001b[0m\n\u001b[1;32m      8\u001b[0m                       max_output_tokens \u001b[38;5;241m=\u001b[39m \u001b[38;5;241m1024\u001b[39m, \n\u001b[1;32m      9\u001b[0m                       model \u001b[38;5;241m=\u001b[39m \u001b[38;5;124m\"\u001b[39m\u001b[38;5;124mcode-bison@001\u001b[39m\u001b[38;5;124m\"\u001b[39m)\n\u001b[1;32m     10\u001b[0m \u001b[38;5;28mprint\u001b[39m(hardest_verbose_sql_query)\n\u001b[0;32m---> 12\u001b[0m hardest_verbose_test_results \u001b[38;5;241m=\u001b[39m \u001b[43mtest_sql\u001b[49m\u001b[43m(\u001b[49m\u001b[43mhardest_verbose_sql_query\u001b[49m\u001b[43m)\u001b[49m\n\u001b[1;32m     13\u001b[0m \u001b[38;5;28mprint\u001b[39m(\u001b[38;5;124m\"\u001b[39m\u001b[38;5;124mQuery results: \u001b[39m\u001b[38;5;124m\"\u001b[39m, hardest_verbose_test_results)\n",
      "Cell \u001b[0;32mIn[19], line 47\u001b[0m, in \u001b[0;36mtest_sql\u001b[0;34m(query)\u001b[0m\n\u001b[1;32m     44\u001b[0m \u001b[38;5;66;03m# connect to connection pool\u001b[39;00m\n\u001b[1;32m     45\u001b[0m \u001b[38;5;28;01mwith\u001b[39;00m pool\u001b[38;5;241m.\u001b[39mconnect() \u001b[38;5;28;01mas\u001b[39;00m db_conn:\n\u001b[1;32m     46\u001b[0m     \u001b[38;5;66;03m# query and fetch ratings table\u001b[39;00m\n\u001b[0;32m---> 47\u001b[0m     results \u001b[38;5;241m=\u001b[39m \u001b[43mdb_conn\u001b[49m\u001b[38;5;241;43m.\u001b[39;49m\u001b[43mexecute\u001b[49m\u001b[43m(\u001b[49m\u001b[43msqlalchemy\u001b[49m\u001b[38;5;241;43m.\u001b[39;49m\u001b[43mtext\u001b[49m\u001b[43m(\u001b[49m\u001b[38;5;124;43mf\u001b[39;49m\u001b[38;5;124;43m\"\u001b[39;49m\u001b[38;5;132;43;01m{\u001b[39;49;00m\u001b[43mquery\u001b[49m\u001b[38;5;132;43;01m}\u001b[39;49;00m\u001b[38;5;124;43m;\u001b[39;49m\u001b[38;5;124;43m\"\u001b[39;49m\u001b[43m)\u001b[49m\u001b[43m)\u001b[49m\u001b[38;5;241m.\u001b[39mfetchall()\n\u001b[1;32m     48\u001b[0m     \u001b[38;5;66;03m# show results\u001b[39;00m\n\u001b[1;32m     49\u001b[0m     output_list \u001b[38;5;241m=\u001b[39m []\n",
      "File \u001b[0;32m/opt/conda/lib/python3.10/site-packages/sqlalchemy/engine/base.py:1414\u001b[0m, in \u001b[0;36mConnection.execute\u001b[0;34m(self, statement, parameters, execution_options)\u001b[0m\n\u001b[1;32m   1412\u001b[0m     \u001b[38;5;28;01mraise\u001b[39;00m exc\u001b[38;5;241m.\u001b[39mObjectNotExecutableError(statement) \u001b[38;5;28;01mfrom\u001b[39;00m \u001b[38;5;21;01merr\u001b[39;00m\n\u001b[1;32m   1413\u001b[0m \u001b[38;5;28;01melse\u001b[39;00m:\n\u001b[0;32m-> 1414\u001b[0m     \u001b[38;5;28;01mreturn\u001b[39;00m \u001b[43mmeth\u001b[49m\u001b[43m(\u001b[49m\n\u001b[1;32m   1415\u001b[0m \u001b[43m        \u001b[49m\u001b[38;5;28;43mself\u001b[39;49m\u001b[43m,\u001b[49m\n\u001b[1;32m   1416\u001b[0m \u001b[43m        \u001b[49m\u001b[43mdistilled_parameters\u001b[49m\u001b[43m,\u001b[49m\n\u001b[1;32m   1417\u001b[0m \u001b[43m        \u001b[49m\u001b[43mexecution_options\u001b[49m\u001b[43m \u001b[49m\u001b[38;5;129;43;01mor\u001b[39;49;00m\u001b[43m \u001b[49m\u001b[43mNO_OPTIONS\u001b[49m\u001b[43m,\u001b[49m\n\u001b[1;32m   1418\u001b[0m \u001b[43m    \u001b[49m\u001b[43m)\u001b[49m\n",
      "File \u001b[0;32m/opt/conda/lib/python3.10/site-packages/sqlalchemy/sql/elements.py:486\u001b[0m, in \u001b[0;36mClauseElement._execute_on_connection\u001b[0;34m(self, connection, distilled_params, execution_options)\u001b[0m\n\u001b[1;32m    484\u001b[0m     \u001b[38;5;28;01mif\u001b[39;00m TYPE_CHECKING:\n\u001b[1;32m    485\u001b[0m         \u001b[38;5;28;01massert\u001b[39;00m \u001b[38;5;28misinstance\u001b[39m(\u001b[38;5;28mself\u001b[39m, Executable)\n\u001b[0;32m--> 486\u001b[0m     \u001b[38;5;28;01mreturn\u001b[39;00m \u001b[43mconnection\u001b[49m\u001b[38;5;241;43m.\u001b[39;49m\u001b[43m_execute_clauseelement\u001b[49m\u001b[43m(\u001b[49m\n\u001b[1;32m    487\u001b[0m \u001b[43m        \u001b[49m\u001b[38;5;28;43mself\u001b[39;49m\u001b[43m,\u001b[49m\u001b[43m \u001b[49m\u001b[43mdistilled_params\u001b[49m\u001b[43m,\u001b[49m\u001b[43m \u001b[49m\u001b[43mexecution_options\u001b[49m\n\u001b[1;32m    488\u001b[0m \u001b[43m    \u001b[49m\u001b[43m)\u001b[49m\n\u001b[1;32m    489\u001b[0m \u001b[38;5;28;01melse\u001b[39;00m:\n\u001b[1;32m    490\u001b[0m     \u001b[38;5;28;01mraise\u001b[39;00m exc\u001b[38;5;241m.\u001b[39mObjectNotExecutableError(\u001b[38;5;28mself\u001b[39m)\n",
      "File \u001b[0;32m/opt/conda/lib/python3.10/site-packages/sqlalchemy/engine/base.py:1638\u001b[0m, in \u001b[0;36mConnection._execute_clauseelement\u001b[0;34m(self, elem, distilled_parameters, execution_options)\u001b[0m\n\u001b[1;32m   1626\u001b[0m compiled_cache: Optional[CompiledCacheType] \u001b[38;5;241m=\u001b[39m execution_options\u001b[38;5;241m.\u001b[39mget(\n\u001b[1;32m   1627\u001b[0m     \u001b[38;5;124m\"\u001b[39m\u001b[38;5;124mcompiled_cache\u001b[39m\u001b[38;5;124m\"\u001b[39m, \u001b[38;5;28mself\u001b[39m\u001b[38;5;241m.\u001b[39mengine\u001b[38;5;241m.\u001b[39m_compiled_cache\n\u001b[1;32m   1628\u001b[0m )\n\u001b[1;32m   1630\u001b[0m compiled_sql, extracted_params, cache_hit \u001b[38;5;241m=\u001b[39m elem\u001b[38;5;241m.\u001b[39m_compile_w_cache(\n\u001b[1;32m   1631\u001b[0m     dialect\u001b[38;5;241m=\u001b[39mdialect,\n\u001b[1;32m   1632\u001b[0m     compiled_cache\u001b[38;5;241m=\u001b[39mcompiled_cache,\n\u001b[0;32m   (...)\u001b[0m\n\u001b[1;32m   1636\u001b[0m     linting\u001b[38;5;241m=\u001b[39m\u001b[38;5;28mself\u001b[39m\u001b[38;5;241m.\u001b[39mdialect\u001b[38;5;241m.\u001b[39mcompiler_linting \u001b[38;5;241m|\u001b[39m compiler\u001b[38;5;241m.\u001b[39mWARN_LINTING,\n\u001b[1;32m   1637\u001b[0m )\n\u001b[0;32m-> 1638\u001b[0m ret \u001b[38;5;241m=\u001b[39m \u001b[38;5;28;43mself\u001b[39;49m\u001b[38;5;241;43m.\u001b[39;49m\u001b[43m_execute_context\u001b[49m\u001b[43m(\u001b[49m\n\u001b[1;32m   1639\u001b[0m \u001b[43m    \u001b[49m\u001b[43mdialect\u001b[49m\u001b[43m,\u001b[49m\n\u001b[1;32m   1640\u001b[0m \u001b[43m    \u001b[49m\u001b[43mdialect\u001b[49m\u001b[38;5;241;43m.\u001b[39;49m\u001b[43mexecution_ctx_cls\u001b[49m\u001b[38;5;241;43m.\u001b[39;49m\u001b[43m_init_compiled\u001b[49m\u001b[43m,\u001b[49m\n\u001b[1;32m   1641\u001b[0m \u001b[43m    \u001b[49m\u001b[43mcompiled_sql\u001b[49m\u001b[43m,\u001b[49m\n\u001b[1;32m   1642\u001b[0m \u001b[43m    \u001b[49m\u001b[43mdistilled_parameters\u001b[49m\u001b[43m,\u001b[49m\n\u001b[1;32m   1643\u001b[0m \u001b[43m    \u001b[49m\u001b[43mexecution_options\u001b[49m\u001b[43m,\u001b[49m\n\u001b[1;32m   1644\u001b[0m \u001b[43m    \u001b[49m\u001b[43mcompiled_sql\u001b[49m\u001b[43m,\u001b[49m\n\u001b[1;32m   1645\u001b[0m \u001b[43m    \u001b[49m\u001b[43mdistilled_parameters\u001b[49m\u001b[43m,\u001b[49m\n\u001b[1;32m   1646\u001b[0m \u001b[43m    \u001b[49m\u001b[43melem\u001b[49m\u001b[43m,\u001b[49m\n\u001b[1;32m   1647\u001b[0m \u001b[43m    \u001b[49m\u001b[43mextracted_params\u001b[49m\u001b[43m,\u001b[49m\n\u001b[1;32m   1648\u001b[0m \u001b[43m    \u001b[49m\u001b[43mcache_hit\u001b[49m\u001b[38;5;241;43m=\u001b[39;49m\u001b[43mcache_hit\u001b[49m\u001b[43m,\u001b[49m\n\u001b[1;32m   1649\u001b[0m \u001b[43m\u001b[49m\u001b[43m)\u001b[49m\n\u001b[1;32m   1650\u001b[0m \u001b[38;5;28;01mif\u001b[39;00m has_events:\n\u001b[1;32m   1651\u001b[0m     \u001b[38;5;28mself\u001b[39m\u001b[38;5;241m.\u001b[39mdispatch\u001b[38;5;241m.\u001b[39mafter_execute(\n\u001b[1;32m   1652\u001b[0m         \u001b[38;5;28mself\u001b[39m,\n\u001b[1;32m   1653\u001b[0m         elem,\n\u001b[0;32m   (...)\u001b[0m\n\u001b[1;32m   1657\u001b[0m         ret,\n\u001b[1;32m   1658\u001b[0m     )\n",
      "File \u001b[0;32m/opt/conda/lib/python3.10/site-packages/sqlalchemy/engine/base.py:1842\u001b[0m, in \u001b[0;36mConnection._execute_context\u001b[0;34m(self, dialect, constructor, statement, parameters, execution_options, *args, **kw)\u001b[0m\n\u001b[1;32m   1837\u001b[0m     \u001b[38;5;28;01mreturn\u001b[39;00m \u001b[38;5;28mself\u001b[39m\u001b[38;5;241m.\u001b[39m_exec_insertmany_context(\n\u001b[1;32m   1838\u001b[0m         dialect,\n\u001b[1;32m   1839\u001b[0m         context,\n\u001b[1;32m   1840\u001b[0m     )\n\u001b[1;32m   1841\u001b[0m \u001b[38;5;28;01melse\u001b[39;00m:\n\u001b[0;32m-> 1842\u001b[0m     \u001b[38;5;28;01mreturn\u001b[39;00m \u001b[38;5;28;43mself\u001b[39;49m\u001b[38;5;241;43m.\u001b[39;49m\u001b[43m_exec_single_context\u001b[49m\u001b[43m(\u001b[49m\n\u001b[1;32m   1843\u001b[0m \u001b[43m        \u001b[49m\u001b[43mdialect\u001b[49m\u001b[43m,\u001b[49m\u001b[43m \u001b[49m\u001b[43mcontext\u001b[49m\u001b[43m,\u001b[49m\u001b[43m \u001b[49m\u001b[43mstatement\u001b[49m\u001b[43m,\u001b[49m\u001b[43m \u001b[49m\u001b[43mparameters\u001b[49m\n\u001b[1;32m   1844\u001b[0m \u001b[43m    \u001b[49m\u001b[43m)\u001b[49m\n",
      "File \u001b[0;32m/opt/conda/lib/python3.10/site-packages/sqlalchemy/engine/base.py:1983\u001b[0m, in \u001b[0;36mConnection._exec_single_context\u001b[0;34m(self, dialect, context, statement, parameters)\u001b[0m\n\u001b[1;32m   1980\u001b[0m     result \u001b[38;5;241m=\u001b[39m context\u001b[38;5;241m.\u001b[39m_setup_result_proxy()\n\u001b[1;32m   1982\u001b[0m \u001b[38;5;28;01mexcept\u001b[39;00m \u001b[38;5;167;01mBaseException\u001b[39;00m \u001b[38;5;28;01mas\u001b[39;00m e:\n\u001b[0;32m-> 1983\u001b[0m     \u001b[38;5;28;43mself\u001b[39;49m\u001b[38;5;241;43m.\u001b[39;49m\u001b[43m_handle_dbapi_exception\u001b[49m\u001b[43m(\u001b[49m\n\u001b[1;32m   1984\u001b[0m \u001b[43m        \u001b[49m\u001b[43me\u001b[49m\u001b[43m,\u001b[49m\u001b[43m \u001b[49m\u001b[43mstr_statement\u001b[49m\u001b[43m,\u001b[49m\u001b[43m \u001b[49m\u001b[43meffective_parameters\u001b[49m\u001b[43m,\u001b[49m\u001b[43m \u001b[49m\u001b[43mcursor\u001b[49m\u001b[43m,\u001b[49m\u001b[43m \u001b[49m\u001b[43mcontext\u001b[49m\n\u001b[1;32m   1985\u001b[0m \u001b[43m    \u001b[49m\u001b[43m)\u001b[49m\n\u001b[1;32m   1987\u001b[0m \u001b[38;5;28;01mreturn\u001b[39;00m result\n",
      "File \u001b[0;32m/opt/conda/lib/python3.10/site-packages/sqlalchemy/engine/base.py:2326\u001b[0m, in \u001b[0;36mConnection._handle_dbapi_exception\u001b[0;34m(self, e, statement, parameters, cursor, context, is_sub_exec)\u001b[0m\n\u001b[1;32m   2324\u001b[0m \u001b[38;5;28;01melif\u001b[39;00m should_wrap:\n\u001b[1;32m   2325\u001b[0m     \u001b[38;5;28;01massert\u001b[39;00m sqlalchemy_exception \u001b[38;5;129;01mis\u001b[39;00m \u001b[38;5;129;01mnot\u001b[39;00m \u001b[38;5;28;01mNone\u001b[39;00m\n\u001b[0;32m-> 2326\u001b[0m     \u001b[38;5;28;01mraise\u001b[39;00m sqlalchemy_exception\u001b[38;5;241m.\u001b[39mwith_traceback(exc_info[\u001b[38;5;241m2\u001b[39m]) \u001b[38;5;28;01mfrom\u001b[39;00m \u001b[38;5;21;01me\u001b[39;00m\n\u001b[1;32m   2327\u001b[0m \u001b[38;5;28;01melse\u001b[39;00m:\n\u001b[1;32m   2328\u001b[0m     \u001b[38;5;28;01massert\u001b[39;00m exc_info[\u001b[38;5;241m1\u001b[39m] \u001b[38;5;129;01mis\u001b[39;00m \u001b[38;5;129;01mnot\u001b[39;00m \u001b[38;5;28;01mNone\u001b[39;00m\n",
      "File \u001b[0;32m/opt/conda/lib/python3.10/site-packages/sqlalchemy/engine/base.py:1964\u001b[0m, in \u001b[0;36mConnection._exec_single_context\u001b[0;34m(self, dialect, context, statement, parameters)\u001b[0m\n\u001b[1;32m   1962\u001b[0m                 \u001b[38;5;28;01mbreak\u001b[39;00m\n\u001b[1;32m   1963\u001b[0m     \u001b[38;5;28;01mif\u001b[39;00m \u001b[38;5;129;01mnot\u001b[39;00m evt_handled:\n\u001b[0;32m-> 1964\u001b[0m         \u001b[38;5;28;43mself\u001b[39;49m\u001b[38;5;241;43m.\u001b[39;49m\u001b[43mdialect\u001b[49m\u001b[38;5;241;43m.\u001b[39;49m\u001b[43mdo_execute\u001b[49m\u001b[43m(\u001b[49m\n\u001b[1;32m   1965\u001b[0m \u001b[43m            \u001b[49m\u001b[43mcursor\u001b[49m\u001b[43m,\u001b[49m\u001b[43m \u001b[49m\u001b[43mstr_statement\u001b[49m\u001b[43m,\u001b[49m\u001b[43m \u001b[49m\u001b[43meffective_parameters\u001b[49m\u001b[43m,\u001b[49m\u001b[43m \u001b[49m\u001b[43mcontext\u001b[49m\n\u001b[1;32m   1966\u001b[0m \u001b[43m        \u001b[49m\u001b[43m)\u001b[49m\n\u001b[1;32m   1968\u001b[0m \u001b[38;5;28;01mif\u001b[39;00m \u001b[38;5;28mself\u001b[39m\u001b[38;5;241m.\u001b[39m_has_events \u001b[38;5;129;01mor\u001b[39;00m \u001b[38;5;28mself\u001b[39m\u001b[38;5;241m.\u001b[39mengine\u001b[38;5;241m.\u001b[39m_has_events:\n\u001b[1;32m   1969\u001b[0m     \u001b[38;5;28mself\u001b[39m\u001b[38;5;241m.\u001b[39mdispatch\u001b[38;5;241m.\u001b[39mafter_cursor_execute(\n\u001b[1;32m   1970\u001b[0m         \u001b[38;5;28mself\u001b[39m,\n\u001b[1;32m   1971\u001b[0m         cursor,\n\u001b[0;32m   (...)\u001b[0m\n\u001b[1;32m   1975\u001b[0m         context\u001b[38;5;241m.\u001b[39mexecutemany,\n\u001b[1;32m   1976\u001b[0m     )\n",
      "File \u001b[0;32m/opt/conda/lib/python3.10/site-packages/sqlalchemy/engine/default.py:748\u001b[0m, in \u001b[0;36mDefaultDialect.do_execute\u001b[0;34m(self, cursor, statement, parameters, context)\u001b[0m\n\u001b[1;32m    747\u001b[0m \u001b[38;5;28;01mdef\u001b[39;00m \u001b[38;5;21mdo_execute\u001b[39m(\u001b[38;5;28mself\u001b[39m, cursor, statement, parameters, context\u001b[38;5;241m=\u001b[39m\u001b[38;5;28;01mNone\u001b[39;00m):\n\u001b[0;32m--> 748\u001b[0m     \u001b[43mcursor\u001b[49m\u001b[38;5;241;43m.\u001b[39;49m\u001b[43mexecute\u001b[49m\u001b[43m(\u001b[49m\u001b[43mstatement\u001b[49m\u001b[43m,\u001b[49m\u001b[43m \u001b[49m\u001b[43mparameters\u001b[49m\u001b[43m)\u001b[49m\n",
      "File \u001b[0;32m/opt/conda/lib/python3.10/site-packages/pymysql/cursors.py:158\u001b[0m, in \u001b[0;36mCursor.execute\u001b[0;34m(self, query, args)\u001b[0m\n\u001b[1;32m    154\u001b[0m     \u001b[38;5;28;01mpass\u001b[39;00m\n\u001b[1;32m    156\u001b[0m query \u001b[38;5;241m=\u001b[39m \u001b[38;5;28mself\u001b[39m\u001b[38;5;241m.\u001b[39mmogrify(query, args)\n\u001b[0;32m--> 158\u001b[0m result \u001b[38;5;241m=\u001b[39m \u001b[38;5;28;43mself\u001b[39;49m\u001b[38;5;241;43m.\u001b[39;49m\u001b[43m_query\u001b[49m\u001b[43m(\u001b[49m\u001b[43mquery\u001b[49m\u001b[43m)\u001b[49m\n\u001b[1;32m    159\u001b[0m \u001b[38;5;28mself\u001b[39m\u001b[38;5;241m.\u001b[39m_executed \u001b[38;5;241m=\u001b[39m query\n\u001b[1;32m    160\u001b[0m \u001b[38;5;28;01mreturn\u001b[39;00m result\n",
      "File \u001b[0;32m/opt/conda/lib/python3.10/site-packages/pymysql/cursors.py:325\u001b[0m, in \u001b[0;36mCursor._query\u001b[0;34m(self, q)\u001b[0m\n\u001b[1;32m    323\u001b[0m conn \u001b[38;5;241m=\u001b[39m \u001b[38;5;28mself\u001b[39m\u001b[38;5;241m.\u001b[39m_get_db()\n\u001b[1;32m    324\u001b[0m \u001b[38;5;28mself\u001b[39m\u001b[38;5;241m.\u001b[39m_clear_result()\n\u001b[0;32m--> 325\u001b[0m \u001b[43mconn\u001b[49m\u001b[38;5;241;43m.\u001b[39;49m\u001b[43mquery\u001b[49m\u001b[43m(\u001b[49m\u001b[43mq\u001b[49m\u001b[43m)\u001b[49m\n\u001b[1;32m    326\u001b[0m \u001b[38;5;28mself\u001b[39m\u001b[38;5;241m.\u001b[39m_do_get_result()\n\u001b[1;32m    327\u001b[0m \u001b[38;5;28;01mreturn\u001b[39;00m \u001b[38;5;28mself\u001b[39m\u001b[38;5;241m.\u001b[39mrowcount\n",
      "File \u001b[0;32m/opt/conda/lib/python3.10/site-packages/pymysql/connections.py:549\u001b[0m, in \u001b[0;36mConnection.query\u001b[0;34m(self, sql, unbuffered)\u001b[0m\n\u001b[1;32m    547\u001b[0m     sql \u001b[38;5;241m=\u001b[39m sql\u001b[38;5;241m.\u001b[39mencode(\u001b[38;5;28mself\u001b[39m\u001b[38;5;241m.\u001b[39mencoding, \u001b[38;5;124m\"\u001b[39m\u001b[38;5;124msurrogateescape\u001b[39m\u001b[38;5;124m\"\u001b[39m)\n\u001b[1;32m    548\u001b[0m \u001b[38;5;28mself\u001b[39m\u001b[38;5;241m.\u001b[39m_execute_command(COMMAND\u001b[38;5;241m.\u001b[39mCOM_QUERY, sql)\n\u001b[0;32m--> 549\u001b[0m \u001b[38;5;28mself\u001b[39m\u001b[38;5;241m.\u001b[39m_affected_rows \u001b[38;5;241m=\u001b[39m \u001b[38;5;28;43mself\u001b[39;49m\u001b[38;5;241;43m.\u001b[39;49m\u001b[43m_read_query_result\u001b[49m\u001b[43m(\u001b[49m\u001b[43munbuffered\u001b[49m\u001b[38;5;241;43m=\u001b[39;49m\u001b[43munbuffered\u001b[49m\u001b[43m)\u001b[49m\n\u001b[1;32m    550\u001b[0m \u001b[38;5;28;01mreturn\u001b[39;00m \u001b[38;5;28mself\u001b[39m\u001b[38;5;241m.\u001b[39m_affected_rows\n",
      "File \u001b[0;32m/opt/conda/lib/python3.10/site-packages/pymysql/connections.py:779\u001b[0m, in \u001b[0;36mConnection._read_query_result\u001b[0;34m(self, unbuffered)\u001b[0m\n\u001b[1;32m    777\u001b[0m \u001b[38;5;28;01melse\u001b[39;00m:\n\u001b[1;32m    778\u001b[0m     result \u001b[38;5;241m=\u001b[39m MySQLResult(\u001b[38;5;28mself\u001b[39m)\n\u001b[0;32m--> 779\u001b[0m     \u001b[43mresult\u001b[49m\u001b[38;5;241;43m.\u001b[39;49m\u001b[43mread\u001b[49m\u001b[43m(\u001b[49m\u001b[43m)\u001b[49m\n\u001b[1;32m    780\u001b[0m \u001b[38;5;28mself\u001b[39m\u001b[38;5;241m.\u001b[39m_result \u001b[38;5;241m=\u001b[39m result\n\u001b[1;32m    781\u001b[0m \u001b[38;5;28;01mif\u001b[39;00m result\u001b[38;5;241m.\u001b[39mserver_status \u001b[38;5;129;01mis\u001b[39;00m \u001b[38;5;129;01mnot\u001b[39;00m \u001b[38;5;28;01mNone\u001b[39;00m:\n",
      "File \u001b[0;32m/opt/conda/lib/python3.10/site-packages/pymysql/connections.py:1157\u001b[0m, in \u001b[0;36mMySQLResult.read\u001b[0;34m(self)\u001b[0m\n\u001b[1;32m   1155\u001b[0m \u001b[38;5;28;01mdef\u001b[39;00m \u001b[38;5;21mread\u001b[39m(\u001b[38;5;28mself\u001b[39m):\n\u001b[1;32m   1156\u001b[0m     \u001b[38;5;28;01mtry\u001b[39;00m:\n\u001b[0;32m-> 1157\u001b[0m         first_packet \u001b[38;5;241m=\u001b[39m \u001b[38;5;28;43mself\u001b[39;49m\u001b[38;5;241;43m.\u001b[39;49m\u001b[43mconnection\u001b[49m\u001b[38;5;241;43m.\u001b[39;49m\u001b[43m_read_packet\u001b[49m\u001b[43m(\u001b[49m\u001b[43m)\u001b[49m\n\u001b[1;32m   1159\u001b[0m         \u001b[38;5;28;01mif\u001b[39;00m first_packet\u001b[38;5;241m.\u001b[39mis_ok_packet():\n\u001b[1;32m   1160\u001b[0m             \u001b[38;5;28mself\u001b[39m\u001b[38;5;241m.\u001b[39m_read_ok_packet(first_packet)\n",
      "File \u001b[0;32m/opt/conda/lib/python3.10/site-packages/pymysql/connections.py:729\u001b[0m, in \u001b[0;36mConnection._read_packet\u001b[0;34m(self, packet_type)\u001b[0m\n\u001b[1;32m    727\u001b[0m     \u001b[38;5;28;01mif\u001b[39;00m \u001b[38;5;28mself\u001b[39m\u001b[38;5;241m.\u001b[39m_result \u001b[38;5;129;01mis\u001b[39;00m \u001b[38;5;129;01mnot\u001b[39;00m \u001b[38;5;28;01mNone\u001b[39;00m \u001b[38;5;129;01mand\u001b[39;00m \u001b[38;5;28mself\u001b[39m\u001b[38;5;241m.\u001b[39m_result\u001b[38;5;241m.\u001b[39munbuffered_active \u001b[38;5;129;01mis\u001b[39;00m \u001b[38;5;28;01mTrue\u001b[39;00m:\n\u001b[1;32m    728\u001b[0m         \u001b[38;5;28mself\u001b[39m\u001b[38;5;241m.\u001b[39m_result\u001b[38;5;241m.\u001b[39munbuffered_active \u001b[38;5;241m=\u001b[39m \u001b[38;5;28;01mFalse\u001b[39;00m\n\u001b[0;32m--> 729\u001b[0m     \u001b[43mpacket\u001b[49m\u001b[38;5;241;43m.\u001b[39;49m\u001b[43mraise_for_error\u001b[49m\u001b[43m(\u001b[49m\u001b[43m)\u001b[49m\n\u001b[1;32m    730\u001b[0m \u001b[38;5;28;01mreturn\u001b[39;00m packet\n",
      "File \u001b[0;32m/opt/conda/lib/python3.10/site-packages/pymysql/protocol.py:221\u001b[0m, in \u001b[0;36mMysqlPacket.raise_for_error\u001b[0;34m(self)\u001b[0m\n\u001b[1;32m    219\u001b[0m \u001b[38;5;28;01mif\u001b[39;00m DEBUG:\n\u001b[1;32m    220\u001b[0m     \u001b[38;5;28mprint\u001b[39m(\u001b[38;5;124m\"\u001b[39m\u001b[38;5;124merrno =\u001b[39m\u001b[38;5;124m\"\u001b[39m, errno)\n\u001b[0;32m--> 221\u001b[0m \u001b[43merr\u001b[49m\u001b[38;5;241;43m.\u001b[39;49m\u001b[43mraise_mysql_exception\u001b[49m\u001b[43m(\u001b[49m\u001b[38;5;28;43mself\u001b[39;49m\u001b[38;5;241;43m.\u001b[39;49m\u001b[43m_data\u001b[49m\u001b[43m)\u001b[49m\n",
      "File \u001b[0;32m/opt/conda/lib/python3.10/site-packages/pymysql/err.py:143\u001b[0m, in \u001b[0;36mraise_mysql_exception\u001b[0;34m(data)\u001b[0m\n\u001b[1;32m    141\u001b[0m \u001b[38;5;28;01mif\u001b[39;00m errorclass \u001b[38;5;129;01mis\u001b[39;00m \u001b[38;5;28;01mNone\u001b[39;00m:\n\u001b[1;32m    142\u001b[0m     errorclass \u001b[38;5;241m=\u001b[39m InternalError \u001b[38;5;28;01mif\u001b[39;00m errno \u001b[38;5;241m<\u001b[39m \u001b[38;5;241m1000\u001b[39m \u001b[38;5;28;01melse\u001b[39;00m OperationalError\n\u001b[0;32m--> 143\u001b[0m \u001b[38;5;28;01mraise\u001b[39;00m errorclass(errno, errval)\n",
      "\u001b[0;31mOperationalError\u001b[0m: (pymysql.err.OperationalError) (1054, \"Unknown column 't5.country' in 'field list'\")\n[SQL: SELECT t5.country, AVG(DATEDIFF(t5.shippedDate, t5.orderDate)) AS average_difference FROM orders t5 INNER JOIN customers t1 ON t5.customerNumber = t1.customerNumber GROUP BY 1 ORDER BY 2;;]\n(Background on this error at: https://sqlalche.me/e/20/e3q8)"
     ]
    }
   ],
   "source": [
    "hardest_text_to_sql = \"\"\"What is the average difference between order date and ship date grouped by the customer's country and ordered by the average difference?\"\"\"\n",
    "\n",
    "hardest_verbose_sql_query = get_sql_from_code_gen(project = PROJECT_ID, \n",
    "                      region = REGION,\n",
    "                      prompt = _prompt,\n",
    "                      question = hardest_text_to_sql,\n",
    "                      temperature = 0, \n",
    "                      max_output_tokens = 1024, \n",
    "                      model = \"code-bison@001\")\n",
    "print(hardest_verbose_sql_query)\n",
    "\n",
    "hardest_verbose_test_results = test_sql(hardest_verbose_sql_query)\n",
    "print(\"Query results: \", hardest_verbose_test_results)"
   ]
  },
  {
   "cell_type": "markdown",
   "id": "2ba7e341-4726-4fd2-8cfc-79d9d39806d8",
   "metadata": {},
   "source": [
    "### Make corrections"
   ]
  },
  {
   "cell_type": "code",
   "execution_count": 7,
   "id": "69695c4d-72ba-4221-b407-ccb77961a81c",
   "metadata": {},
   "outputs": [
    {
     "name": "stdout",
     "output_type": "stream",
     "text": [
      "[(10368, datetime.date(2005, 1, 19), datetime.date(2005, 1, 27), datetime.date(2005, 1, 24), 'Shipped', 'Can we renegotiate this one?', 124, 124, 'Mini Gifts Distributors Ltd.', 'Nelson', 'Susan', '4155551450', '5677 Strong St.', None, 'San Rafael', 'CA', '97562', 'USA', 1165, Decimal('210500.00'))]\n"
     ]
    }
   ],
   "source": [
    "corrected_sql_query = '''\n",
    "SELECT *\n",
    "FROM orders\n",
    "JOIN customers ON customers.customerNumber  = orders.customerNumber\n",
    "WHERE YEAR(orderdate) = \"2005\"\n",
    "AND country = \"USA\"\n",
    "LIMIT 1\n",
    "'''\n",
    "corrected_results = test_sql(corrected_sql_query)\n",
    "print(corrected_results)"
   ]
  },
  {
   "cell_type": "markdown",
   "id": "3622334c-9404-4f4e-abfa-e75d87b7d5f5",
   "metadata": {},
   "source": [
    "## Concise prompt design example from Google paper:\n",
    "\n",
    "![alt text](images/concise.png \"Title\")\n",
    "\n",
    "In order to get the concise schema design, we first need to query the INFORMATION_SCHEMA views to get the table and column details"
   ]
  },
  {
   "cell_type": "code",
   "execution_count": 8,
   "id": "85f932fe-70f9-41ad-b411-18e09893c1f0",
   "metadata": {},
   "outputs": [],
   "source": [
    "schema_value_generator = '''\n",
    "SELECT CONCAT('[Schema (values)]: ', '| ', table_schema, ' | ', GROUP_CONCAT(table_name, ' : ', table_column SEPARATOR ' | '), ';') as table_column\n",
    "FROM (\n",
    "SELECT table_schema, table_name, GROUP_CONCAT(column_name SEPARATOR ' , ') as table_column\n",
    "FROM  INFORMATION_SCHEMA.columns\n",
    "WHERE table_schema = @schema\n",
    "GROUP BY table_schema, table_name\n",
    "ORDER BY table_name) col\n",
    "GROUP BY table_schema;\n",
    "'''\n",
    "\n",
    "column_name_generator = '''\n",
    "SELECT CONCAT('[Column names (type)]: ', GROUP_CONCAT(CONCAT_WS('',table_name, ' : ',column_name,' (',data_type,')') SEPARATOR ' | '), ';') AS table_column\n",
    "FROM  INFORMATION_SCHEMA.columns\n",
    "WHERE table_schema = @schema\n",
    "ORDER BY table_column;\n",
    "'''\n",
    "\n",
    "primary_key_generator = '''\n",
    "SELECT CONCAT('[Primary Keys]: ', GROUP_CONCAT(CONCAT_WS(' : ', table_name , primary_key) SEPARATOR ' | '), ';') as table_column\n",
    "FROM (\n",
    "  SELECT table_name, GROUP_CONCAT(column_name) AS primary_key\n",
    "  FROM INFORMATION_SCHEMA.KEY_COLUMN_USAGE\n",
    "  WHERE TABLE_SCHEMA=@schema\n",
    "  AND CONSTRAINT_NAME='PRIMARY'\n",
    "  GROUP BY table_name, ordinal_position\n",
    "  ORDER BY table_name, primary_key) pk1;\n",
    "'''\n",
    "\n",
    "foreign_key_generator = '''\n",
    "SELECT CONCAT('[Foreign Keys]: ', GROUP_CONCAT(CONCAT(TABLE_NAME, ' : ',  COLUMN_NAME, ' equals ', REFERENCED_TABLE_NAME, ' : ', REFERENCED_COLUMN_NAME) SEPARATOR ' | ')) AS table_column\n",
    "FROM INFORMATION_SCHEMA.KEY_COLUMN_USAGE\n",
    "WHERE TABLE_SCHEMA=@schema \n",
    "AND CONSTRAINT_NAME LIKE '%ibfk%'\n",
    "ORDER BY table_column;\n",
    "'''"
   ]
  },
  {
   "cell_type": "markdown",
   "id": "6510b46d-e900-4e0a-84da-718a1e77c312",
   "metadata": {},
   "source": [
    "### Create a function to query the MySQL INFORMATION_SCHEMA views."
   ]
  },
  {
   "cell_type": "code",
   "execution_count": 9,
   "id": "771c36ff-c4cc-4b13-a14c-1c3cea281b2c",
   "metadata": {},
   "outputs": [],
   "source": [
    "def schema_generator(query: str, schema: str = 'classicmodels', group_concat_max_len: int = 102400):\n",
    "    \n",
    "\n",
    "    # initialize Connector object\n",
    "    connector = Connector()\n",
    "\n",
    "    # function to return the database connection object\n",
    "    def getconn():\n",
    "        conn = connector.connect(\n",
    "            INSTANCE_CONNECTION_NAME,\n",
    "            \"pymysql\",\n",
    "            user=DB_USER,\n",
    "            db=DB_NAME\n",
    "        )\n",
    "        return conn\n",
    "\n",
    "    # create connection pool with 'creator' argument to our connection object function\n",
    "    pool = sqlalchemy.create_engine(\n",
    "        \"mysql+pymysql://\",\n",
    "        creator=getconn,\n",
    "    )\n",
    "\n",
    "    # connect to connection pool\n",
    "    with pool.connect() as db_conn:\n",
    "        db_conn.execute(sqlalchemy.text(f\"SET @schema='{schema}';\"))\n",
    "        db_conn.execute(sqlalchemy.text(f\"SET SESSION group_concat_max_len = {group_concat_max_len};\"))\n",
    "        # query and fetch ratings table\n",
    "        results = db_conn.execute(sqlalchemy.text(query)).fetchall()\n",
    "        # show results\n",
    "        output_list = []\n",
    "        for row in results:\n",
    "            output_list.append(row.table_column)\n",
    "        \n",
    "    return output_list[0]\n",
    "\n",
    "schema_values = schema_generator(schema_value_generator)\n",
    "column_name_values = schema_generator(column_name_generator)\n",
    "primary_key_values = schema_generator(primary_key_generator)\n",
    "foreign_key_values = schema_generator(foreign_key_generator)"
   ]
  },
  {
   "cell_type": "markdown",
   "id": "0849613d-8c33-41f3-afcc-59b9a59347d0",
   "metadata": {},
   "source": [
    "### Create a combined prompt and request a SQL query"
   ]
  },
  {
   "cell_type": "code",
   "execution_count": 10,
   "id": "2fa56dda-9804-48a0-b5ff-c295f3ad887a",
   "metadata": {},
   "outputs": [
    {
     "name": "stdout",
     "output_type": "stream",
     "text": [
      "Prompt to send to code gen API: \n",
      "This is a task converting text into SQL statement. We will first given the dataset schema and then ask a question in text. You are asked to generate SQL statement.\n",
      "Here is the schema:\n",
      "[Schema (values)]: | classicmodels | customers : customerNumber , customerName , contactLastName , contactFirstName , phone , addressLine1 , addressLine2 , city , state , postalCode , country , salesRepEmployeeNumber , creditLimit | employees : employeeNumber , lastName , firstName , extension , email , officeCode , reportsTo , jobTitle | offices : officeCode , city , phone , addressLine1 , addressLine2 , state , country , postalCode , territory | orderdetails : orderNumber , productCode , quantityOrdered , priceEach , orderLineNumber | orders : orderNumber , orderDate , requiredDate , shippedDate , status , comments , customerNumber | payments : customerNumber , checkNumber , paymentDate , amount | productlines : productLine , textDescription , htmlDescription , image | products : productCode , productName , productLine , productScale , productVendor , productDescription , quantityInStock , buyPrice , MSRP;\n",
      "\n",
      "[Column names (type)]: customers : customerNumber (int) | customers : customerName (varchar) | customers : contactLastName (varchar) | customers : contactFirstName (varchar) | customers : phone (varchar) | customers : addressLine1 (varchar) | customers : addressLine2 (varchar) | customers : city (varchar) | customers : state (varchar) | customers : postalCode (varchar) | customers : country (varchar) | customers : salesRepEmployeeNumber (int) | customers : creditLimit (decimal) | employees : employeeNumber (int) | employees : lastName (varchar) | employees : firstName (varchar) | employees : extension (varchar) | employees : email (varchar) | employees : officeCode (varchar) | employees : reportsTo (int) | employees : jobTitle (varchar) | offices : officeCode (varchar) | offices : city (varchar) | offices : phone (varchar) | offices : addressLine1 (varchar) | offices : addressLine2 (varchar) | offices : state (varchar) | offices : country (varchar) | offices : postalCode (varchar) | offices : territory (varchar) | orderdetails : orderNumber (int) | orderdetails : productCode (varchar) | orderdetails : quantityOrdered (int) | orderdetails : priceEach (decimal) | orderdetails : orderLineNumber (smallint) | orders : orderNumber (int) | orders : orderDate (date) | orders : requiredDate (date) | orders : shippedDate (date) | orders : status (varchar) | orders : comments (text) | orders : customerNumber (int) | payments : customerNumber (int) | payments : checkNumber (varchar) | payments : paymentDate (date) | payments : amount (decimal) | productlines : productLine (varchar) | productlines : textDescription (varchar) | productlines : htmlDescription (mediumtext) | productlines : image (mediumblob) | products : productCode (varchar) | products : productName (varchar) | products : productLine (varchar) | products : productScale (varchar) | products : productVendor (varchar) | products : productDescription (text) | products : quantityInStock (smallint) | products : buyPrice (decimal) | products : MSRP (decimal);\n",
      "\n",
      "[Primary Keys]: customers : customerNumber | employees : employeeNumber | offices : officeCode | orderdetails : orderNumber | orderdetails : productCode | orders : orderNumber | payments : checkNumber | payments : customerNumber | productlines : productLine | products : productCode;\n",
      "\n",
      "[Foreign Keys]: customers : salesRepEmployeeNumber equals employees : employeeNumber | employees : reportsTo equals employees : employeeNumber | employees : officeCode equals offices : officeCode | orderdetails : orderNumber equals orders : orderNumber | orderdetails : productCode equals products : productCode | orders : customerNumber equals customers : customerNumber | payments : customerNumber equals customers : customerNumber | products : productLine equals productlines : productLine\n",
      "\n",
      "Let us take 4 example questions and turn them into a SQL statements about database classicmodels.  \n",
      "Here is an example: \n",
      "The question is: How many unique customers placed an order between 1/1/2004 and 1/31/2004? \n",
      "The corresponding SQL is: SELECT count(distinct t1.customerNumber) as distinct_customers FROM orders t5 INNER JOIN customers t1 ON t5.customerNumber = t1.customerNumber WHERE t5.orderDate BETWEEN '2004-01-01' AND '2004-01-31';\n",
      "Here is an example: \n",
      "The question is: What is the product name and price of the highest priced item that was ever purchased? \n",
      "The corresponding SQL is: SELECT t8.productName, t4.priceEach FROM orders t5 INNER JOIN orderdetails t4 ON t5.orderNumber = t4.orderNumber LEFT JOIN products t8 ON t4.productCode = t8.productCode ORDER BY priceEach DESC LIMIT 1;\n",
      "Here is an example: \n",
      "The question is: What is the name of the customer with the highest order amount on 12/1/2003? \n",
      "The corresponding SQL is: SELECT orders.customerName, orders.total_orderAmount FROM (SELECT t5.orderNumber, t1.customerNumber, t1.customerName, SUM(t4.quantityOrdered*t4.priceEach) as total_orderAmount FROM customers t1 INNER JOIN orders t5 ON t1.customerNumber = t5.customerNumber INNER JOIN orderdetails t4 ON t5.orderNumber = t4.orderNumber WHERE t5.orderDate = '2003-12-01' GROUP BY 1,2,3) orders ORDER BY total_orderAmount DESC LIMIT 1;\n",
      "Here is an example: \n",
      "The question is: How many unique orders were placed at the Paris office during the year 2004?\n",
      "The corresponding SQL is: SELECT count(distinct t5.orderNumber) as orders FROM orders t5 INNER JOIN customers t1 ON t5.customerNumber = t1.customerNumber LEFT JOIN employees t2 ON t1.salesRepEmployeeNumber = t2.employeeNumber LEFT JOIN offices t3 ON t2.officeCode = t3.officeCode WHERE YEAR(t5.orderDate) = 2004 AND t3.city = 'Paris';\n",
      "\n",
      "The question is: What were sales for the year 2005 by state filtered by customers based in USA?\n",
      "The corresponding SQL is: \n",
      "\n",
      "SELECT t1.state, SUM(t3.quantityOrdered * t3.priceEach) as sales FROM customers t1 INNER JOIN orders t2 ON t1.customerNumber = t2.customerNumber INNER JOIN orderdetails t3 ON t2.orderNumber = t3.orderNumber WHERE t1.country = 'USA' AND YEAR(t2.orderDate) = 2005 GROUP BY 1;\n"
     ]
    }
   ],
   "source": [
    "text_to_sql = \"\"\"What were sales for the year 2005 by state filtered by customers based in USA?\"\"\"\n",
    "concise_combined_prompt = f\"\"\"This is a task converting text into SQL statement. We will first given the dataset schema and then ask a question in text. You are asked to generate SQL statement.\n",
    "Here is the schema:\n",
    "{schema_values}\n",
    "\n",
    "{column_name_values}\n",
    "\n",
    "{primary_key_values}\n",
    "\n",
    "{foreign_key_values}\n",
    "\n",
    "{sql_gen_examples}\n",
    "\n",
    "The question is: {text_to_sql}\n",
    "The corresponding SQL is: \n",
    "\"\"\"\n",
    "print(f\"\"\"Prompt to send to code gen API: \\n{concise_combined_prompt}\"\"\")\n",
    "\n",
    "concise_sql_query = get_sql_from_code_gen(project = PROJECT_ID, \n",
    "                      region = REGION,\n",
    "                      prompt = concise_combined_prompt,\n",
    "                      temperature = 0.2, \n",
    "                      max_output_tokens = 1024, \n",
    "                      model = \"code-bison@001\")\n",
    "print(concise_sql_query)"
   ]
  },
  {
   "cell_type": "markdown",
   "id": "66fd3c8c-2d8b-4718-8d40-5c476adc6854",
   "metadata": {},
   "source": [
    "### Test the SQL query"
   ]
  },
  {
   "cell_type": "code",
   "execution_count": 11,
   "id": "777a8775-62df-4925-9240-6c8ad4108b8a",
   "metadata": {},
   "outputs": [
    {
     "name": "stdout",
     "output_type": "stream",
     "text": [
      "[('CA', Decimal('378973.82')), ('PA', Decimal('5849.44')), ('CT', Decimal('28500.78')), ('MA', Decimal('117730.73')), ('NJ', Decimal('43525.04'))]\n"
     ]
    }
   ],
   "source": [
    "concise_test_results = test_sql(concise_sql_query)\n",
    "print(concise_test_results)"
   ]
  },
  {
   "cell_type": "markdown",
   "id": "03065b5c-5061-4517-9b77-f4aaa99bb219",
   "metadata": {},
   "source": [
    "### Make corrections"
   ]
  },
  {
   "cell_type": "code",
   "execution_count": 12,
   "id": "a9d92e62-9dea-4da4-af2b-f74d1fd4c7b1",
   "metadata": {},
   "outputs": [
    {
     "name": "stdout",
     "output_type": "stream",
     "text": [
      "[(10368, datetime.date(2005, 1, 19), datetime.date(2005, 1, 27), datetime.date(2005, 1, 24), 'Shipped', 'Can we renegotiate this one?', 124, 124, 'Mini Gifts Distributors Ltd.', 'Nelson', 'Susan', '4155551450', '5677 Strong St.', None, 'San Rafael', 'CA', '97562', 'USA', 1165, Decimal('210500.00'))]\n"
     ]
    }
   ],
   "source": [
    "corrected_sql_query = '''\n",
    "SELECT *\n",
    "FROM orders\n",
    "JOIN customers ON customers.customerNumber  = orders.customerNumber\n",
    "WHERE YEAR(orderdate) = \"2005\"\n",
    "AND country = \"USA\"\n",
    "LIMIT 1\n",
    "'''\n",
    "corrected_results = test_sql(corrected_sql_query)\n",
    "print(corrected_results)"
   ]
  },
  {
   "cell_type": "markdown",
   "id": "0e2acd72-e796-425c-9f22-4d80477b7252",
   "metadata": {},
   "source": [
    "## Tips to enhance your prompt-engineering abilities\n",
    "1. Know the model’s strengths and weaknesses\n",
    "    * It's recommended that a human is involved when the Codey APIs are used. Outputs of solutions created with the Codey APIs should be comprehensively tested before the solutions are used by customers in production.\n",
    "    * Code generated by the Codey APIs is not intended or designed to be a replacement for code development.\n",
    "    * We recommend that you don't use the Codey APIs to implement solutions for sensitive industries, such as cybersecurity and hacking prevention.\n",
    "2. Be as specific as possible\n",
    "    * If you know the specific tables or columns of interest, provide them as context.\n",
    "    * If there is unique business logic for your business (e.g. sales = units * price), provide this.\n",
    "    * Providing the SQL type and version is a best practice for returning the correct SQL syntax.\n",
    "3. Utilize contextual prompts\n",
    "    * Contextual prompts can include the specific task you want the model to perform and a replica of the output you're looking for.\n",
    "    * To minimize hallucinations, provide as much contextual information as reasonably possible, and if possible, use fine-tuning. \n",
    "4. Provide AI models with examples\n",
    "    * Provide a few question/answer examples so the model learns how to interact with the tables. Use the codechat-model to generate questions for you based on the schema.\n",
    "5. Experiment with prompts and personas\n",
    "    * Try experimenting with different sentence structures in the prompt. Organizing the prompt with the filtering, grouping, and aggregation components together could help improve query generation capabilities.\n",
    "6. Try chain-of-thought prompting\n",
    "    * Chain of thought prompting is a technique for improving the reasoning capabilities of large language models (LLMs). It works by breaking down a complex problem into smaller steps, and then prompting the LLM to provide intermediate reasoning for each step. This helps the LLM to understand the problem more deeply, and to generate more accurate and informative answers. This will help you to understand the answer better and to make sure that the LLM is actually understanding the problem."
   ]
  },
  {
   "cell_type": "code",
   "execution_count": null,
   "id": "3f3105e5-7677-45c0-a168-b496c2b736ee",
   "metadata": {},
   "outputs": [],
   "source": []
  },
  {
   "cell_type": "code",
   "execution_count": null,
   "id": "2f7faf11-189a-47c1-aeb1-72b92c3481f2",
   "metadata": {},
   "outputs": [],
   "source": []
  },
  {
   "cell_type": "markdown",
   "id": "b815a4d0-1698-46c2-803f-36c657b7acd3",
   "metadata": {},
   "source": [
    "## **Bonus**: We can also interact with the Code Chat API to see if it can generate questions for us.\n",
    "* This could be useful for generating a lot of questions/answers about the database and creating embeddings of the questions. A vector database like Vertex Matching Engine could store the question embeddings for future similarity matching and query retrieval/execution.\n",
    "* Additionally, while fine-tuning code-bison is not possible today it is in the roadmap and this workflow could be used to generate lots of example question/answers."
   ]
  },
  {
   "cell_type": "markdown",
   "id": "cba934bc-678e-489b-a8f4-640c36bb2542",
   "metadata": {},
   "source": [
    "Initialize model"
   ]
  },
  {
   "cell_type": "code",
   "execution_count": 14,
   "id": "177cf845-61b7-4d1f-9a83-f33674b23758",
   "metadata": {},
   "outputs": [],
   "source": [
    "vertexai.init(project=PROJECT_ID, location=REGION)\n",
    "parameters = {\n",
    "    \"temperature\": 0.2,\n",
    "    \"max_output_tokens\": 1024\n",
    "}\n",
    "code_chat_model = CodeChatModel.from_pretrained(\"codechat-bison@001\")"
   ]
  },
  {
   "cell_type": "code",
   "execution_count": 15,
   "id": "384277c5-8341-41a8-9e7c-ffd9210218f0",
   "metadata": {},
   "outputs": [],
   "source": [
    "prefix_schema_prompt = \"\"\"Generate a list of 10 questions about this schema that can be answered with SQL queries:\"\"\""
   ]
  },
  {
   "cell_type": "code",
   "execution_count": 16,
   "id": "bf61f624-6688-400f-8972-f406f840f436",
   "metadata": {},
   "outputs": [
    {
     "name": "stdout",
     "output_type": "stream",
     "text": [
      "Generate a list of 10 questions about this schema that can be answered with SQL queries:\n",
      "    There are 8 tables in database classicmodels. The titles of the tables are: customers, employees, offices, orderdetails, orders, payments, productlines, products. \n",
      "Table 1 is customers, and it contains customer’s data. Its column names and types are customerNumber (Type is int), customerName (Type is varchar), contactLastName (Type is varchar), contactFirstName (Type is varchar), phone (Type is varchar), addressLine1 (Type is varchar), addressLine2 (Type is varchar), city (Type is varchar), state (Type is varchar), postalCode (Type is varchar), country (Type is varchar), salesRepEmployeeNumber (Type is int), creditLimit (Type is decimal).\n",
      "Table 2 is employees, and it contains all employee information as well as the organization structure such as who reports to whom. Its column names and types are employeeNumber (Type is int), lastName (Type is varchar), firstName (Type is varchar), extension (Type is varchar), email (Type is varchar), officeCode (Type is varchar), reportsTo (Type is int), jobTitle (Type is varchar).\n",
      "Table 3 is offices, and it contains sales office data. Its column names and types are officeCode (Type is varchar), city (Type is varchar), phone (Type is varchar), addressLine1 (Type is varchar), addressLine2 (Type is varchar), state (Type is varchar), country (Type is varchar), postalCode (Type is varchar), territory (Type is varchar).\n",
      "Table 4 is orderdetails, and it contains sales order line items for each sales order. Its column names and types are orderNumber (Type is int), productCode (Type is varchar), quantityOrdered (Type is int), priceEach (Type is decimal), orderLineNumber (Type is smallint).\n",
      "Table 5 is orders, and it contains sales orders placed by customers. Its column names and types are orderNumber (Type is int), orderDate (Type is date), requiredDate (Type is date), shippedDate (Type is date), status (Type is varchar), comments (Type is text), customerNumber (Type is int).\n",
      "Table 6 is payments, and it contains payments made by customers based on their accounts. Its column names and types are customerNumber (Type is int), checkNumber (Type is varchar), paymentDate (Type is date), amount (Type is decimal).\n",
      "Table 7 is productlines, and it contains a list of product line categories. Its column names and types are productLine (Type is varchar), textDescription (Type os varchar), htmlDescription (Type is mediumtext), image (Type is mediumblob).\n",
      "Table 8 is products, and it contains a list of scale model cars. Its column names and types are productCode (Type is varchar), productName (Type is varchar), productLine (Type is varchar), productScale (Type is varchar), productVendor (Type is varchar), productDescription (Type is text), quantityInStock (Type is smallint), buyPrice (Type is decimal), MSRP (Type is decimal).\n",
      "The primary keys are: customerNumber from Table customers, employeeNumber from Table employees,\n",
      "officeCode from Table offices, orderNumber and productCode from Table orderdetails, orderNumber from Table orders, customerNumber and checkNumber from Table payments, productLine from Table productlines, productCode from Table products.\n",
      "The foreign keys are: salesRepEmployeeNumber from Table customers is equivalent with employeeNumber from Table employees, officeCode from Table employees is equivalent with officeCode from table offices, reportsTo from Table employees is equivalent with employeeNumber from Table employees, customerNumber from Table orders is equivalent with customerNumber from Table customers, productLine from Table products is equivelent with productLine from Table productLines. Use foreign keys to join Tables. \n",
      "    The questions are: \n"
     ]
    }
   ],
   "source": [
    "print(f\"\"\"{prefix_schema_prompt}\n",
    "    {schema_prompt}\n",
    "    The questions are: \"\"\")"
   ]
  },
  {
   "cell_type": "code",
   "execution_count": 17,
   "id": "37e30003-15b6-462f-950c-f2061bdd2aaf",
   "metadata": {},
   "outputs": [
    {
     "name": "stdout",
     "output_type": "stream",
     "text": [
      "Response from Model: Here are 10 questions that can be answered with SQL queries on this schema:\n",
      "\n",
      "1. What is the total sales for each product line?\n",
      "2. Which employee has the highest sales?\n",
      "3. What is the average order size?\n",
      "4. Which customers have made the most orders?\n",
      "5. What is the most popular product?\n",
      "6. What is the least popular product?\n",
      "7. Which office has the most employees?\n",
      "8. Which city has the most customers?\n",
      "9. What is the most recent order?\n",
      "10. What is the oldest order?\n",
      "\n",
      "These are just a few examples of the many questions that can be answered with SQL queries on this schema. By using SQL, you can quickly and easily find the information you need to make informed decisions about your business.\n"
     ]
    }
   ],
   "source": [
    "chat = code_chat_model.start_chat()\n",
    "\n",
    "response = chat.send_message(\n",
    "        f\"\"\"{prefix_schema_prompt}\n",
    "        {schema_prompt}\n",
    "        The questions are: \"\"\", **parameters\n",
    ")\n",
    "    \n",
    "response_text = response.text\n",
    "print(f\"Response from Model: {response_text}\")"
   ]
  },
  {
   "cell_type": "code",
   "execution_count": null,
   "id": "dde6d3d9-d5a0-4913-a0da-a2cfbd8bbe6c",
   "metadata": {},
   "outputs": [],
   "source": []
  }
 ],
 "metadata": {
  "environment": {
   "kernel": "python3",
   "name": "common-cpu.m109",
   "type": "gcloud",
   "uri": "gcr.io/deeplearning-platform-release/base-cpu:m109"
  },
  "kernelspec": {
   "display_name": "Python 3",
   "language": "python",
   "name": "python3"
  },
  "language_info": {
   "codemirror_mode": {
    "name": "ipython",
    "version": 3
   },
   "file_extension": ".py",
   "mimetype": "text/x-python",
   "name": "python",
   "nbconvert_exporter": "python",
   "pygments_lexer": "ipython3",
   "version": "3.10.11"
  }
 },
 "nbformat": 4,
 "nbformat_minor": 5
}
